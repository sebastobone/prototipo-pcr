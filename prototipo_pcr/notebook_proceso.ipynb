{
 "cells": [
  {
   "attachments": {},
   "cell_type": "markdown",
   "metadata": {},
   "source": [
    "#### Info\n",
    "Este notebook explica los conceptos y el proceso de reservas RPND y PCR-CP que se busca replicar con base en las definiciones \n",
    "realizadas por los equipos de actuaría y de gestión contable del proyecto feniX IFRS17. Los datos utilizados son de muestra y no reflejan movimientos ni nombres/códigos reales en los sistemas de información, las columnas se nombraron de forma descriptiva y deben conectarse con las definiciones en las HU de entradas."
   ]
  },
  {
   "cell_type": "code",
   "execution_count": 1,
   "metadata": {},
   "outputs": [
    {
     "name": "stdout",
     "output_type": "stream",
     "text": [
      ".when([(col(\"nivel_detalle\")) == (\"recibo\")]).then(col(\"fecha_inicio_vigencia_recibo\")).otherwise(.when([(col(\"nivel_detalle\")) == (\"cobertura\")]).then(col(\"fecha_inicio_vigencia_cobertura\")).otherwise(null))\n"
     ]
    }
   ],
   "source": [
    "import src.parametros as p\n",
    "import src.aux_tools as aux_tools\n",
    "import src.prep_insumo as prep_data\n",
    "import src.devenga as devg\n",
    "import src.fluctuacion as fluc\n",
    "import src.mapeo_contable as mapcont\n",
    "import polars as pl\n",
    "\n",
    "\n",
    "# lee los parámetros e insumos relevantes\n",
    "FECHA_VALORACION = p.FECHA_VALORACION\n",
    "FECHA_VALORACION_ANTERIOR = p.FECHA_VALORACION_ANTERIOR\n",
    "FECHA_TRANSICION = p.FECHA_TRANSICION\n",
    "# Insumos transversales\n",
    "param_contab = pl.read_excel(p.RUTA_INSUMOS, sheet_name=p.HOJA_PARAMETROS_CONTAB).filter(\n",
    "    pl.col('estado_insumo') == 1)   # Solo se usan las configuraciones activas (1)\n",
    "excepciones = pl.read_excel(p.RUTA_INSUMOS, sheet_name=p.HOJA_EXCEPCIONES_50_50)\n",
    "gasto = pl.read_excel(p.RUTA_INSUMOS, sheet_name=p.HOJA_GASTO)\n",
    "tasa_cambio = pl.read_excel(p.RUTA_INSUMOS, sheet_name=p.HOJA_MONEDA)\n",
    "descuentos = pl.read_excel(p.RUTA_INSUMOS, sheet_name=p.HOJA_DESCUENTO)\n",
    "# El diccionario o tabla de correspondencia de outputs con entradas contables\n",
    "input_map_bts = pl.read_excel(p.RUTA_REL_BT)\n",
    "input_tipo_seguro = pl.read_excel(p.RUTA_INSUMOS, sheet_name=p.HOJA_TIPO_SEGURO)\n",
    "# Insumos de cuenta corriente y cartera\n",
    "# input_cuentas_reaseguro = pl.read_excel(p.RUTA_INSUMOS, sheet_name=p.HOJA_CUENTAS_REA)\n",
    "# Insumo de riesgo de credito reaseguradores\n",
    "input_riesgo_credito = pl.read_excel(p.RUTA_RIESGO_CREDITO)\n",
    "\n",
    "# Insumos de recibos contabilizados en SAP\n",
    "produccion_dir = pl.read_excel(p.RUTA_INSUMOS, sheet_name=p.HOJA_PDN)\n",
    "cesion_rea = pl.read_excel(p.RUTA_INSUMOS, sheet_name=p.HOJA_CESION)\n",
    "comision_rea = pl.read_excel(p.RUTA_INSUMOS, sheet_name=p.HOJA_COMISION_REA)\n",
    "costo_contrato_rea = pl.read_excel(p.RUTA_INSUMOS, sheet_name=p.HOJA_COSTO_CONTRATO)\n",
    "seguimiento_rea = pl.read_excel(p.RUTA_INSUMOS, sheet_name=p.HOJA_SEGUIMIENTO_REA)"
   ]
  },
  {
   "attachments": {},
   "cell_type": "markdown",
   "metadata": {},
   "source": [
    "# PCR CP - Provisión de Cobertura Remanente Corto Plazo\n",
    "\n",
    "La provisión de cobertura remanente se define bajo IFRS17 como una reserva que representa el valor correspondiente al riesgo futuro no corrido bajo un contrato de seguros.\n",
    "La reserva puede representar un pasivo (una obligación de la aseguradora) o un activo (un derecho de la aseguradora) dependiendo del tipo de contrato.\n",
    "\n",
    "Se puede entender como el valor de la prima del seguro que debe tenerse guardado por parte del asegurador en cada momento para responder por siniestros que aún no han ocurrido y, en caso de que el contrato se cancele durante la vigencia, este valor se le debe devolver al tomador del seguro.\n",
    "\n",
    "En corto plazo (contratos con duración de hasta 1 año), bajo IFRS17 se permite la simplificación de la reserva al esquema de medición de Asignación de Primas (PAA), es decir, se toma la prima del contrato y se reserva desde su emisión hasta el fin de vigencia del contrato, asignando a cada periodo contable (mes) la porción correspondiente de la prima según el riesgo transcurrido en ése periodo. Este esquema, es equivalente al utilizado para medir la reserva de prima no devengada RPND bajo IFRS4.\n",
    "\n",
    "## Saldo de Reserva:\n",
    "El saldo es el valor de la reserva en el momento de medición o valoración t.\n",
    "$$ \\text{Saldo} = \\text{Prima} \\times \\%\\text{Riesgo no corrido}_t $$\n",
    "\n",
    "## Movimientos de Reserva:\n",
    "La reserva debe ser suficiente y ajustada al riesgo futuro en cada momento de medición o valoración t, por lo tanto, mensualmente, en cada cierre se realizan movimientos de constitución (incrementar reserva) o de liberación (reducir reserva) para ajustarla al momento de la medición. \n",
    "\n",
    "- Los signos de los movimientos de constitución son opuestos a los de los movimientos de liberación para un mismo componente.\n",
    "- La constitución se realiza solo en el momento en que se emite la prima y es el nacimiento de la reserva\n",
    "- La liberación se hace en cada momento t mientras la póliza esté vigente:\n",
    "\n",
    "$$ \\text{liberacion} = \\text{Prima} \\times \\%\\text{Riesgo corrido en el mes}_t $$\n"
   ]
  },
  {
   "attachments": {},
   "cell_type": "markdown",
   "metadata": {},
   "source": [
    "# 1. Preparación de Insumos para el Devengamiento\n",
    "\n",
    "Los insumos de la PCR pueden variar porque tiene varios componentes internos que, por definición metodológica, se requerirán por separado para adapatarse a los diferentes estándares contables y poderlos agregar o desagregar. Sin embargo, el cálculo de devengamiento tiene una lógica común para todos los componentes, con algunas excepciones de reglas, omisiones de cálculo o nivel de detalle que se consideran parametrizables. \n",
    "\n",
    "Por lo tanto, el objetivo de la preparación de insumos es aplicar los pasos a los datos de entrada para asignarle a cada entrada las variables que recibe el devengamiento (fecha_constitucion, fecha_inicio_devengo, fecha_fin_devengo, valor_base_devengo) y el tipo de método (diario o regla del 50%).\n",
    "\n",
    "Cada tipo de insumo que define un componente relevante para la PCR tiene una función de preparación para ser explícitos en los pasos aplicables según corresponda."
   ]
  },
  {
   "attachments": {},
   "cell_type": "markdown",
   "metadata": {},
   "source": [
    "## 1.1. PCR del Seguro Directo\n",
    "La PCR del seguro directo representa una reserva para la aseguradora, pues debo guardar la parte de la prima correspondiente al servicio que todavía no se ha prestado. Tiene varios componentes internos que deben medirse por separado según el estándar de contabilidad y afecta según el signo (-) incrementa el saldo de reserva y (+) disminuye el saldo de reserva:\n",
    "\n",
    "- PCR de prima emitida (-)\n",
    "- PCR del gasto de adquisición por comisiones (+)\n",
    "- PCR del gasto de adquisición por otros conceptos (+)\n",
    "- PCR del descuento comercial (-)"
   ]
  },
  {
   "attachments": {},
   "cell_type": "markdown",
   "metadata": {},
   "source": [
    "### Componente de Prima Emitida"
   ]
  },
  {
   "cell_type": "code",
   "execution_count": 2,
   "metadata": {},
   "outputs": [
    {
     "data": {
      "text/html": [
       "<div><style>\n",
       ".dataframe > thead > tr,\n",
       ".dataframe > tbody > tr {\n",
       "  text-align: right;\n",
       "  white-space: pre-wrap;\n",
       "}\n",
       "</style>\n",
       "<small>shape: (51, 31)</small><table border=\"1\" class=\"dataframe\"><thead><tr><th>aux_casuistica</th><th>tipo_insumo</th><th>tipo_negocio</th><th>poliza</th><th>fecha_expedicion_poliza</th><th>recibo</th><th>amparo</th><th>poliza_certificado</th><th>compania</th><th>ramo_sura</th><th>canal</th><th>producto</th><th>tipo_op</th><th>moneda</th><th>fecha_contabilizacion_recibo</th><th>fecha_inicio_vigencia_recibo</th><th>fecha_fin_vigencia_recibo</th><th>fecha_inicio_vigencia_cobertura</th><th>fecha_fin_vigencia_cobertura</th><th>valor_prima_emitida</th><th>tipo_contabilidad</th><th>componente</th><th>tipo_contrato</th><th>nivel_detalle</th><th>signo_constitucion</th><th>candidato_devengo_50_50</th><th>fecha_inicio_vigencia</th><th>fecha_constitucion</th><th>fecha_inicio_devengo</th><th>fecha_fin_devengo</th><th>valor_base_devengo</th></tr><tr><td>str</td><td>str</td><td>str</td><td>i64</td><td>date</td><td>i64</td><td>str</td><td>i64</td><td>str</td><td>str</td><td>str</td><td>str</td><td>str</td><td>str</td><td>date</td><td>date</td><td>date</td><td>date</td><td>date</td><td>f64</td><td>str</td><td>str</td><td>str</td><td>str</td><td>i64</td><td>i32</td><td>date</td><td>date</td><td>date</td><td>date</td><td>f64</td></tr></thead><tbody><tr><td>&quot;modificacion_valorable_autos&quot;</td><td>&quot;produccion_directo&quot;</td><td>&quot;directo&quot;</td><td>323423423</td><td>2024-01-30</td><td>2938433191</td><td>&quot;DANOS&quot;</td><td>323423843</td><td>&quot;01&quot;</td><td>&quot;040&quot;</td><td>&quot;sucursal&quot;</td><td>&quot;plan_basico&quot;</td><td>&quot;modificacion_valorable&quot;</td><td>&quot;COP&quot;</td><td>2024-01-30</td><td>2024-01-30</td><td>2024-02-15</td><td>2024-01-30</td><td>2024-02-15</td><td>50.0</td><td>&quot;ifrs17_local&quot;</td><td>&quot;prima&quot;</td><td>&quot;directo&quot;</td><td>&quot;cobertura&quot;</td><td>-1</td><td>0</td><td>2024-01-30</td><td>2024-01-30</td><td>2024-01-30</td><td>2024-02-15</td><td>50.0</td></tr><tr><td>&quot;mensual_mes_fin&quot;</td><td>&quot;produccion_directo&quot;</td><td>&quot;directo&quot;</td><td>345675387</td><td>2024-02-20</td><td>2938431543</td><td>&quot;HURTO&quot;</td><td>345675807</td><td>&quot;01&quot;</td><td>&quot;040&quot;</td><td>&quot;sucursal&quot;</td><td>&quot;plan_2&quot;</td><td>&quot;emision&quot;</td><td>&quot;COP&quot;</td><td>2024-02-20</td><td>2024-01-15</td><td>2024-02-15</td><td>2024-01-15</td><td>2024-02-15</td><td>100.0</td><td>&quot;ifrs17_local&quot;</td><td>&quot;prima&quot;</td><td>&quot;directo&quot;</td><td>&quot;cobertura&quot;</td><td>-1</td><td>0</td><td>2024-01-15</td><td>2024-02-20</td><td>2024-02-20</td><td>2024-02-15</td><td>100.0</td></tr><tr><td>&quot;modificacion_valorable_autos&quot;</td><td>&quot;produccion_directo&quot;</td><td>&quot;directo&quot;</td><td>323423423</td><td>2024-01-30</td><td>2938433191</td><td>&quot;DANOS&quot;</td><td>323423843</td><td>&quot;01&quot;</td><td>&quot;040&quot;</td><td>&quot;sucursal&quot;</td><td>&quot;plan_basico&quot;</td><td>&quot;modificacion_valorable&quot;</td><td>&quot;COP&quot;</td><td>2024-01-30</td><td>2024-01-30</td><td>2024-02-15</td><td>2024-01-30</td><td>2024-02-15</td><td>50.0</td><td>&quot;ifrs4&quot;</td><td>&quot;prima&quot;</td><td>&quot;directo&quot;</td><td>&quot;recibo&quot;</td><td>-1</td><td>0</td><td>2024-01-30</td><td>2024-01-30</td><td>2024-01-30</td><td>2024-02-15</td><td>50.0</td></tr><tr><td>&quot;mensual_mes_fin&quot;</td><td>&quot;produccion_directo&quot;</td><td>&quot;directo&quot;</td><td>345675387</td><td>2024-02-20</td><td>2938431543</td><td>&quot;HURTO&quot;</td><td>345675807</td><td>&quot;01&quot;</td><td>&quot;040&quot;</td><td>&quot;sucursal&quot;</td><td>&quot;plan_2&quot;</td><td>&quot;emision&quot;</td><td>&quot;COP&quot;</td><td>2024-02-20</td><td>2024-01-15</td><td>2024-02-15</td><td>2024-01-15</td><td>2024-02-15</td><td>100.0</td><td>&quot;ifrs4&quot;</td><td>&quot;prima&quot;</td><td>&quot;directo&quot;</td><td>&quot;recibo&quot;</td><td>-1</td><td>1</td><td>2024-01-15</td><td>2024-02-20</td><td>2024-02-20</td><td>2024-02-15</td><td>100.0</td></tr><tr><td>&quot;modificacion_valorable_autos&quot;</td><td>&quot;produccion_directo&quot;</td><td>&quot;directo&quot;</td><td>323423423</td><td>2024-01-30</td><td>2938433191</td><td>&quot;DANOS&quot;</td><td>323423843</td><td>&quot;01&quot;</td><td>&quot;040&quot;</td><td>&quot;sucursal&quot;</td><td>&quot;plan_basico&quot;</td><td>&quot;modificacion_valorable&quot;</td><td>&quot;COP&quot;</td><td>2024-01-30</td><td>2024-01-30</td><td>2024-02-15</td><td>2024-01-30</td><td>2024-02-15</td><td>50.0</td><td>&quot;ifrs17_corporativo&quot;</td><td>&quot;prima&quot;</td><td>&quot;directo&quot;</td><td>&quot;cobertura&quot;</td><td>-1</td><td>0</td><td>2024-01-30</td><td>2024-01-30</td><td>2024-01-30</td><td>2024-02-15</td><td>50.0</td></tr><tr><td>&hellip;</td><td>&hellip;</td><td>&hellip;</td><td>&hellip;</td><td>&hellip;</td><td>&hellip;</td><td>&hellip;</td><td>&hellip;</td><td>&hellip;</td><td>&hellip;</td><td>&hellip;</td><td>&hellip;</td><td>&hellip;</td><td>&hellip;</td><td>&hellip;</td><td>&hellip;</td><td>&hellip;</td><td>&hellip;</td><td>&hellip;</td><td>&hellip;</td><td>&hellip;</td><td>&hellip;</td><td>&hellip;</td><td>&hellip;</td><td>&hellip;</td><td>&hellip;</td><td>&hellip;</td><td>&hellip;</td><td>&hellip;</td><td>&hellip;</td><td>&hellip;</td></tr><tr><td>&quot;terremoto&quot;</td><td>&quot;produccion_directo&quot;</td><td>&quot;directo&quot;</td><td>130534534</td><td>2024-01-30</td><td>5340312414</td><td>&quot;TERREMOTO&quot;</td><td>425544224</td><td>&quot;01&quot;</td><td>&quot;130&quot;</td><td>&quot;sucursal&quot;</td><td>&quot;plan_1&quot;</td><td>&quot;emision&quot;</td><td>&quot;COP&quot;</td><td>2024-01-30</td><td>2024-01-30</td><td>2025-01-30</td><td>2024-01-30</td><td>2025-01-30</td><td>1200.0</td><td>&quot;ifrs4&quot;</td><td>&quot;prima&quot;</td><td>&quot;directo&quot;</td><td>&quot;recibo&quot;</td><td>-1</td><td>1</td><td>2024-01-30</td><td>2024-01-30</td><td>2024-01-30</td><td>2025-01-30</td><td>1200.0</td></tr><tr><td>&quot;anual_pre_vigencia&quot;</td><td>&quot;produccion_directo&quot;</td><td>&quot;directo&quot;</td><td>763894523</td><td>2024-01-15</td><td>2938433603</td><td>&quot;HOSPITALARIO&quot;</td><td>763894943</td><td>&quot;02&quot;</td><td>&quot;091&quot;</td><td>&quot;sucursal&quot;</td><td>&quot;plan_3&quot;</td><td>&quot;emision&quot;</td><td>&quot;COP&quot;</td><td>2024-01-15</td><td>2024-01-16</td><td>2025-01-15</td><td>2024-01-16</td><td>2025-01-15</td><td>1000.0</td><td>&quot;ifrs17_corporativo&quot;</td><td>&quot;prima&quot;</td><td>&quot;directo&quot;</td><td>&quot;cobertura&quot;</td><td>-1</td><td>0</td><td>2024-01-16</td><td>2024-01-15</td><td>2024-01-16</td><td>2025-01-15</td><td>1000.0</td></tr><tr><td>&quot;modificacion_valorable&quot;</td><td>&quot;produccion_directo&quot;</td><td>&quot;directo&quot;</td><td>763894523</td><td>2024-01-30</td><td>2938433603</td><td>&quot;HOSPITALARIO&quot;</td><td>763894943</td><td>&quot;02&quot;</td><td>&quot;091&quot;</td><td>&quot;sucursal&quot;</td><td>&quot;plan_3&quot;</td><td>&quot;modificacion_valorable&quot;</td><td>&quot;COP&quot;</td><td>2024-01-30</td><td>2024-01-30</td><td>2024-02-15</td><td>2024-01-30</td><td>2024-02-15</td><td>200.0</td><td>&quot;ifrs17_corporativo&quot;</td><td>&quot;prima&quot;</td><td>&quot;directo&quot;</td><td>&quot;cobertura&quot;</td><td>-1</td><td>0</td><td>2024-01-30</td><td>2024-01-30</td><td>2024-01-30</td><td>2024-02-15</td><td>200.0</td></tr><tr><td>&quot;modificacion_valorable&quot;</td><td>&quot;produccion_directo&quot;</td><td>&quot;directo&quot;</td><td>763894523</td><td>2024-01-30</td><td>2938434126</td><td>&quot;HOSPITALARIO&quot;</td><td>763894943</td><td>&quot;02&quot;</td><td>&quot;091&quot;</td><td>&quot;sucursal&quot;</td><td>&quot;plan_1&quot;</td><td>&quot;modificacion_valorable&quot;</td><td>&quot;COP&quot;</td><td>2024-07-15</td><td>2024-07-15</td><td>2025-01-15</td><td>2024-07-15</td><td>2025-01-15</td><td>50.0</td><td>&quot;ifrs17_corporativo&quot;</td><td>&quot;prima&quot;</td><td>&quot;directo&quot;</td><td>&quot;cobertura&quot;</td><td>-1</td><td>0</td><td>2024-07-15</td><td>2024-07-15</td><td>2024-07-15</td><td>2025-01-15</td><td>50.0</td></tr><tr><td>&quot;terremoto&quot;</td><td>&quot;produccion_directo&quot;</td><td>&quot;directo&quot;</td><td>130534534</td><td>2024-01-30</td><td>5340312414</td><td>&quot;TERREMOTO&quot;</td><td>425544224</td><td>&quot;01&quot;</td><td>&quot;130&quot;</td><td>&quot;sucursal&quot;</td><td>&quot;plan_1&quot;</td><td>&quot;emision&quot;</td><td>&quot;COP&quot;</td><td>2024-01-30</td><td>2024-01-30</td><td>2025-01-30</td><td>2024-01-30</td><td>2025-01-30</td><td>1200.0</td><td>&quot;ifrs17_corporativo&quot;</td><td>&quot;prima&quot;</td><td>&quot;directo&quot;</td><td>&quot;cobertura&quot;</td><td>-1</td><td>0</td><td>2024-01-30</td><td>2024-01-30</td><td>2024-01-30</td><td>2025-01-30</td><td>1200.0</td></tr></tbody></table></div>"
      ],
      "text/plain": [
       "shape: (51, 31)\n",
       "┌───────────┬───────────┬───────────┬───────────┬───┬───────────┬───────────┬───────────┬──────────┐\n",
       "│ aux_casui ┆ tipo_insu ┆ tipo_nego ┆ poliza    ┆ … ┆ fecha_con ┆ fecha_ini ┆ fecha_fin ┆ valor_ba │\n",
       "│ stica     ┆ mo        ┆ cio       ┆ ---       ┆   ┆ stitucion ┆ cio_deven ┆ _devengo  ┆ se_deven │\n",
       "│ ---       ┆ ---       ┆ ---       ┆ i64       ┆   ┆ ---       ┆ go        ┆ ---       ┆ go       │\n",
       "│ str       ┆ str       ┆ str       ┆           ┆   ┆ date      ┆ ---       ┆ date      ┆ ---      │\n",
       "│           ┆           ┆           ┆           ┆   ┆           ┆ date      ┆           ┆ f64      │\n",
       "╞═══════════╪═══════════╪═══════════╪═══════════╪═══╪═══════════╪═══════════╪═══════════╪══════════╡\n",
       "│ modificac ┆ produccio ┆ directo   ┆ 323423423 ┆ … ┆ 2024-01-3 ┆ 2024-01-3 ┆ 2024-02-1 ┆ 50.0     │\n",
       "│ ion_valor ┆ n_directo ┆           ┆           ┆   ┆ 0         ┆ 0         ┆ 5         ┆          │\n",
       "│ able_auto ┆           ┆           ┆           ┆   ┆           ┆           ┆           ┆          │\n",
       "│ s         ┆           ┆           ┆           ┆   ┆           ┆           ┆           ┆          │\n",
       "│ mensual_m ┆ produccio ┆ directo   ┆ 345675387 ┆ … ┆ 2024-02-2 ┆ 2024-02-2 ┆ 2024-02-1 ┆ 100.0    │\n",
       "│ es_fin    ┆ n_directo ┆           ┆           ┆   ┆ 0         ┆ 0         ┆ 5         ┆          │\n",
       "│ modificac ┆ produccio ┆ directo   ┆ 323423423 ┆ … ┆ 2024-01-3 ┆ 2024-01-3 ┆ 2024-02-1 ┆ 50.0     │\n",
       "│ ion_valor ┆ n_directo ┆           ┆           ┆   ┆ 0         ┆ 0         ┆ 5         ┆          │\n",
       "│ able_auto ┆           ┆           ┆           ┆   ┆           ┆           ┆           ┆          │\n",
       "│ s         ┆           ┆           ┆           ┆   ┆           ┆           ┆           ┆          │\n",
       "│ mensual_m ┆ produccio ┆ directo   ┆ 345675387 ┆ … ┆ 2024-02-2 ┆ 2024-02-2 ┆ 2024-02-1 ┆ 100.0    │\n",
       "│ es_fin    ┆ n_directo ┆           ┆           ┆   ┆ 0         ┆ 0         ┆ 5         ┆          │\n",
       "│ modificac ┆ produccio ┆ directo   ┆ 323423423 ┆ … ┆ 2024-01-3 ┆ 2024-01-3 ┆ 2024-02-1 ┆ 50.0     │\n",
       "│ ion_valor ┆ n_directo ┆           ┆           ┆   ┆ 0         ┆ 0         ┆ 5         ┆          │\n",
       "│ able_auto ┆           ┆           ┆           ┆   ┆           ┆           ┆           ┆          │\n",
       "│ s         ┆           ┆           ┆           ┆   ┆           ┆           ┆           ┆          │\n",
       "│ …         ┆ …         ┆ …         ┆ …         ┆ … ┆ …         ┆ …         ┆ …         ┆ …        │\n",
       "│ terremoto ┆ produccio ┆ directo   ┆ 130534534 ┆ … ┆ 2024-01-3 ┆ 2024-01-3 ┆ 2025-01-3 ┆ 1200.0   │\n",
       "│           ┆ n_directo ┆           ┆           ┆   ┆ 0         ┆ 0         ┆ 0         ┆          │\n",
       "│ anual_pre ┆ produccio ┆ directo   ┆ 763894523 ┆ … ┆ 2024-01-1 ┆ 2024-01-1 ┆ 2025-01-1 ┆ 1000.0   │\n",
       "│ _vigencia ┆ n_directo ┆           ┆           ┆   ┆ 5         ┆ 6         ┆ 5         ┆          │\n",
       "│ modificac ┆ produccio ┆ directo   ┆ 763894523 ┆ … ┆ 2024-01-3 ┆ 2024-01-3 ┆ 2024-02-1 ┆ 200.0    │\n",
       "│ ion_valor ┆ n_directo ┆           ┆           ┆   ┆ 0         ┆ 0         ┆ 5         ┆          │\n",
       "│ able      ┆           ┆           ┆           ┆   ┆           ┆           ┆           ┆          │\n",
       "│ modificac ┆ produccio ┆ directo   ┆ 763894523 ┆ … ┆ 2024-07-1 ┆ 2024-07-1 ┆ 2025-01-1 ┆ 50.0     │\n",
       "│ ion_valor ┆ n_directo ┆           ┆           ┆   ┆ 5         ┆ 5         ┆ 5         ┆          │\n",
       "│ able      ┆           ┆           ┆           ┆   ┆           ┆           ┆           ┆          │\n",
       "│ terremoto ┆ produccio ┆ directo   ┆ 130534534 ┆ … ┆ 2024-01-3 ┆ 2024-01-3 ┆ 2025-01-3 ┆ 1200.0   │\n",
       "│           ┆ n_directo ┆           ┆           ┆   ┆ 0         ┆ 0         ┆ 0         ┆          │\n",
       "└───────────┴───────────┴───────────┴───────────┴───┴───────────┴───────────┴───────────┴──────────┘"
      ]
     },
     "execution_count": 2,
     "metadata": {},
     "output_type": "execute_result"
    }
   ],
   "source": [
    "# prepara el insumo para el devengo\n",
    "input_prod_dir = prep_data.prep_input_prima_directo(produccion_dir, param_contab, excepciones, FECHA_VALORACION)\n",
    "input_prod_dir"
   ]
  },
  {
   "attachments": {},
   "cell_type": "markdown",
   "metadata": {},
   "source": [
    "### Componente de Descuento Comercial\n",
    "- El valor a devengar se obtiene reconstruyendo la prima original antes de cualquier descuento y después aplicando el descuento comercial sobre la prima reconstruida\n",
    "$$Prima Reconstruida = Prima Emitida / (Porc dcto Tecnico + Porc dcto Comercial)$$\n",
    "$$DescuentoComercial = PrimaReconstruida * PorcdctoComercial$$"
   ]
  },
  {
   "cell_type": "code",
   "execution_count": 3,
   "metadata": {},
   "outputs": [
    {
     "data": {
      "text/html": [
       "<div><style>\n",
       ".dataframe > thead > tr,\n",
       ".dataframe > tbody > tr {\n",
       "  text-align: right;\n",
       "  white-space: pre-wrap;\n",
       "}\n",
       "</style>\n",
       "<small>shape: (17, 33)</small><table border=\"1\" class=\"dataframe\"><thead><tr><th>aux_casuistica</th><th>tipo_insumo</th><th>tipo_negocio</th><th>poliza</th><th>fecha_expedicion_poliza</th><th>recibo</th><th>amparo</th><th>poliza_certificado</th><th>compania</th><th>ramo_sura</th><th>canal</th><th>producto</th><th>tipo_op</th><th>moneda</th><th>fecha_contabilizacion_recibo</th><th>fecha_inicio_vigencia_recibo</th><th>fecha_fin_vigencia_recibo</th><th>fecha_inicio_vigencia_cobertura</th><th>fecha_fin_vigencia_cobertura</th><th>valor_prima_emitida</th><th>tipo_contabilidad</th><th>componente</th><th>tipo_contrato</th><th>nivel_detalle</th><th>signo_constitucion</th><th>candidato_devengo_50_50</th><th>podto_comercial</th><th>podto_tecnico</th><th>fecha_inicio_vigencia</th><th>fecha_constitucion</th><th>fecha_inicio_devengo</th><th>fecha_fin_devengo</th><th>valor_base_devengo</th></tr><tr><td>str</td><td>str</td><td>str</td><td>i64</td><td>date</td><td>i64</td><td>str</td><td>i64</td><td>str</td><td>str</td><td>str</td><td>str</td><td>str</td><td>str</td><td>date</td><td>date</td><td>date</td><td>date</td><td>date</td><td>f64</td><td>str</td><td>str</td><td>str</td><td>str</td><td>i64</td><td>i32</td><td>f64</td><td>f64</td><td>date</td><td>date</td><td>date</td><td>date</td><td>f64</td></tr></thead><tbody><tr><td>&quot;garantia_extendida_pre_riesgo&quot;</td><td>&quot;dcto_directo&quot;</td><td>&quot;directo&quot;</td><td>259823906</td><td>2023-07-15</td><td>2940977660</td><td>&quot;DANOS&quot;</td><td>239524652</td><td>&quot;01&quot;</td><td>&quot;009&quot;</td><td>&quot;sucursal&quot;</td><td>&quot;plan_3&quot;</td><td>&quot;emision&quot;</td><td>&quot;COP&quot;</td><td>2023-07-15</td><td>2023-01-15</td><td>2025-01-15</td><td>2023-01-15</td><td>2025-01-15</td><td>1200.0</td><td>&quot;ifrs4&quot;</td><td>&quot;descuento_comercial&quot;</td><td>&quot;directo&quot;</td><td>&quot;recibo&quot;</td><td>-1</td><td>1</td><td>0.05</td><td>0.05</td><td>2023-01-15</td><td>2023-07-15</td><td>2023-07-15</td><td>2025-01-15</td><td>66.666667</td></tr><tr><td>&quot;garantia_extendida_en_riesgo&quot;</td><td>&quot;dcto_directo&quot;</td><td>&quot;directo&quot;</td><td>920350354</td><td>2024-07-01</td><td>9024605326</td><td>&quot;DANOS&quot;</td><td>920583545</td><td>&quot;01&quot;</td><td>&quot;009&quot;</td><td>&quot;sucursal&quot;</td><td>&quot;plan_2&quot;</td><td>&quot;emision&quot;</td><td>&quot;COP&quot;</td><td>2024-07-01</td><td>2023-01-15</td><td>2025-01-15</td><td>2023-01-15</td><td>2025-01-15</td><td>1200.0</td><td>&quot;ifrs4&quot;</td><td>&quot;descuento_comercial&quot;</td><td>&quot;directo&quot;</td><td>&quot;recibo&quot;</td><td>-1</td><td>1</td><td>0.03</td><td>0.08</td><td>2023-01-15</td><td>2024-07-01</td><td>2024-07-01</td><td>2025-01-15</td><td>40.449438</td></tr><tr><td>&quot;anual_pre_vigencia&quot;</td><td>&quot;dcto_directo&quot;</td><td>&quot;directo&quot;</td><td>124324092</td><td>2023-11-15</td><td>2938430307</td><td>&quot;INVALIDEZ&quot;</td><td>124324512</td><td>&quot;02&quot;</td><td>&quot;083&quot;</td><td>&quot;banca&quot;</td><td>&quot;plan_3&quot;</td><td>&quot;emision&quot;</td><td>&quot;COP&quot;</td><td>2023-11-15</td><td>2024-01-15</td><td>2025-01-15</td><td>2024-01-15</td><td>2025-01-15</td><td>1200.0</td><td>&quot;ifrs4&quot;</td><td>&quot;descuento_comercial&quot;</td><td>&quot;directo&quot;</td><td>&quot;recibo&quot;</td><td>-1</td><td>1</td><td>0.08</td><td>0.01</td><td>2024-01-15</td><td>2023-11-15</td><td>2024-01-15</td><td>2025-01-15</td><td>105.494505</td></tr><tr><td>&quot;anual_misma_vigencia&quot;</td><td>&quot;dcto_directo&quot;</td><td>&quot;directo&quot;</td><td>124324091</td><td>2024-01-01</td><td>2938429895</td><td>&quot;INVALIDEZ&quot;</td><td>124324511</td><td>&quot;02&quot;</td><td>&quot;083&quot;</td><td>&quot;banca&quot;</td><td>&quot;plan_3&quot;</td><td>&quot;emision&quot;</td><td>&quot;USD&quot;</td><td>2024-01-01</td><td>2024-01-15</td><td>2025-01-15</td><td>2024-01-15</td><td>2025-01-15</td><td>1200.0</td><td>&quot;ifrs4&quot;</td><td>&quot;descuento_comercial&quot;</td><td>&quot;directo&quot;</td><td>&quot;recibo&quot;</td><td>-1</td><td>1</td><td>0.06</td><td>0.04</td><td>2024-01-15</td><td>2024-01-01</td><td>2024-01-15</td><td>2025-01-15</td><td>80.0</td></tr><tr><td>&quot;mensual_pre_vigencia&quot;</td><td>&quot;dcto_directo&quot;</td><td>&quot;directo&quot;</td><td>634535346</td><td>2023-12-15</td><td>2938431131</td><td>&quot;AMBULATORIO&quot;</td><td>634535766</td><td>&quot;02&quot;</td><td>&quot;091&quot;</td><td>&quot;sucursal&quot;</td><td>&quot;plan_3&quot;</td><td>&quot;emision&quot;</td><td>&quot;COP&quot;</td><td>2023-12-15</td><td>2024-01-15</td><td>2024-02-15</td><td>2024-01-15</td><td>2024-02-15</td><td>100.0</td><td>&quot;ifrs4&quot;</td><td>&quot;descuento_comercial&quot;</td><td>&quot;directo&quot;</td><td>&quot;recibo&quot;</td><td>-1</td><td>1</td><td>0.03</td><td>0.06</td><td>2024-01-15</td><td>2023-12-15</td><td>2024-01-15</td><td>2024-02-15</td><td>3.296703</td></tr><tr><td>&hellip;</td><td>&hellip;</td><td>&hellip;</td><td>&hellip;</td><td>&hellip;</td><td>&hellip;</td><td>&hellip;</td><td>&hellip;</td><td>&hellip;</td><td>&hellip;</td><td>&hellip;</td><td>&hellip;</td><td>&hellip;</td><td>&hellip;</td><td>&hellip;</td><td>&hellip;</td><td>&hellip;</td><td>&hellip;</td><td>&hellip;</td><td>&hellip;</td><td>&hellip;</td><td>&hellip;</td><td>&hellip;</td><td>&hellip;</td><td>&hellip;</td><td>&hellip;</td><td>&hellip;</td><td>&hellip;</td><td>&hellip;</td><td>&hellip;</td><td>&hellip;</td><td>&hellip;</td><td>&hellip;</td></tr><tr><td>&quot;anual_en_vigencia&quot;</td><td>&quot;dcto_directo&quot;</td><td>&quot;directo&quot;</td><td>421093128</td><td>2024-04-01</td><td>2938429483</td><td>&quot;VIDA&quot;</td><td>421093548</td><td>&quot;02&quot;</td><td>&quot;083&quot;</td><td>&quot;banca&quot;</td><td>&quot;plan_1&quot;</td><td>&quot;emision&quot;</td><td>&quot;COP&quot;</td><td>2024-04-01</td><td>2024-01-15</td><td>2025-01-15</td><td>2024-01-15</td><td>2025-01-15</td><td>1200.0</td><td>&quot;ifrs4&quot;</td><td>&quot;descuento_comercial&quot;</td><td>&quot;directo&quot;</td><td>&quot;recibo&quot;</td><td>-1</td><td>1</td><td>0.04</td><td>0.03</td><td>2024-01-15</td><td>2024-04-01</td><td>2024-04-01</td><td>2025-01-15</td><td>51.612903</td></tr><tr><td>&quot;anual_en_vigencia&quot;</td><td>&quot;dcto_directo&quot;</td><td>&quot;directo&quot;</td><td>421093128</td><td>2024-04-01</td><td>2938432779</td><td>&quot;VIDA&quot;</td><td>421093548</td><td>&quot;02&quot;</td><td>&quot;083&quot;</td><td>&quot;banca&quot;</td><td>&quot;plan_1&quot;</td><td>&quot;cancelacion&quot;</td><td>&quot;COP&quot;</td><td>2024-07-30</td><td>2024-07-30</td><td>2025-01-15</td><td>2024-07-30</td><td>2025-01-15</td><td>-555.858311</td><td>&quot;ifrs4&quot;</td><td>&quot;descuento_comercial&quot;</td><td>&quot;directo&quot;</td><td>&quot;recibo&quot;</td><td>-1</td><td>1</td><td>0.04</td><td>0.03</td><td>2024-07-30</td><td>2024-07-30</td><td>2024-07-30</td><td>2025-01-15</td><td>-23.907884</td></tr><tr><td>&quot;terremoto&quot;</td><td>&quot;dcto_directo&quot;</td><td>&quot;directo&quot;</td><td>130534534</td><td>2024-01-30</td><td>5340312414</td><td>&quot;TERREMOTO&quot;</td><td>425544224</td><td>&quot;01&quot;</td><td>&quot;130&quot;</td><td>&quot;sucursal&quot;</td><td>&quot;plan_1&quot;</td><td>&quot;emision&quot;</td><td>&quot;COP&quot;</td><td>2024-01-30</td><td>2024-01-30</td><td>2025-01-30</td><td>2024-01-30</td><td>2025-01-30</td><td>1200.0</td><td>&quot;ifrs4&quot;</td><td>&quot;descuento_comercial&quot;</td><td>&quot;directo&quot;</td><td>&quot;recibo&quot;</td><td>-1</td><td>1</td><td>0.0</td><td>0.0</td><td>2024-01-30</td><td>2024-01-30</td><td>2024-01-30</td><td>2025-01-30</td><td>0.0</td></tr><tr><td>&quot;mensual_en_vigencia&quot;</td><td>&quot;dcto_directo&quot;</td><td>&quot;directo&quot;</td><td>552332523</td><td>2024-01-15</td><td>2938434015</td><td>&quot;MEDICINA&quot;</td><td>552332943</td><td>&quot;02&quot;</td><td>&quot;083&quot;</td><td>&quot;sucursal&quot;</td><td>&quot;plan_3&quot;</td><td>&quot;emision&quot;</td><td>&quot;COP&quot;</td><td>2024-01-15</td><td>2024-01-15</td><td>2024-02-15</td><td>2024-01-15</td><td>2024-02-15</td><td>100.0</td><td>&quot;ifrs4&quot;</td><td>&quot;descuento_comercial&quot;</td><td>&quot;directo&quot;</td><td>&quot;recibo&quot;</td><td>-1</td><td>1</td><td>0.0</td><td>0.0</td><td>2024-01-15</td><td>2024-01-15</td><td>2024-01-15</td><td>2024-02-15</td><td>0.0</td></tr><tr><td>&quot;mensual_en_vigencia&quot;</td><td>&quot;dcto_directo&quot;</td><td>&quot;directo&quot;</td><td>552332523</td><td>2024-01-15</td><td>2938434427</td><td>&quot;MEDICINA&quot;</td><td>552332943</td><td>&quot;02&quot;</td><td>&quot;083&quot;</td><td>&quot;sucursal&quot;</td><td>&quot;plan_3&quot;</td><td>&quot;cancelacion&quot;</td><td>&quot;COP&quot;</td><td>2024-02-05</td><td>2024-02-05</td><td>2024-02-15</td><td>2024-02-05</td><td>2024-02-15</td><td>-34.375</td><td>&quot;ifrs4&quot;</td><td>&quot;descuento_comercial&quot;</td><td>&quot;directo&quot;</td><td>&quot;recibo&quot;</td><td>-1</td><td>1</td><td>0.0</td><td>0.0</td><td>2024-02-05</td><td>2024-02-05</td><td>2024-02-05</td><td>2024-02-15</td><td>-0.0</td></tr></tbody></table></div>"
      ],
      "text/plain": [
       "shape: (17, 33)\n",
       "┌───────────┬───────────┬───────────┬───────────┬───┬───────────┬───────────┬───────────┬──────────┐\n",
       "│ aux_casui ┆ tipo_insu ┆ tipo_nego ┆ poliza    ┆ … ┆ fecha_con ┆ fecha_ini ┆ fecha_fin ┆ valor_ba │\n",
       "│ stica     ┆ mo        ┆ cio       ┆ ---       ┆   ┆ stitucion ┆ cio_deven ┆ _devengo  ┆ se_deven │\n",
       "│ ---       ┆ ---       ┆ ---       ┆ i64       ┆   ┆ ---       ┆ go        ┆ ---       ┆ go       │\n",
       "│ str       ┆ str       ┆ str       ┆           ┆   ┆ date      ┆ ---       ┆ date      ┆ ---      │\n",
       "│           ┆           ┆           ┆           ┆   ┆           ┆ date      ┆           ┆ f64      │\n",
       "╞═══════════╪═══════════╪═══════════╪═══════════╪═══╪═══════════╪═══════════╪═══════════╪══════════╡\n",
       "│ garantia_ ┆ dcto_dire ┆ directo   ┆ 259823906 ┆ … ┆ 2023-07-1 ┆ 2023-07-1 ┆ 2025-01-1 ┆ 66.66666 │\n",
       "│ extendida ┆ cto       ┆           ┆           ┆   ┆ 5         ┆ 5         ┆ 5         ┆ 7        │\n",
       "│ _pre_ries ┆           ┆           ┆           ┆   ┆           ┆           ┆           ┆          │\n",
       "│ go        ┆           ┆           ┆           ┆   ┆           ┆           ┆           ┆          │\n",
       "│ garantia_ ┆ dcto_dire ┆ directo   ┆ 920350354 ┆ … ┆ 2024-07-0 ┆ 2024-07-0 ┆ 2025-01-1 ┆ 40.44943 │\n",
       "│ extendida ┆ cto       ┆           ┆           ┆   ┆ 1         ┆ 1         ┆ 5         ┆ 8        │\n",
       "│ _en_riesg ┆           ┆           ┆           ┆   ┆           ┆           ┆           ┆          │\n",
       "│ o         ┆           ┆           ┆           ┆   ┆           ┆           ┆           ┆          │\n",
       "│ anual_pre ┆ dcto_dire ┆ directo   ┆ 124324092 ┆ … ┆ 2023-11-1 ┆ 2024-01-1 ┆ 2025-01-1 ┆ 105.4945 │\n",
       "│ _vigencia ┆ cto       ┆           ┆           ┆   ┆ 5         ┆ 5         ┆ 5         ┆ 05       │\n",
       "│ anual_mis ┆ dcto_dire ┆ directo   ┆ 124324091 ┆ … ┆ 2024-01-0 ┆ 2024-01-1 ┆ 2025-01-1 ┆ 80.0     │\n",
       "│ ma_vigenc ┆ cto       ┆           ┆           ┆   ┆ 1         ┆ 5         ┆ 5         ┆          │\n",
       "│ ia        ┆           ┆           ┆           ┆   ┆           ┆           ┆           ┆          │\n",
       "│ mensual_p ┆ dcto_dire ┆ directo   ┆ 634535346 ┆ … ┆ 2023-12-1 ┆ 2024-01-1 ┆ 2024-02-1 ┆ 3.296703 │\n",
       "│ re_vigenc ┆ cto       ┆           ┆           ┆   ┆ 5         ┆ 5         ┆ 5         ┆          │\n",
       "│ ia        ┆           ┆           ┆           ┆   ┆           ┆           ┆           ┆          │\n",
       "│ …         ┆ …         ┆ …         ┆ …         ┆ … ┆ …         ┆ …         ┆ …         ┆ …        │\n",
       "│ anual_en_ ┆ dcto_dire ┆ directo   ┆ 421093128 ┆ … ┆ 2024-04-0 ┆ 2024-04-0 ┆ 2025-01-1 ┆ 51.61290 │\n",
       "│ vigencia  ┆ cto       ┆           ┆           ┆   ┆ 1         ┆ 1         ┆ 5         ┆ 3        │\n",
       "│ anual_en_ ┆ dcto_dire ┆ directo   ┆ 421093128 ┆ … ┆ 2024-07-3 ┆ 2024-07-3 ┆ 2025-01-1 ┆ -23.9078 │\n",
       "│ vigencia  ┆ cto       ┆           ┆           ┆   ┆ 0         ┆ 0         ┆ 5         ┆ 84       │\n",
       "│ terremoto ┆ dcto_dire ┆ directo   ┆ 130534534 ┆ … ┆ 2024-01-3 ┆ 2024-01-3 ┆ 2025-01-3 ┆ 0.0      │\n",
       "│           ┆ cto       ┆           ┆           ┆   ┆ 0         ┆ 0         ┆ 0         ┆          │\n",
       "│ mensual_e ┆ dcto_dire ┆ directo   ┆ 552332523 ┆ … ┆ 2024-01-1 ┆ 2024-01-1 ┆ 2024-02-1 ┆ 0.0      │\n",
       "│ n_vigenci ┆ cto       ┆           ┆           ┆   ┆ 5         ┆ 5         ┆ 5         ┆          │\n",
       "│ a         ┆           ┆           ┆           ┆   ┆           ┆           ┆           ┆          │\n",
       "│ mensual_e ┆ dcto_dire ┆ directo   ┆ 552332523 ┆ … ┆ 2024-02-0 ┆ 2024-02-0 ┆ 2024-02-1 ┆ -0.0     │\n",
       "│ n_vigenci ┆ cto       ┆           ┆           ┆   ┆ 5         ┆ 5         ┆ 5         ┆          │\n",
       "│ a         ┆           ┆           ┆           ┆   ┆           ┆           ┆           ┆          │\n",
       "└───────────┴───────────┴───────────┴───────────┴───┴───────────┴───────────┴───────────┴──────────┘"
      ]
     },
     "execution_count": 3,
     "metadata": {},
     "output_type": "execute_result"
    }
   ],
   "source": [
    "# prepara el insumo para el devengo\n",
    "input_dcto_dir = prep_data.prep_input_dcto_directo(produccion_dir, param_contab, excepciones, descuentos, FECHA_VALORACION)\n",
    "input_dcto_dir"
   ]
  },
  {
   "cell_type": "markdown",
   "metadata": {},
   "source": []
  },
  {
   "attachments": {},
   "cell_type": "markdown",
   "metadata": {},
   "source": [
    "### Componente Gasto de Expedición\n",
    "- Separado entre gasto de expedición por comisiones y otros, es decir que entra una linea por cada tipo de gasto, para esto, la función de preparación hace un melt (wide to long)\n",
    "- Se pueden parametrizar porcentajes distintos de gasto de expedición por tipo de contabilidad. Por ejemplo, el corporativo puede tener un porcentaje distinto al local debido a diferencias en los criterios de clasificación del gasto.\n",
    "- Es importante revisar que los cruces garanticen que no se generen duplicados porque se usa el comodín \"*\" cuando no existe detalle para el canal y/o producto y por lo tanto aplica para todo un ramo."
   ]
  },
  {
   "cell_type": "code",
   "execution_count": 4,
   "metadata": {},
   "outputs": [
    {
     "data": {
      "text/html": [
       "<div><style>\n",
       ".dataframe > thead > tr,\n",
       ".dataframe > tbody > tr {\n",
       "  text-align: right;\n",
       "  white-space: pre-wrap;\n",
       "}\n",
       "</style>\n",
       "<small>shape: (31, 35)</small><table border=\"1\" class=\"dataframe\"><thead><tr><th>aux_casuistica</th><th>tipo_insumo</th><th>tipo_negocio</th><th>poliza</th><th>fecha_expedicion_poliza</th><th>recibo</th><th>amparo</th><th>poliza_certificado</th><th>compania</th><th>ramo_sura</th><th>canal</th><th>producto</th><th>tipo_op</th><th>moneda</th><th>fecha_contabilizacion_recibo</th><th>fecha_inicio_vigencia_recibo</th><th>fecha_fin_vigencia_recibo</th><th>fecha_inicio_vigencia_cobertura</th><th>fecha_fin_vigencia_cobertura</th><th>valor_prima_emitida</th><th>tipo_gasto</th><th>porc_gasto</th><th>prioridad_match</th><th>rn</th><th>tipo_contabilidad</th><th>componente</th><th>tipo_contrato</th><th>nivel_detalle</th><th>signo_constitucion</th><th>candidato_devengo_50_50</th><th>fecha_inicio_vigencia</th><th>fecha_constitucion</th><th>fecha_inicio_devengo</th><th>fecha_fin_devengo</th><th>valor_base_devengo</th></tr><tr><td>str</td><td>str</td><td>str</td><td>i64</td><td>date</td><td>i64</td><td>str</td><td>i64</td><td>str</td><td>str</td><td>str</td><td>str</td><td>str</td><td>str</td><td>date</td><td>date</td><td>date</td><td>date</td><td>date</td><td>f64</td><td>str</td><td>f64</td><td>i32</td><td>i64</td><td>str</td><td>str</td><td>str</td><td>str</td><td>i64</td><td>i32</td><td>date</td><td>date</td><td>date</td><td>date</td><td>f64</td></tr></thead><tbody><tr><td>&quot;anual_en_vigencia&quot;</td><td>&quot;gasto_otro_directo&quot;</td><td>&quot;directo&quot;</td><td>421093128</td><td>2024-04-01</td><td>2938429483</td><td>&quot;VIDA&quot;</td><td>421093548</td><td>&quot;02&quot;</td><td>&quot;083&quot;</td><td>&quot;banca&quot;</td><td>&quot;plan_1&quot;</td><td>&quot;emision&quot;</td><td>&quot;COP&quot;</td><td>2024-04-01</td><td>2024-01-15</td><td>2025-01-15</td><td>2024-01-15</td><td>2025-01-15</td><td>1200.0</td><td>&quot;expedicion_otros&quot;</td><td>0.6</td><td>2</td><td>1</td><td>&quot;ifrs17_corporativo&quot;</td><td>&quot;gasto_exp_otros&quot;</td><td>&quot;directo&quot;</td><td>&quot;cobertura&quot;</td><td>1</td><td>0</td><td>2024-01-15</td><td>2024-04-01</td><td>2024-04-01</td><td>2025-01-15</td><td>720.0</td></tr><tr><td>&quot;mensual_mes_fin&quot;</td><td>&quot;gasto_otro_directo&quot;</td><td>&quot;directo&quot;</td><td>345675387</td><td>2024-02-20</td><td>2938431543</td><td>&quot;HURTO&quot;</td><td>345675807</td><td>&quot;01&quot;</td><td>&quot;040&quot;</td><td>&quot;sucursal&quot;</td><td>&quot;plan_2&quot;</td><td>&quot;emision&quot;</td><td>&quot;COP&quot;</td><td>2024-02-20</td><td>2024-01-15</td><td>2024-02-15</td><td>2024-01-15</td><td>2024-02-15</td><td>100.0</td><td>&quot;expedicion_otros&quot;</td><td>0.5</td><td>2</td><td>1</td><td>&quot;ifrs4&quot;</td><td>&quot;gasto_exp_otros&quot;</td><td>&quot;directo&quot;</td><td>&quot;recibo&quot;</td><td>1</td><td>1</td><td>2024-01-15</td><td>2024-02-20</td><td>2024-02-20</td><td>2024-02-15</td><td>50.0</td></tr><tr><td>&quot;mensual_post_vigencia&quot;</td><td>&quot;gasto_otro_directo&quot;</td><td>&quot;directo&quot;</td><td>436736799</td><td>2024-03-15</td><td>2938431955</td><td>&quot;RC&quot;</td><td>436737219</td><td>&quot;01&quot;</td><td>&quot;040&quot;</td><td>&quot;sucursal&quot;</td><td>&quot;plan_2&quot;</td><td>&quot;emision&quot;</td><td>&quot;COP&quot;</td><td>2024-03-15</td><td>2024-01-15</td><td>2024-02-15</td><td>2024-01-15</td><td>2024-02-15</td><td>100.0</td><td>&quot;expedicion_otros&quot;</td><td>0.5</td><td>2</td><td>1</td><td>&quot;ifrs17_corporativo&quot;</td><td>&quot;gasto_exp_otros&quot;</td><td>&quot;directo&quot;</td><td>&quot;cobertura&quot;</td><td>1</td><td>0</td><td>2024-01-15</td><td>2024-03-15</td><td>2024-03-15</td><td>2024-02-15</td><td>50.0</td></tr><tr><td>&quot;terremoto&quot;</td><td>&quot;gasto_otro_directo&quot;</td><td>&quot;directo&quot;</td><td>130534534</td><td>2024-01-30</td><td>5340312414</td><td>&quot;TERREMOTO&quot;</td><td>425544224</td><td>&quot;01&quot;</td><td>&quot;130&quot;</td><td>&quot;sucursal&quot;</td><td>&quot;plan_1&quot;</td><td>&quot;emision&quot;</td><td>&quot;COP&quot;</td><td>2024-01-30</td><td>2024-01-30</td><td>2025-01-30</td><td>2024-01-30</td><td>2025-01-30</td><td>1200.0</td><td>&quot;expedicion_otros&quot;</td><td>0.04</td><td>3</td><td>1</td><td>&quot;ifrs17_corporativo&quot;</td><td>&quot;gasto_exp_otros&quot;</td><td>&quot;directo&quot;</td><td>&quot;cobertura&quot;</td><td>1</td><td>0</td><td>2024-01-30</td><td>2024-01-30</td><td>2024-01-30</td><td>2025-01-30</td><td>48.0</td></tr><tr><td>&quot;garantia_extendida_pre_riesgo&quot;</td><td>&quot;gasto_otro_directo&quot;</td><td>&quot;directo&quot;</td><td>259823906</td><td>2023-07-15</td><td>2940977660</td><td>&quot;DANOS&quot;</td><td>239524652</td><td>&quot;01&quot;</td><td>&quot;009&quot;</td><td>&quot;sucursal&quot;</td><td>&quot;plan_3&quot;</td><td>&quot;emision&quot;</td><td>&quot;COP&quot;</td><td>2023-07-15</td><td>2023-01-15</td><td>2025-01-15</td><td>2023-01-15</td><td>2025-01-15</td><td>1200.0</td><td>&quot;expedicion_otros&quot;</td><td>0.3</td><td>2</td><td>1</td><td>&quot;ifrs4&quot;</td><td>&quot;gasto_exp_otros&quot;</td><td>&quot;directo&quot;</td><td>&quot;recibo&quot;</td><td>1</td><td>1</td><td>2023-01-15</td><td>2023-07-15</td><td>2023-07-15</td><td>2025-01-15</td><td>360.0</td></tr><tr><td>&hellip;</td><td>&hellip;</td><td>&hellip;</td><td>&hellip;</td><td>&hellip;</td><td>&hellip;</td><td>&hellip;</td><td>&hellip;</td><td>&hellip;</td><td>&hellip;</td><td>&hellip;</td><td>&hellip;</td><td>&hellip;</td><td>&hellip;</td><td>&hellip;</td><td>&hellip;</td><td>&hellip;</td><td>&hellip;</td><td>&hellip;</td><td>&hellip;</td><td>&hellip;</td><td>&hellip;</td><td>&hellip;</td><td>&hellip;</td><td>&hellip;</td><td>&hellip;</td><td>&hellip;</td><td>&hellip;</td><td>&hellip;</td><td>&hellip;</td><td>&hellip;</td><td>&hellip;</td><td>&hellip;</td><td>&hellip;</td><td>&hellip;</td></tr><tr><td>&quot;anual_en_vigencia&quot;</td><td>&quot;gasto_otro_directo&quot;</td><td>&quot;directo&quot;</td><td>421093128</td><td>2024-04-01</td><td>2938429483</td><td>&quot;VIDA&quot;</td><td>421093548</td><td>&quot;02&quot;</td><td>&quot;083&quot;</td><td>&quot;banca&quot;</td><td>&quot;plan_1&quot;</td><td>&quot;emision&quot;</td><td>&quot;COP&quot;</td><td>2024-04-01</td><td>2024-01-15</td><td>2025-01-15</td><td>2024-01-15</td><td>2025-01-15</td><td>1200.0</td><td>&quot;expedicion_otros&quot;</td><td>0.6</td><td>2</td><td>1</td><td>&quot;ifrs4&quot;</td><td>&quot;gasto_exp_otros&quot;</td><td>&quot;directo&quot;</td><td>&quot;recibo&quot;</td><td>1</td><td>1</td><td>2024-01-15</td><td>2024-04-01</td><td>2024-04-01</td><td>2025-01-15</td><td>720.0</td></tr><tr><td>&quot;terremoto&quot;</td><td>&quot;gasto_otro_directo&quot;</td><td>&quot;directo&quot;</td><td>130534534</td><td>2024-01-30</td><td>5340312414</td><td>&quot;TERREMOTO&quot;</td><td>425544224</td><td>&quot;01&quot;</td><td>&quot;130&quot;</td><td>&quot;sucursal&quot;</td><td>&quot;plan_1&quot;</td><td>&quot;emision&quot;</td><td>&quot;COP&quot;</td><td>2024-01-30</td><td>2024-01-30</td><td>2025-01-30</td><td>2024-01-30</td><td>2025-01-30</td><td>1200.0</td><td>&quot;expedicion_otros&quot;</td><td>0.04</td><td>3</td><td>1</td><td>&quot;ifrs4&quot;</td><td>&quot;gasto_exp_otros&quot;</td><td>&quot;directo&quot;</td><td>&quot;recibo&quot;</td><td>1</td><td>1</td><td>2024-01-30</td><td>2024-01-30</td><td>2024-01-30</td><td>2025-01-30</td><td>48.0</td></tr><tr><td>&quot;garantia_extendida_pre_riesgo&quot;</td><td>&quot;gasto_otro_directo&quot;</td><td>&quot;directo&quot;</td><td>259823906</td><td>2023-07-15</td><td>2940977660</td><td>&quot;DANOS&quot;</td><td>239524652</td><td>&quot;01&quot;</td><td>&quot;009&quot;</td><td>&quot;sucursal&quot;</td><td>&quot;plan_3&quot;</td><td>&quot;emision&quot;</td><td>&quot;COP&quot;</td><td>2023-07-15</td><td>2023-01-15</td><td>2025-01-15</td><td>2023-01-15</td><td>2025-01-15</td><td>1200.0</td><td>&quot;expedicion_otros&quot;</td><td>0.3</td><td>2</td><td>1</td><td>&quot;ifrs17_corporativo&quot;</td><td>&quot;gasto_exp_otros&quot;</td><td>&quot;directo&quot;</td><td>&quot;cobertura&quot;</td><td>1</td><td>0</td><td>2023-01-15</td><td>2023-07-15</td><td>2023-07-15</td><td>2025-01-15</td><td>360.0</td></tr><tr><td>&quot;garantia_extendida_en_riesgo&quot;</td><td>&quot;gasto_otro_directo&quot;</td><td>&quot;directo&quot;</td><td>920350354</td><td>2024-07-01</td><td>9024605326</td><td>&quot;DANOS&quot;</td><td>920583545</td><td>&quot;01&quot;</td><td>&quot;009&quot;</td><td>&quot;sucursal&quot;</td><td>&quot;plan_2&quot;</td><td>&quot;emision&quot;</td><td>&quot;COP&quot;</td><td>2024-07-01</td><td>2023-01-15</td><td>2025-01-15</td><td>2023-01-15</td><td>2025-01-15</td><td>1200.0</td><td>&quot;expedicion_otros&quot;</td><td>0.3</td><td>2</td><td>1</td><td>&quot;ifrs4&quot;</td><td>&quot;gasto_exp_otros&quot;</td><td>&quot;directo&quot;</td><td>&quot;recibo&quot;</td><td>1</td><td>1</td><td>2023-01-15</td><td>2024-07-01</td><td>2024-07-01</td><td>2025-01-15</td><td>360.0</td></tr><tr><td>&quot;modificacion_valorable&quot;</td><td>&quot;gasto_otro_directo&quot;</td><td>&quot;directo&quot;</td><td>763894523</td><td>2024-01-30</td><td>2938434126</td><td>&quot;HOSPITALARIO&quot;</td><td>763894943</td><td>&quot;02&quot;</td><td>&quot;091&quot;</td><td>&quot;sucursal&quot;</td><td>&quot;plan_1&quot;</td><td>&quot;modificacion_valorable&quot;</td><td>&quot;COP&quot;</td><td>2024-07-15</td><td>2024-07-15</td><td>2025-01-15</td><td>2024-07-15</td><td>2025-01-15</td><td>50.0</td><td>&quot;expedicion_otros&quot;</td><td>0.8</td><td>2</td><td>1</td><td>&quot;ifrs4&quot;</td><td>&quot;gasto_exp_otros&quot;</td><td>&quot;directo&quot;</td><td>&quot;recibo&quot;</td><td>1</td><td>1</td><td>2024-07-15</td><td>2024-07-15</td><td>2024-07-15</td><td>2025-01-15</td><td>40.0</td></tr></tbody></table></div>"
      ],
      "text/plain": [
       "shape: (31, 35)\n",
       "┌───────────┬───────────┬───────────┬───────────┬───┬───────────┬───────────┬───────────┬──────────┐\n",
       "│ aux_casui ┆ tipo_insu ┆ tipo_nego ┆ poliza    ┆ … ┆ fecha_con ┆ fecha_ini ┆ fecha_fin ┆ valor_ba │\n",
       "│ stica     ┆ mo        ┆ cio       ┆ ---       ┆   ┆ stitucion ┆ cio_deven ┆ _devengo  ┆ se_deven │\n",
       "│ ---       ┆ ---       ┆ ---       ┆ i64       ┆   ┆ ---       ┆ go        ┆ ---       ┆ go       │\n",
       "│ str       ┆ str       ┆ str       ┆           ┆   ┆ date      ┆ ---       ┆ date      ┆ ---      │\n",
       "│           ┆           ┆           ┆           ┆   ┆           ┆ date      ┆           ┆ f64      │\n",
       "╞═══════════╪═══════════╪═══════════╪═══════════╪═══╪═══════════╪═══════════╪═══════════╪══════════╡\n",
       "│ anual_en_ ┆ gasto_otr ┆ directo   ┆ 421093128 ┆ … ┆ 2024-04-0 ┆ 2024-04-0 ┆ 2025-01-1 ┆ 720.0    │\n",
       "│ vigencia  ┆ o_directo ┆           ┆           ┆   ┆ 1         ┆ 1         ┆ 5         ┆          │\n",
       "│ mensual_m ┆ gasto_otr ┆ directo   ┆ 345675387 ┆ … ┆ 2024-02-2 ┆ 2024-02-2 ┆ 2024-02-1 ┆ 50.0     │\n",
       "│ es_fin    ┆ o_directo ┆           ┆           ┆   ┆ 0         ┆ 0         ┆ 5         ┆          │\n",
       "│ mensual_p ┆ gasto_otr ┆ directo   ┆ 436736799 ┆ … ┆ 2024-03-1 ┆ 2024-03-1 ┆ 2024-02-1 ┆ 50.0     │\n",
       "│ ost_vigen ┆ o_directo ┆           ┆           ┆   ┆ 5         ┆ 5         ┆ 5         ┆          │\n",
       "│ cia       ┆           ┆           ┆           ┆   ┆           ┆           ┆           ┆          │\n",
       "│ terremoto ┆ gasto_otr ┆ directo   ┆ 130534534 ┆ … ┆ 2024-01-3 ┆ 2024-01-3 ┆ 2025-01-3 ┆ 48.0     │\n",
       "│           ┆ o_directo ┆           ┆           ┆   ┆ 0         ┆ 0         ┆ 0         ┆          │\n",
       "│ garantia_ ┆ gasto_otr ┆ directo   ┆ 259823906 ┆ … ┆ 2023-07-1 ┆ 2023-07-1 ┆ 2025-01-1 ┆ 360.0    │\n",
       "│ extendida ┆ o_directo ┆           ┆           ┆   ┆ 5         ┆ 5         ┆ 5         ┆          │\n",
       "│ _pre_ries ┆           ┆           ┆           ┆   ┆           ┆           ┆           ┆          │\n",
       "│ go        ┆           ┆           ┆           ┆   ┆           ┆           ┆           ┆          │\n",
       "│ …         ┆ …         ┆ …         ┆ …         ┆ … ┆ …         ┆ …         ┆ …         ┆ …        │\n",
       "│ anual_en_ ┆ gasto_otr ┆ directo   ┆ 421093128 ┆ … ┆ 2024-04-0 ┆ 2024-04-0 ┆ 2025-01-1 ┆ 720.0    │\n",
       "│ vigencia  ┆ o_directo ┆           ┆           ┆   ┆ 1         ┆ 1         ┆ 5         ┆          │\n",
       "│ terremoto ┆ gasto_otr ┆ directo   ┆ 130534534 ┆ … ┆ 2024-01-3 ┆ 2024-01-3 ┆ 2025-01-3 ┆ 48.0     │\n",
       "│           ┆ o_directo ┆           ┆           ┆   ┆ 0         ┆ 0         ┆ 0         ┆          │\n",
       "│ garantia_ ┆ gasto_otr ┆ directo   ┆ 259823906 ┆ … ┆ 2023-07-1 ┆ 2023-07-1 ┆ 2025-01-1 ┆ 360.0    │\n",
       "│ extendida ┆ o_directo ┆           ┆           ┆   ┆ 5         ┆ 5         ┆ 5         ┆          │\n",
       "│ _pre_ries ┆           ┆           ┆           ┆   ┆           ┆           ┆           ┆          │\n",
       "│ go        ┆           ┆           ┆           ┆   ┆           ┆           ┆           ┆          │\n",
       "│ garantia_ ┆ gasto_otr ┆ directo   ┆ 920350354 ┆ … ┆ 2024-07-0 ┆ 2024-07-0 ┆ 2025-01-1 ┆ 360.0    │\n",
       "│ extendida ┆ o_directo ┆           ┆           ┆   ┆ 1         ┆ 1         ┆ 5         ┆          │\n",
       "│ _en_riesg ┆           ┆           ┆           ┆   ┆           ┆           ┆           ┆          │\n",
       "│ o         ┆           ┆           ┆           ┆   ┆           ┆           ┆           ┆          │\n",
       "│ modificac ┆ gasto_otr ┆ directo   ┆ 763894523 ┆ … ┆ 2024-07-1 ┆ 2024-07-1 ┆ 2025-01-1 ┆ 40.0     │\n",
       "│ ion_valor ┆ o_directo ┆           ┆           ┆   ┆ 5         ┆ 5         ┆ 5         ┆          │\n",
       "│ able      ┆           ┆           ┆           ┆   ┆           ┆           ┆           ┆          │\n",
       "└───────────┴───────────┴───────────┴───────────┴───┴───────────┴───────────┴───────────┴──────────┘"
      ]
     },
     "execution_count": 4,
     "metadata": {},
     "output_type": "execute_result"
    }
   ],
   "source": [
    "# prepara el insumo para el devengo\n",
    "input_gasto_dir = prep_data.prep_input_gasto_directo(produccion_dir, param_contab, excepciones, gasto, FECHA_VALORACION)\n",
    "input_gasto_dir"
   ]
  },
  {
   "attachments": {},
   "cell_type": "markdown",
   "metadata": {},
   "source": [
    "## 1.2. PCR del Reaseguro Proporcional\n",
    "La PCR del reaseguro representa un activo para la aseguradora, pues debo reconocer que tengo derecho a recobrar la parte de la prima cedida correspondiente al servicio que todavía no se ha prestado por el reasegurador. Tiene varios componentes internos que deben medirse por separado según el estándar de contabilidad y afecta según el signo (+) incrementa el saldo del activo y (-) disminuye el saldo del activo:\n",
    "\n",
    "- PCR de prima cedida (+)\n",
    "- PCR de las comisiones de reaseguro (-)\n",
    "- PCR del descuento comercial de la prima cedida (+)\n",
    "- PCR del costo de contrato (+)\n",
    "- PCR del gasto de adquisición por comisiones (-) solo IFRS4\n",
    "- PCR del gasto de adquisición por otros conceptos (-) solo IFRS4\n",
    "- Cuenta por pagar primas cedidas (-) solo IFRS17 Corp\n",
    "- Cuenta por cobrar comisiones reaseguro (+) solo IFRS17 Corp"
   ]
  },
  {
   "attachments": {},
   "cell_type": "markdown",
   "metadata": {},
   "source": [
    "### Componente de Prima Cedida"
   ]
  },
  {
   "cell_type": "code",
   "execution_count": 5,
   "metadata": {},
   "outputs": [
    {
     "data": {
      "text/html": [
       "<div><style>\n",
       ".dataframe > thead > tr,\n",
       ".dataframe > tbody > tr {\n",
       "  text-align: right;\n",
       "  white-space: pre-wrap;\n",
       "}\n",
       "</style>\n",
       "<small>shape: (27, 39)</small><table border=\"1\" class=\"dataframe\"><thead><tr><th>aux_casuistica</th><th>tipo_insumo</th><th>contrato_reaseguro</th><th>tipo_negocio</th><th>nit_reasegurador</th><th>tipo_reasegurador</th><th>porc_participacion_reasegurador</th><th>poliza</th><th>fecha_expedicion_poliza</th><th>recibo</th><th>fe_ini_vig_contrato_reaseguro</th><th>fe_fin_vig_contrato_reaseguro</th><th>amparo</th><th>poliza_certificado</th><th>compania</th><th>ramo_sura</th><th>canal</th><th>producto</th><th>tipo_op</th><th>moneda</th><th>fecha_contabilizacion_recibo</th><th>fecha_inicio_vigencia_recibo</th><th>fecha_fin_vigencia_recibo</th><th>fecha_inicio_vigencia_cobertura</th><th>fecha_fin_vigencia_cobertura</th><th>valor_prima_emitida</th><th>valor_prima_cedida</th><th>porc_cesion</th><th>tipo_contabilidad</th><th>componente</th><th>tipo_contrato</th><th>nivel_detalle</th><th>signo_constitucion</th><th>candidato_devengo_50_50</th><th>fecha_inicio_vigencia</th><th>fecha_constitucion</th><th>fecha_inicio_devengo</th><th>fecha_fin_devengo</th><th>valor_base_devengo</th></tr><tr><td>str</td><td>str</td><td>i64</td><td>str</td><td>i64</td><td>str</td><td>f64</td><td>i64</td><td>date</td><td>i64</td><td>date</td><td>date</td><td>str</td><td>i64</td><td>str</td><td>str</td><td>str</td><td>str</td><td>str</td><td>str</td><td>date</td><td>date</td><td>date</td><td>date</td><td>date</td><td>i64</td><td>i64</td><td>f64</td><td>str</td><td>str</td><td>str</td><td>str</td><td>i64</td><td>i32</td><td>date</td><td>date</td><td>date</td><td>date</td><td>f64</td></tr></thead><tbody><tr><td>&quot;anual_misma_vigencia&quot;</td><td>&quot;cesion_rea_prop&quot;</td><td>1111</td><td>&quot;mantenido&quot;</td><td>3693358</td><td>&quot;ext&quot;</td><td>0.3</td><td>124324091</td><td>2024-01-01</td><td>293842989501</td><td>2023-07-01</td><td>2024-06-30</td><td>&quot;INVALIDEZ&quot;</td><td>124324511</td><td>&quot;02&quot;</td><td>&quot;083&quot;</td><td>&quot;banca&quot;</td><td>&quot;plan_3&quot;</td><td>&quot;emision&quot;</td><td>&quot;USD&quot;</td><td>2024-01-01</td><td>2024-01-15</td><td>2025-01-15</td><td>2024-01-15</td><td>2025-01-15</td><td>1200</td><td>600</td><td>0.5</td><td>&quot;ifrs4&quot;</td><td>&quot;prima&quot;</td><td>&quot;reaseguro_proporcional&quot;</td><td>&quot;recibo&quot;</td><td>1</td><td>1</td><td>2024-01-15</td><td>2024-01-01</td><td>2024-01-15</td><td>2025-01-15</td><td>180.0</td></tr><tr><td>&quot;anual_pre_vigencia&quot;</td><td>&quot;cesion_rea_prop&quot;</td><td>1111</td><td>&quot;mantenido&quot;</td><td>2374188</td><td>&quot;int&quot;</td><td>0.4</td><td>124324092</td><td>2023-11-15</td><td>293843030701</td><td>2023-07-01</td><td>2024-06-30</td><td>&quot;INVALIDEZ&quot;</td><td>124324512</td><td>&quot;02&quot;</td><td>&quot;083&quot;</td><td>&quot;banca&quot;</td><td>&quot;plan_3&quot;</td><td>&quot;emision&quot;</td><td>&quot;COP&quot;</td><td>2023-11-15</td><td>2024-01-15</td><td>2025-01-15</td><td>2024-01-15</td><td>2025-01-15</td><td>1200</td><td>600</td><td>0.5</td><td>&quot;ifrs4&quot;</td><td>&quot;prima&quot;</td><td>&quot;reaseguro_proporcional&quot;</td><td>&quot;recibo&quot;</td><td>1</td><td>1</td><td>2024-01-15</td><td>2023-11-15</td><td>2024-01-15</td><td>2025-01-15</td><td>240.0</td></tr><tr><td>&quot;anual_misma_vigencia&quot;</td><td>&quot;cesion_rea_prop&quot;</td><td>1111</td><td>&quot;mantenido&quot;</td><td>3693358</td><td>&quot;ext&quot;</td><td>0.3</td><td>124324091</td><td>2024-01-01</td><td>293842989501</td><td>2023-07-01</td><td>2024-06-30</td><td>&quot;INVALIDEZ&quot;</td><td>124324511</td><td>&quot;02&quot;</td><td>&quot;083&quot;</td><td>&quot;banca&quot;</td><td>&quot;plan_3&quot;</td><td>&quot;emision&quot;</td><td>&quot;USD&quot;</td><td>2024-01-01</td><td>2024-01-15</td><td>2025-01-15</td><td>2024-01-15</td><td>2025-01-15</td><td>1200</td><td>600</td><td>0.5</td><td>&quot;ifrs17_corporativo&quot;</td><td>&quot;prima&quot;</td><td>&quot;reaseguro_proporcional&quot;</td><td>&quot;cobertura&quot;</td><td>1</td><td>0</td><td>2024-01-15</td><td>2024-01-01</td><td>2024-01-15</td><td>2025-01-15</td><td>180.0</td></tr><tr><td>&quot;anual_pre_vigencia&quot;</td><td>&quot;cesion_rea_prop&quot;</td><td>1111</td><td>&quot;mantenido&quot;</td><td>2374188</td><td>&quot;int&quot;</td><td>0.4</td><td>124324092</td><td>2023-11-15</td><td>293843030701</td><td>2023-07-01</td><td>2024-06-30</td><td>&quot;INVALIDEZ&quot;</td><td>124324512</td><td>&quot;02&quot;</td><td>&quot;083&quot;</td><td>&quot;banca&quot;</td><td>&quot;plan_3&quot;</td><td>&quot;emision&quot;</td><td>&quot;COP&quot;</td><td>2023-11-15</td><td>2024-01-15</td><td>2025-01-15</td><td>2024-01-15</td><td>2025-01-15</td><td>1200</td><td>600</td><td>0.5</td><td>&quot;ifrs17_corporativo&quot;</td><td>&quot;prima&quot;</td><td>&quot;reaseguro_proporcional&quot;</td><td>&quot;cobertura&quot;</td><td>1</td><td>0</td><td>2024-01-15</td><td>2023-11-15</td><td>2024-01-15</td><td>2025-01-15</td><td>240.0</td></tr><tr><td>&quot;anual_misma_vigencia&quot;</td><td>&quot;cesion_rea_prop&quot;</td><td>1111</td><td>&quot;mantenido&quot;</td><td>3693358</td><td>&quot;ext&quot;</td><td>0.3</td><td>124324091</td><td>2024-01-01</td><td>293842989501</td><td>2023-07-01</td><td>2024-06-30</td><td>&quot;INVALIDEZ&quot;</td><td>124324511</td><td>&quot;02&quot;</td><td>&quot;083&quot;</td><td>&quot;banca&quot;</td><td>&quot;plan_3&quot;</td><td>&quot;emision&quot;</td><td>&quot;USD&quot;</td><td>2024-01-01</td><td>2024-01-15</td><td>2025-01-15</td><td>2024-01-15</td><td>2025-01-15</td><td>1200</td><td>600</td><td>0.5</td><td>&quot;ifrs17_local&quot;</td><td>&quot;prima&quot;</td><td>&quot;reaseguro_proporcional&quot;</td><td>&quot;cobertura&quot;</td><td>1</td><td>0</td><td>2024-01-15</td><td>2024-01-01</td><td>2024-01-15</td><td>2025-01-15</td><td>180.0</td></tr><tr><td>&hellip;</td><td>&hellip;</td><td>&hellip;</td><td>&hellip;</td><td>&hellip;</td><td>&hellip;</td><td>&hellip;</td><td>&hellip;</td><td>&hellip;</td><td>&hellip;</td><td>&hellip;</td><td>&hellip;</td><td>&hellip;</td><td>&hellip;</td><td>&hellip;</td><td>&hellip;</td><td>&hellip;</td><td>&hellip;</td><td>&hellip;</td><td>&hellip;</td><td>&hellip;</td><td>&hellip;</td><td>&hellip;</td><td>&hellip;</td><td>&hellip;</td><td>&hellip;</td><td>&hellip;</td><td>&hellip;</td><td>&hellip;</td><td>&hellip;</td><td>&hellip;</td><td>&hellip;</td><td>&hellip;</td><td>&hellip;</td><td>&hellip;</td><td>&hellip;</td><td>&hellip;</td><td>&hellip;</td><td>&hellip;</td></tr><tr><td>&quot;mensual_mes_fin&quot;</td><td>&quot;cesion_rea_prop&quot;</td><td>1245</td><td>&quot;mantenido&quot;</td><td>3693358</td><td>&quot;ext&quot;</td><td>0.5</td><td>345675387</td><td>2024-02-20</td><td>293843154301</td><td>2024-01-01</td><td>2024-12-31</td><td>&quot;HURTO&quot;</td><td>345675807</td><td>&quot;01&quot;</td><td>&quot;040&quot;</td><td>&quot;sucursal&quot;</td><td>&quot;plan_2&quot;</td><td>&quot;emision&quot;</td><td>&quot;COP&quot;</td><td>2024-02-20</td><td>2024-01-15</td><td>2024-02-15</td><td>2024-01-15</td><td>2024-02-15</td><td>100</td><td>60</td><td>0.6</td><td>&quot;ifrs4&quot;</td><td>&quot;prima&quot;</td><td>&quot;reaseguro_proporcional&quot;</td><td>&quot;recibo&quot;</td><td>1</td><td>1</td><td>2024-01-15</td><td>2024-02-20</td><td>2024-02-20</td><td>2024-02-15</td><td>30.0</td></tr><tr><td>&quot;mensual_pre_vigencia&quot;</td><td>&quot;cesion_rea_prop&quot;</td><td>1113</td><td>&quot;mantenido&quot;</td><td>3339928</td><td>&quot;ext&quot;</td><td>1.0</td><td>634535346</td><td>2023-12-15</td><td>293843113101</td><td>2023-07-01</td><td>2024-06-30</td><td>&quot;AMBULATORIO&quot;</td><td>634535766</td><td>&quot;02&quot;</td><td>&quot;091&quot;</td><td>&quot;sucursal&quot;</td><td>&quot;plan_3&quot;</td><td>&quot;emision&quot;</td><td>&quot;COP&quot;</td><td>2023-12-15</td><td>2024-01-15</td><td>2024-02-15</td><td>2024-01-15</td><td>2024-02-15</td><td>100</td><td>30</td><td>0.3</td><td>&quot;ifrs17_corporativo&quot;</td><td>&quot;prima&quot;</td><td>&quot;reaseguro_proporcional&quot;</td><td>&quot;cobertura&quot;</td><td>1</td><td>0</td><td>2024-01-15</td><td>2023-12-15</td><td>2024-01-15</td><td>2024-02-15</td><td>30.0</td></tr><tr><td>&quot;mensual_mes_fin&quot;</td><td>&quot;cesion_rea_prop&quot;</td><td>1245</td><td>&quot;mantenido&quot;</td><td>3693358</td><td>&quot;ext&quot;</td><td>0.5</td><td>345675387</td><td>2024-02-20</td><td>293843154301</td><td>2024-01-01</td><td>2024-12-31</td><td>&quot;HURTO&quot;</td><td>345675807</td><td>&quot;01&quot;</td><td>&quot;040&quot;</td><td>&quot;sucursal&quot;</td><td>&quot;plan_2&quot;</td><td>&quot;emision&quot;</td><td>&quot;COP&quot;</td><td>2024-02-20</td><td>2024-01-15</td><td>2024-02-15</td><td>2024-01-15</td><td>2024-02-15</td><td>100</td><td>60</td><td>0.6</td><td>&quot;ifrs17_corporativo&quot;</td><td>&quot;prima&quot;</td><td>&quot;reaseguro_proporcional&quot;</td><td>&quot;cobertura&quot;</td><td>1</td><td>0</td><td>2024-01-15</td><td>2024-02-20</td><td>2024-02-20</td><td>2024-02-15</td><td>30.0</td></tr><tr><td>&quot;mensual_pre_vigencia&quot;</td><td>&quot;cesion_rea_prop&quot;</td><td>1113</td><td>&quot;mantenido&quot;</td><td>3339928</td><td>&quot;ext&quot;</td><td>1.0</td><td>634535346</td><td>2023-12-15</td><td>293843113101</td><td>2023-07-01</td><td>2024-06-30</td><td>&quot;AMBULATORIO&quot;</td><td>634535766</td><td>&quot;02&quot;</td><td>&quot;091&quot;</td><td>&quot;sucursal&quot;</td><td>&quot;plan_3&quot;</td><td>&quot;emision&quot;</td><td>&quot;COP&quot;</td><td>2023-12-15</td><td>2024-01-15</td><td>2024-02-15</td><td>2024-01-15</td><td>2024-02-15</td><td>100</td><td>30</td><td>0.3</td><td>&quot;ifrs17_local&quot;</td><td>&quot;prima&quot;</td><td>&quot;reaseguro_proporcional&quot;</td><td>&quot;cobertura&quot;</td><td>1</td><td>0</td><td>2024-01-15</td><td>2023-12-15</td><td>2024-01-15</td><td>2024-02-15</td><td>30.0</td></tr><tr><td>&quot;mensual_mes_fin&quot;</td><td>&quot;cesion_rea_prop&quot;</td><td>1245</td><td>&quot;mantenido&quot;</td><td>3693358</td><td>&quot;ext&quot;</td><td>0.5</td><td>345675387</td><td>2024-02-20</td><td>293843154301</td><td>2024-01-01</td><td>2024-12-31</td><td>&quot;HURTO&quot;</td><td>345675807</td><td>&quot;01&quot;</td><td>&quot;040&quot;</td><td>&quot;sucursal&quot;</td><td>&quot;plan_2&quot;</td><td>&quot;emision&quot;</td><td>&quot;COP&quot;</td><td>2024-02-20</td><td>2024-01-15</td><td>2024-02-15</td><td>2024-01-15</td><td>2024-02-15</td><td>100</td><td>60</td><td>0.6</td><td>&quot;ifrs17_local&quot;</td><td>&quot;prima&quot;</td><td>&quot;reaseguro_proporcional&quot;</td><td>&quot;cobertura&quot;</td><td>1</td><td>0</td><td>2024-01-15</td><td>2024-02-20</td><td>2024-02-20</td><td>2024-02-15</td><td>30.0</td></tr></tbody></table></div>"
      ],
      "text/plain": [
       "shape: (27, 39)\n",
       "┌───────────┬───────────┬───────────┬───────────┬───┬───────────┬───────────┬───────────┬──────────┐\n",
       "│ aux_casui ┆ tipo_insu ┆ contrato_ ┆ tipo_nego ┆ … ┆ fecha_con ┆ fecha_ini ┆ fecha_fin ┆ valor_ba │\n",
       "│ stica     ┆ mo        ┆ reaseguro ┆ cio       ┆   ┆ stitucion ┆ cio_deven ┆ _devengo  ┆ se_deven │\n",
       "│ ---       ┆ ---       ┆ ---       ┆ ---       ┆   ┆ ---       ┆ go        ┆ ---       ┆ go       │\n",
       "│ str       ┆ str       ┆ i64       ┆ str       ┆   ┆ date      ┆ ---       ┆ date      ┆ ---      │\n",
       "│           ┆           ┆           ┆           ┆   ┆           ┆ date      ┆           ┆ f64      │\n",
       "╞═══════════╪═══════════╪═══════════╪═══════════╪═══╪═══════════╪═══════════╪═══════════╪══════════╡\n",
       "│ anual_mis ┆ cesion_re ┆ 1111      ┆ mantenido ┆ … ┆ 2024-01-0 ┆ 2024-01-1 ┆ 2025-01-1 ┆ 180.0    │\n",
       "│ ma_vigenc ┆ a_prop    ┆           ┆           ┆   ┆ 1         ┆ 5         ┆ 5         ┆          │\n",
       "│ ia        ┆           ┆           ┆           ┆   ┆           ┆           ┆           ┆          │\n",
       "│ anual_pre ┆ cesion_re ┆ 1111      ┆ mantenido ┆ … ┆ 2023-11-1 ┆ 2024-01-1 ┆ 2025-01-1 ┆ 240.0    │\n",
       "│ _vigencia ┆ a_prop    ┆           ┆           ┆   ┆ 5         ┆ 5         ┆ 5         ┆          │\n",
       "│ anual_mis ┆ cesion_re ┆ 1111      ┆ mantenido ┆ … ┆ 2024-01-0 ┆ 2024-01-1 ┆ 2025-01-1 ┆ 180.0    │\n",
       "│ ma_vigenc ┆ a_prop    ┆           ┆           ┆   ┆ 1         ┆ 5         ┆ 5         ┆          │\n",
       "│ ia        ┆           ┆           ┆           ┆   ┆           ┆           ┆           ┆          │\n",
       "│ anual_pre ┆ cesion_re ┆ 1111      ┆ mantenido ┆ … ┆ 2023-11-1 ┆ 2024-01-1 ┆ 2025-01-1 ┆ 240.0    │\n",
       "│ _vigencia ┆ a_prop    ┆           ┆           ┆   ┆ 5         ┆ 5         ┆ 5         ┆          │\n",
       "│ anual_mis ┆ cesion_re ┆ 1111      ┆ mantenido ┆ … ┆ 2024-01-0 ┆ 2024-01-1 ┆ 2025-01-1 ┆ 180.0    │\n",
       "│ ma_vigenc ┆ a_prop    ┆           ┆           ┆   ┆ 1         ┆ 5         ┆ 5         ┆          │\n",
       "│ ia        ┆           ┆           ┆           ┆   ┆           ┆           ┆           ┆          │\n",
       "│ …         ┆ …         ┆ …         ┆ …         ┆ … ┆ …         ┆ …         ┆ …         ┆ …        │\n",
       "│ mensual_m ┆ cesion_re ┆ 1245      ┆ mantenido ┆ … ┆ 2024-02-2 ┆ 2024-02-2 ┆ 2024-02-1 ┆ 30.0     │\n",
       "│ es_fin    ┆ a_prop    ┆           ┆           ┆   ┆ 0         ┆ 0         ┆ 5         ┆          │\n",
       "│ mensual_p ┆ cesion_re ┆ 1113      ┆ mantenido ┆ … ┆ 2023-12-1 ┆ 2024-01-1 ┆ 2024-02-1 ┆ 30.0     │\n",
       "│ re_vigenc ┆ a_prop    ┆           ┆           ┆   ┆ 5         ┆ 5         ┆ 5         ┆          │\n",
       "│ ia        ┆           ┆           ┆           ┆   ┆           ┆           ┆           ┆          │\n",
       "│ mensual_m ┆ cesion_re ┆ 1245      ┆ mantenido ┆ … ┆ 2024-02-2 ┆ 2024-02-2 ┆ 2024-02-1 ┆ 30.0     │\n",
       "│ es_fin    ┆ a_prop    ┆           ┆           ┆   ┆ 0         ┆ 0         ┆ 5         ┆          │\n",
       "│ mensual_p ┆ cesion_re ┆ 1113      ┆ mantenido ┆ … ┆ 2023-12-1 ┆ 2024-01-1 ┆ 2024-02-1 ┆ 30.0     │\n",
       "│ re_vigenc ┆ a_prop    ┆           ┆           ┆   ┆ 5         ┆ 5         ┆ 5         ┆          │\n",
       "│ ia        ┆           ┆           ┆           ┆   ┆           ┆           ┆           ┆          │\n",
       "│ mensual_m ┆ cesion_re ┆ 1245      ┆ mantenido ┆ … ┆ 2024-02-2 ┆ 2024-02-2 ┆ 2024-02-1 ┆ 30.0     │\n",
       "│ es_fin    ┆ a_prop    ┆           ┆           ┆   ┆ 0         ┆ 0         ┆ 5         ┆          │\n",
       "└───────────┴───────────┴───────────┴───────────┴───┴───────────┴───────────┴───────────┴──────────┘"
      ]
     },
     "execution_count": 5,
     "metadata": {},
     "output_type": "execute_result"
    }
   ],
   "source": [
    "# prepara el insumo para el devengo\n",
    "input_cesion_rea = prep_data.prep_input_prima_rea(cesion_rea, param_contab, excepciones, FECHA_VALORACION)\n",
    "input_cesion_rea"
   ]
  },
  {
   "attachments": {},
   "cell_type": "markdown",
   "metadata": {},
   "source": [
    "### Componente de descuento comercial sobre la cesión\n",
    "- En linea con la circular externa 2255 de 2015, el descuento comercial nos lleva a reconocer una reserva más alta del seguro directo, esto se traduce en una reserva más baja por este componente de descuento comercial en el reaseguro proporcional\n",
    "- Al igual que en el descuento para el seguro directo, se reconstruye la prima completa antes de descuento, pero no emitida sino cedida\n",
    "\n",
    "$$Prima Cedida Reconstruida = Prima Cedida / (Porc dcto Tecnico + Porc dcto Comercial)$$\n",
    "$$DescuentoComercialCedido = PrimaCedidaReconstruida * PorcdctoComercial$$"
   ]
  },
  {
   "cell_type": "code",
   "execution_count": 6,
   "metadata": {},
   "outputs": [
    {
     "data": {
      "text/html": [
       "<div><style>\n",
       ".dataframe > thead > tr,\n",
       ".dataframe > tbody > tr {\n",
       "  text-align: right;\n",
       "  white-space: pre-wrap;\n",
       "}\n",
       "</style>\n",
       "<small>shape: (9, 41)</small><table border=\"1\" class=\"dataframe\"><thead><tr><th>aux_casuistica</th><th>tipo_insumo</th><th>contrato_reaseguro</th><th>tipo_negocio</th><th>nit_reasegurador</th><th>tipo_reasegurador</th><th>porc_participacion_reasegurador</th><th>poliza</th><th>fecha_expedicion_poliza</th><th>recibo</th><th>fe_ini_vig_contrato_reaseguro</th><th>fe_fin_vig_contrato_reaseguro</th><th>amparo</th><th>poliza_certificado</th><th>compania</th><th>ramo_sura</th><th>canal</th><th>producto</th><th>tipo_op</th><th>moneda</th><th>fecha_contabilizacion_recibo</th><th>fecha_inicio_vigencia_recibo</th><th>fecha_fin_vigencia_recibo</th><th>fecha_inicio_vigencia_cobertura</th><th>fecha_fin_vigencia_cobertura</th><th>valor_prima_emitida</th><th>valor_prima_cedida</th><th>porc_cesion</th><th>tipo_contabilidad</th><th>componente</th><th>tipo_contrato</th><th>nivel_detalle</th><th>signo_constitucion</th><th>candidato_devengo_50_50</th><th>podto_comercial</th><th>podto_tecnico</th><th>fecha_inicio_vigencia</th><th>fecha_constitucion</th><th>fecha_inicio_devengo</th><th>fecha_fin_devengo</th><th>valor_base_devengo</th></tr><tr><td>str</td><td>str</td><td>i64</td><td>str</td><td>i64</td><td>str</td><td>f64</td><td>i64</td><td>date</td><td>i64</td><td>date</td><td>date</td><td>str</td><td>i64</td><td>str</td><td>str</td><td>str</td><td>str</td><td>str</td><td>str</td><td>date</td><td>date</td><td>date</td><td>date</td><td>date</td><td>i64</td><td>i64</td><td>f64</td><td>str</td><td>str</td><td>str</td><td>str</td><td>i64</td><td>i32</td><td>f64</td><td>f64</td><td>date</td><td>date</td><td>date</td><td>date</td><td>f64</td></tr></thead><tbody><tr><td>&quot;mensual_mes_fin&quot;</td><td>&quot;dcto_rea_prop&quot;</td><td>1245</td><td>&quot;mantenido&quot;</td><td>2374188</td><td>&quot;int&quot;</td><td>0.5</td><td>345675387</td><td>2024-02-20</td><td>293843154301</td><td>2024-01-01</td><td>2024-12-31</td><td>&quot;HURTO&quot;</td><td>345675807</td><td>&quot;01&quot;</td><td>&quot;040&quot;</td><td>&quot;sucursal&quot;</td><td>&quot;plan_2&quot;</td><td>&quot;emision&quot;</td><td>&quot;COP&quot;</td><td>2024-02-20</td><td>2024-01-15</td><td>2024-02-15</td><td>2024-01-15</td><td>2024-02-15</td><td>100</td><td>60</td><td>0.6</td><td>&quot;ifrs4&quot;</td><td>&quot;descuento_comercial&quot;</td><td>&quot;reaseguro_proporcional&quot;</td><td>&quot;recibo&quot;</td><td>-1</td><td>1</td><td>0.08</td><td>0.04</td><td>2024-01-15</td><td>2024-02-20</td><td>2024-02-20</td><td>2024-02-15</td><td>2.727273</td></tr><tr><td>&quot;anual_misma_vigencia&quot;</td><td>&quot;dcto_rea_prop&quot;</td><td>1111</td><td>&quot;mantenido&quot;</td><td>3693358</td><td>&quot;ext&quot;</td><td>0.3</td><td>124324091</td><td>2024-01-01</td><td>293842989501</td><td>2023-07-01</td><td>2024-06-30</td><td>&quot;INVALIDEZ&quot;</td><td>124324511</td><td>&quot;02&quot;</td><td>&quot;083&quot;</td><td>&quot;banca&quot;</td><td>&quot;plan_3&quot;</td><td>&quot;emision&quot;</td><td>&quot;USD&quot;</td><td>2024-01-01</td><td>2024-01-15</td><td>2025-01-15</td><td>2024-01-15</td><td>2025-01-15</td><td>1200</td><td>600</td><td>0.5</td><td>&quot;ifrs4&quot;</td><td>&quot;descuento_comercial&quot;</td><td>&quot;reaseguro_proporcional&quot;</td><td>&quot;recibo&quot;</td><td>-1</td><td>1</td><td>0.06</td><td>0.04</td><td>2024-01-15</td><td>2024-01-01</td><td>2024-01-15</td><td>2025-01-15</td><td>12.0</td></tr><tr><td>&quot;anual_pre_vigencia&quot;</td><td>&quot;dcto_rea_prop&quot;</td><td>1111</td><td>&quot;mantenido&quot;</td><td>2374188</td><td>&quot;int&quot;</td><td>0.4</td><td>124324092</td><td>2023-11-15</td><td>293843030701</td><td>2023-07-01</td><td>2024-06-30</td><td>&quot;INVALIDEZ&quot;</td><td>124324512</td><td>&quot;02&quot;</td><td>&quot;083&quot;</td><td>&quot;banca&quot;</td><td>&quot;plan_3&quot;</td><td>&quot;emision&quot;</td><td>&quot;COP&quot;</td><td>2023-11-15</td><td>2024-01-15</td><td>2025-01-15</td><td>2024-01-15</td><td>2025-01-15</td><td>1200</td><td>600</td><td>0.5</td><td>&quot;ifrs4&quot;</td><td>&quot;descuento_comercial&quot;</td><td>&quot;reaseguro_proporcional&quot;</td><td>&quot;recibo&quot;</td><td>-1</td><td>1</td><td>0.08</td><td>0.01</td><td>2024-01-15</td><td>2023-11-15</td><td>2024-01-15</td><td>2025-01-15</td><td>21.098901</td></tr><tr><td>&quot;mensual_pre_vigencia&quot;</td><td>&quot;dcto_rea_prop&quot;</td><td>1113</td><td>&quot;mantenido&quot;</td><td>3339928</td><td>&quot;ext&quot;</td><td>1.0</td><td>634535346</td><td>2023-12-15</td><td>293843113101</td><td>2023-07-01</td><td>2024-06-30</td><td>&quot;AMBULATORIO&quot;</td><td>634535766</td><td>&quot;02&quot;</td><td>&quot;091&quot;</td><td>&quot;sucursal&quot;</td><td>&quot;plan_3&quot;</td><td>&quot;emision&quot;</td><td>&quot;COP&quot;</td><td>2023-12-15</td><td>2024-01-15</td><td>2024-02-15</td><td>2024-01-15</td><td>2024-02-15</td><td>100</td><td>30</td><td>0.3</td><td>&quot;ifrs4&quot;</td><td>&quot;descuento_comercial&quot;</td><td>&quot;reaseguro_proporcional&quot;</td><td>&quot;recibo&quot;</td><td>-1</td><td>1</td><td>0.03</td><td>0.06</td><td>2024-01-15</td><td>2023-12-15</td><td>2024-01-15</td><td>2024-02-15</td><td>0.989011</td></tr><tr><td>&quot;mensual_mes_fin&quot;</td><td>&quot;dcto_rea_prop&quot;</td><td>1245</td><td>&quot;mantenido&quot;</td><td>3693358</td><td>&quot;ext&quot;</td><td>0.5</td><td>345675387</td><td>2024-02-20</td><td>293843154301</td><td>2024-01-01</td><td>2024-12-31</td><td>&quot;HURTO&quot;</td><td>345675807</td><td>&quot;01&quot;</td><td>&quot;040&quot;</td><td>&quot;sucursal&quot;</td><td>&quot;plan_2&quot;</td><td>&quot;emision&quot;</td><td>&quot;COP&quot;</td><td>2024-02-20</td><td>2024-01-15</td><td>2024-02-15</td><td>2024-01-15</td><td>2024-02-15</td><td>100</td><td>60</td><td>0.6</td><td>&quot;ifrs4&quot;</td><td>&quot;descuento_comercial&quot;</td><td>&quot;reaseguro_proporcional&quot;</td><td>&quot;recibo&quot;</td><td>-1</td><td>1</td><td>0.08</td><td>0.04</td><td>2024-01-15</td><td>2024-02-20</td><td>2024-02-20</td><td>2024-02-15</td><td>2.727273</td></tr><tr><td>&quot;anual_misma_vigencia&quot;</td><td>&quot;dcto_rea_prop&quot;</td><td>1111</td><td>&quot;mantenido&quot;</td><td>2374188</td><td>&quot;int&quot;</td><td>0.4</td><td>124324091</td><td>2024-01-01</td><td>293842989501</td><td>2023-07-01</td><td>2024-06-30</td><td>&quot;INVALIDEZ&quot;</td><td>124324511</td><td>&quot;02&quot;</td><td>&quot;083&quot;</td><td>&quot;banca&quot;</td><td>&quot;plan_3&quot;</td><td>&quot;emision&quot;</td><td>&quot;USD&quot;</td><td>2024-01-01</td><td>2024-01-15</td><td>2025-01-15</td><td>2024-01-15</td><td>2025-01-15</td><td>1200</td><td>600</td><td>0.5</td><td>&quot;ifrs4&quot;</td><td>&quot;descuento_comercial&quot;</td><td>&quot;reaseguro_proporcional&quot;</td><td>&quot;recibo&quot;</td><td>-1</td><td>1</td><td>0.06</td><td>0.04</td><td>2024-01-15</td><td>2024-01-01</td><td>2024-01-15</td><td>2025-01-15</td><td>16.0</td></tr><tr><td>&quot;anual_misma_vigencia&quot;</td><td>&quot;dcto_rea_prop&quot;</td><td>1111</td><td>&quot;mantenido&quot;</td><td>6987458</td><td>&quot;int&quot;</td><td>0.3</td><td>124324091</td><td>2024-01-01</td><td>293842989501</td><td>2023-07-01</td><td>2024-06-30</td><td>&quot;INVALIDEZ&quot;</td><td>124324511</td><td>&quot;02&quot;</td><td>&quot;083&quot;</td><td>&quot;banca&quot;</td><td>&quot;plan_3&quot;</td><td>&quot;emision&quot;</td><td>&quot;USD&quot;</td><td>2024-01-01</td><td>2024-01-15</td><td>2025-01-15</td><td>2024-01-15</td><td>2025-01-15</td><td>1200</td><td>600</td><td>0.5</td><td>&quot;ifrs4&quot;</td><td>&quot;descuento_comercial&quot;</td><td>&quot;reaseguro_proporcional&quot;</td><td>&quot;recibo&quot;</td><td>-1</td><td>1</td><td>0.06</td><td>0.04</td><td>2024-01-15</td><td>2024-01-01</td><td>2024-01-15</td><td>2025-01-15</td><td>12.0</td></tr><tr><td>&quot;anual_pre_vigencia&quot;</td><td>&quot;dcto_rea_prop&quot;</td><td>1111</td><td>&quot;mantenido&quot;</td><td>6987458</td><td>&quot;int&quot;</td><td>0.3</td><td>124324092</td><td>2023-11-15</td><td>293843030701</td><td>2023-07-01</td><td>2024-06-30</td><td>&quot;INVALIDEZ&quot;</td><td>124324512</td><td>&quot;02&quot;</td><td>&quot;083&quot;</td><td>&quot;banca&quot;</td><td>&quot;plan_3&quot;</td><td>&quot;emision&quot;</td><td>&quot;COP&quot;</td><td>2023-11-15</td><td>2024-01-15</td><td>2025-01-15</td><td>2024-01-15</td><td>2025-01-15</td><td>1200</td><td>600</td><td>0.5</td><td>&quot;ifrs4&quot;</td><td>&quot;descuento_comercial&quot;</td><td>&quot;reaseguro_proporcional&quot;</td><td>&quot;recibo&quot;</td><td>-1</td><td>1</td><td>0.08</td><td>0.01</td><td>2024-01-15</td><td>2023-11-15</td><td>2024-01-15</td><td>2025-01-15</td><td>15.824176</td></tr><tr><td>&quot;anual_pre_vigencia&quot;</td><td>&quot;dcto_rea_prop&quot;</td><td>1111</td><td>&quot;mantenido&quot;</td><td>3693358</td><td>&quot;ext&quot;</td><td>0.3</td><td>124324092</td><td>2023-11-15</td><td>293843030701</td><td>2023-07-01</td><td>2024-06-30</td><td>&quot;INVALIDEZ&quot;</td><td>124324512</td><td>&quot;02&quot;</td><td>&quot;083&quot;</td><td>&quot;banca&quot;</td><td>&quot;plan_3&quot;</td><td>&quot;emision&quot;</td><td>&quot;COP&quot;</td><td>2023-11-15</td><td>2024-01-15</td><td>2025-01-15</td><td>2024-01-15</td><td>2025-01-15</td><td>1200</td><td>600</td><td>0.5</td><td>&quot;ifrs4&quot;</td><td>&quot;descuento_comercial&quot;</td><td>&quot;reaseguro_proporcional&quot;</td><td>&quot;recibo&quot;</td><td>-1</td><td>1</td><td>0.08</td><td>0.01</td><td>2024-01-15</td><td>2023-11-15</td><td>2024-01-15</td><td>2025-01-15</td><td>15.824176</td></tr></tbody></table></div>"
      ],
      "text/plain": [
       "shape: (9, 41)\n",
       "┌───────────┬───────────┬───────────┬───────────┬───┬───────────┬───────────┬───────────┬──────────┐\n",
       "│ aux_casui ┆ tipo_insu ┆ contrato_ ┆ tipo_nego ┆ … ┆ fecha_con ┆ fecha_ini ┆ fecha_fin ┆ valor_ba │\n",
       "│ stica     ┆ mo        ┆ reaseguro ┆ cio       ┆   ┆ stitucion ┆ cio_deven ┆ _devengo  ┆ se_deven │\n",
       "│ ---       ┆ ---       ┆ ---       ┆ ---       ┆   ┆ ---       ┆ go        ┆ ---       ┆ go       │\n",
       "│ str       ┆ str       ┆ i64       ┆ str       ┆   ┆ date      ┆ ---       ┆ date      ┆ ---      │\n",
       "│           ┆           ┆           ┆           ┆   ┆           ┆ date      ┆           ┆ f64      │\n",
       "╞═══════════╪═══════════╪═══════════╪═══════════╪═══╪═══════════╪═══════════╪═══════════╪══════════╡\n",
       "│ mensual_m ┆ dcto_rea_ ┆ 1245      ┆ mantenido ┆ … ┆ 2024-02-2 ┆ 2024-02-2 ┆ 2024-02-1 ┆ 2.727273 │\n",
       "│ es_fin    ┆ prop      ┆           ┆           ┆   ┆ 0         ┆ 0         ┆ 5         ┆          │\n",
       "│ anual_mis ┆ dcto_rea_ ┆ 1111      ┆ mantenido ┆ … ┆ 2024-01-0 ┆ 2024-01-1 ┆ 2025-01-1 ┆ 12.0     │\n",
       "│ ma_vigenc ┆ prop      ┆           ┆           ┆   ┆ 1         ┆ 5         ┆ 5         ┆          │\n",
       "│ ia        ┆           ┆           ┆           ┆   ┆           ┆           ┆           ┆          │\n",
       "│ anual_pre ┆ dcto_rea_ ┆ 1111      ┆ mantenido ┆ … ┆ 2023-11-1 ┆ 2024-01-1 ┆ 2025-01-1 ┆ 21.09890 │\n",
       "│ _vigencia ┆ prop      ┆           ┆           ┆   ┆ 5         ┆ 5         ┆ 5         ┆ 1        │\n",
       "│ mensual_p ┆ dcto_rea_ ┆ 1113      ┆ mantenido ┆ … ┆ 2023-12-1 ┆ 2024-01-1 ┆ 2024-02-1 ┆ 0.989011 │\n",
       "│ re_vigenc ┆ prop      ┆           ┆           ┆   ┆ 5         ┆ 5         ┆ 5         ┆          │\n",
       "│ ia        ┆           ┆           ┆           ┆   ┆           ┆           ┆           ┆          │\n",
       "│ mensual_m ┆ dcto_rea_ ┆ 1245      ┆ mantenido ┆ … ┆ 2024-02-2 ┆ 2024-02-2 ┆ 2024-02-1 ┆ 2.727273 │\n",
       "│ es_fin    ┆ prop      ┆           ┆           ┆   ┆ 0         ┆ 0         ┆ 5         ┆          │\n",
       "│ anual_mis ┆ dcto_rea_ ┆ 1111      ┆ mantenido ┆ … ┆ 2024-01-0 ┆ 2024-01-1 ┆ 2025-01-1 ┆ 16.0     │\n",
       "│ ma_vigenc ┆ prop      ┆           ┆           ┆   ┆ 1         ┆ 5         ┆ 5         ┆          │\n",
       "│ ia        ┆           ┆           ┆           ┆   ┆           ┆           ┆           ┆          │\n",
       "│ anual_mis ┆ dcto_rea_ ┆ 1111      ┆ mantenido ┆ … ┆ 2024-01-0 ┆ 2024-01-1 ┆ 2025-01-1 ┆ 12.0     │\n",
       "│ ma_vigenc ┆ prop      ┆           ┆           ┆   ┆ 1         ┆ 5         ┆ 5         ┆          │\n",
       "│ ia        ┆           ┆           ┆           ┆   ┆           ┆           ┆           ┆          │\n",
       "│ anual_pre ┆ dcto_rea_ ┆ 1111      ┆ mantenido ┆ … ┆ 2023-11-1 ┆ 2024-01-1 ┆ 2025-01-1 ┆ 15.82417 │\n",
       "│ _vigencia ┆ prop      ┆           ┆           ┆   ┆ 5         ┆ 5         ┆ 5         ┆ 6        │\n",
       "│ anual_pre ┆ dcto_rea_ ┆ 1111      ┆ mantenido ┆ … ┆ 2023-11-1 ┆ 2024-01-1 ┆ 2025-01-1 ┆ 15.82417 │\n",
       "│ _vigencia ┆ prop      ┆           ┆           ┆   ┆ 5         ┆ 5         ┆ 5         ┆ 6        │\n",
       "└───────────┴───────────┴───────────┴───────────┴───┴───────────┴───────────┴───────────┴──────────┘"
      ]
     },
     "execution_count": 6,
     "metadata": {},
     "output_type": "execute_result"
    }
   ],
   "source": [
    "# prepara el insumo para el devengo\n",
    "input_dcto_rea = prep_data.prep_input_dcto_rea(cesion_rea, param_contab, excepciones, descuentos, FECHA_VALORACION)\n",
    "input_dcto_rea"
   ]
  },
  {
   "attachments": {},
   "cell_type": "markdown",
   "metadata": {},
   "source": [
    "### Componente de Gasto de Expedición sobre la Cesión\n",
    "- Técnicamente no debería netearse de la reserva de reaseguro el gasto de expedición porque no está asociado a la cesión, sino a la emisión del seguro directo. Sin embargo, como hoy se hace por principio de simetría bajo NIIF4, se mantendrá este cálculo y se eliminará el efecto con el ajuste del DAC cedido como se definió en la política contable de la compañía.\n",
    "\n",
    "- En ifrs17 no aplica, por eso no existe la combinación en el cruce de parametros de contabilidad"
   ]
  },
  {
   "cell_type": "code",
   "execution_count": 7,
   "metadata": {},
   "outputs": [
    {
     "data": {
      "text/html": [
       "<div><style>\n",
       ".dataframe > thead > tr,\n",
       ".dataframe > tbody > tr {\n",
       "  text-align: right;\n",
       "  white-space: pre-wrap;\n",
       "}\n",
       "</style>\n",
       "<small>shape: (4, 43)</small><table border=\"1\" class=\"dataframe\"><thead><tr><th>aux_casuistica</th><th>tipo_insumo</th><th>contrato_reaseguro</th><th>tipo_negocio</th><th>nit_reasegurador</th><th>tipo_reasegurador</th><th>porc_participacion_reasegurador</th><th>poliza</th><th>fecha_expedicion_poliza</th><th>recibo</th><th>fe_ini_vig_contrato_reaseguro</th><th>fe_fin_vig_contrato_reaseguro</th><th>amparo</th><th>poliza_certificado</th><th>compania</th><th>ramo_sura</th><th>canal</th><th>producto</th><th>tipo_op</th><th>moneda</th><th>fecha_contabilizacion_recibo</th><th>fecha_inicio_vigencia_recibo</th><th>fecha_fin_vigencia_recibo</th><th>fecha_inicio_vigencia_cobertura</th><th>fecha_fin_vigencia_cobertura</th><th>valor_prima_emitida</th><th>valor_prima_cedida</th><th>porc_cesion</th><th>tipo_gasto</th><th>porc_gasto</th><th>prioridad_match</th><th>rn</th><th>tipo_contabilidad</th><th>componente</th><th>tipo_contrato</th><th>nivel_detalle</th><th>signo_constitucion</th><th>candidato_devengo_50_50</th><th>fecha_inicio_vigencia</th><th>fecha_constitucion</th><th>fecha_inicio_devengo</th><th>fecha_fin_devengo</th><th>valor_base_devengo</th></tr><tr><td>str</td><td>str</td><td>i64</td><td>str</td><td>i64</td><td>str</td><td>f64</td><td>i64</td><td>date</td><td>i64</td><td>date</td><td>date</td><td>str</td><td>i64</td><td>str</td><td>str</td><td>str</td><td>str</td><td>str</td><td>str</td><td>date</td><td>date</td><td>date</td><td>date</td><td>date</td><td>i64</td><td>i64</td><td>f64</td><td>str</td><td>f64</td><td>i32</td><td>i64</td><td>str</td><td>str</td><td>str</td><td>str</td><td>i64</td><td>i32</td><td>date</td><td>date</td><td>date</td><td>date</td><td>f64</td></tr></thead><tbody><tr><td>&quot;anual_pre_vigencia&quot;</td><td>&quot;gasto_comi_rea_prop&quot;</td><td>1111</td><td>&quot;mantenido&quot;</td><td>6987458</td><td>&quot;int&quot;</td><td>0.3</td><td>124324092</td><td>2023-11-15</td><td>293843030701</td><td>2023-07-01</td><td>2024-06-30</td><td>&quot;INVALIDEZ&quot;</td><td>124324512</td><td>&quot;02&quot;</td><td>&quot;083&quot;</td><td>&quot;banca&quot;</td><td>&quot;plan_3&quot;</td><td>&quot;emision&quot;</td><td>&quot;COP&quot;</td><td>2023-11-15</td><td>2024-01-15</td><td>2025-01-15</td><td>2024-01-15</td><td>2025-01-15</td><td>1200</td><td>600</td><td>0.5</td><td>&quot;expedicion_comisiones&quot;</td><td>1.1</td><td>2</td><td>1</td><td>&quot;ifrs4&quot;</td><td>&quot;gasto_exp_comisiones&quot;</td><td>&quot;reaseguro_proporcional&quot;</td><td>&quot;recibo&quot;</td><td>1</td><td>1</td><td>2024-01-15</td><td>2023-11-15</td><td>2024-01-15</td><td>2025-01-15</td><td>198.0</td></tr><tr><td>&quot;mensual_mes_fin&quot;</td><td>&quot;gasto_comi_rea_prop&quot;</td><td>1245</td><td>&quot;mantenido&quot;</td><td>2374188</td><td>&quot;int&quot;</td><td>0.5</td><td>345675387</td><td>2024-02-20</td><td>293843154301</td><td>2024-01-01</td><td>2024-12-31</td><td>&quot;HURTO&quot;</td><td>345675807</td><td>&quot;01&quot;</td><td>&quot;040&quot;</td><td>&quot;sucursal&quot;</td><td>&quot;plan_2&quot;</td><td>&quot;emision&quot;</td><td>&quot;COP&quot;</td><td>2024-02-20</td><td>2024-01-15</td><td>2024-02-15</td><td>2024-01-15</td><td>2024-02-15</td><td>100</td><td>60</td><td>0.6</td><td>&quot;expedicion_comisiones&quot;</td><td>0.1</td><td>2</td><td>1</td><td>&quot;ifrs4&quot;</td><td>&quot;gasto_exp_comisiones&quot;</td><td>&quot;reaseguro_proporcional&quot;</td><td>&quot;recibo&quot;</td><td>1</td><td>1</td><td>2024-01-15</td><td>2024-02-20</td><td>2024-02-20</td><td>2024-02-15</td><td>3.0</td></tr><tr><td>&quot;anual_misma_vigencia&quot;</td><td>&quot;gasto_comi_rea_prop&quot;</td><td>1111</td><td>&quot;mantenido&quot;</td><td>2374188</td><td>&quot;int&quot;</td><td>0.4</td><td>124324091</td><td>2024-01-01</td><td>293842989501</td><td>2023-07-01</td><td>2024-06-30</td><td>&quot;INVALIDEZ&quot;</td><td>124324511</td><td>&quot;02&quot;</td><td>&quot;083&quot;</td><td>&quot;banca&quot;</td><td>&quot;plan_3&quot;</td><td>&quot;emision&quot;</td><td>&quot;USD&quot;</td><td>2024-01-01</td><td>2024-01-15</td><td>2025-01-15</td><td>2024-01-15</td><td>2025-01-15</td><td>1200</td><td>600</td><td>0.5</td><td>&quot;expedicion_comisiones&quot;</td><td>1.1</td><td>2</td><td>1</td><td>&quot;ifrs4&quot;</td><td>&quot;gasto_exp_comisiones&quot;</td><td>&quot;reaseguro_proporcional&quot;</td><td>&quot;recibo&quot;</td><td>1</td><td>1</td><td>2024-01-15</td><td>2024-01-01</td><td>2024-01-15</td><td>2025-01-15</td><td>264.0</td></tr><tr><td>&quot;mensual_pre_vigencia&quot;</td><td>&quot;gasto_comi_rea_prop&quot;</td><td>1113</td><td>&quot;mantenido&quot;</td><td>3339928</td><td>&quot;ext&quot;</td><td>1.0</td><td>634535346</td><td>2023-12-15</td><td>293843113101</td><td>2023-07-01</td><td>2024-06-30</td><td>&quot;AMBULATORIO&quot;</td><td>634535766</td><td>&quot;02&quot;</td><td>&quot;091&quot;</td><td>&quot;sucursal&quot;</td><td>&quot;plan_3&quot;</td><td>&quot;emision&quot;</td><td>&quot;COP&quot;</td><td>2023-12-15</td><td>2024-01-15</td><td>2024-02-15</td><td>2024-01-15</td><td>2024-02-15</td><td>100</td><td>30</td><td>0.3</td><td>&quot;expedicion_comisiones&quot;</td><td>0.15</td><td>2</td><td>1</td><td>&quot;ifrs4&quot;</td><td>&quot;gasto_exp_comisiones&quot;</td><td>&quot;reaseguro_proporcional&quot;</td><td>&quot;recibo&quot;</td><td>1</td><td>1</td><td>2024-01-15</td><td>2023-12-15</td><td>2024-01-15</td><td>2024-02-15</td><td>4.5</td></tr></tbody></table></div>"
      ],
      "text/plain": [
       "shape: (4, 43)\n",
       "┌───────────┬───────────┬───────────┬───────────┬───┬───────────┬───────────┬───────────┬──────────┐\n",
       "│ aux_casui ┆ tipo_insu ┆ contrato_ ┆ tipo_nego ┆ … ┆ fecha_con ┆ fecha_ini ┆ fecha_fin ┆ valor_ba │\n",
       "│ stica     ┆ mo        ┆ reaseguro ┆ cio       ┆   ┆ stitucion ┆ cio_deven ┆ _devengo  ┆ se_deven │\n",
       "│ ---       ┆ ---       ┆ ---       ┆ ---       ┆   ┆ ---       ┆ go        ┆ ---       ┆ go       │\n",
       "│ str       ┆ str       ┆ i64       ┆ str       ┆   ┆ date      ┆ ---       ┆ date      ┆ ---      │\n",
       "│           ┆           ┆           ┆           ┆   ┆           ┆ date      ┆           ┆ f64      │\n",
       "╞═══════════╪═══════════╪═══════════╪═══════════╪═══╪═══════════╪═══════════╪═══════════╪══════════╡\n",
       "│ anual_pre ┆ gasto_com ┆ 1111      ┆ mantenido ┆ … ┆ 2023-11-1 ┆ 2024-01-1 ┆ 2025-01-1 ┆ 198.0    │\n",
       "│ _vigencia ┆ i_rea_pro ┆           ┆           ┆   ┆ 5         ┆ 5         ┆ 5         ┆          │\n",
       "│           ┆ p         ┆           ┆           ┆   ┆           ┆           ┆           ┆          │\n",
       "│ mensual_m ┆ gasto_com ┆ 1245      ┆ mantenido ┆ … ┆ 2024-02-2 ┆ 2024-02-2 ┆ 2024-02-1 ┆ 3.0      │\n",
       "│ es_fin    ┆ i_rea_pro ┆           ┆           ┆   ┆ 0         ┆ 0         ┆ 5         ┆          │\n",
       "│           ┆ p         ┆           ┆           ┆   ┆           ┆           ┆           ┆          │\n",
       "│ anual_mis ┆ gasto_com ┆ 1111      ┆ mantenido ┆ … ┆ 2024-01-0 ┆ 2024-01-1 ┆ 2025-01-1 ┆ 264.0    │\n",
       "│ ma_vigenc ┆ i_rea_pro ┆           ┆           ┆   ┆ 1         ┆ 5         ┆ 5         ┆          │\n",
       "│ ia        ┆ p         ┆           ┆           ┆   ┆           ┆           ┆           ┆          │\n",
       "│ mensual_p ┆ gasto_com ┆ 1113      ┆ mantenido ┆ … ┆ 2023-12-1 ┆ 2024-01-1 ┆ 2024-02-1 ┆ 4.5      │\n",
       "│ re_vigenc ┆ i_rea_pro ┆           ┆           ┆   ┆ 5         ┆ 5         ┆ 5         ┆          │\n",
       "│ ia        ┆ p         ┆           ┆           ┆   ┆           ┆           ┆           ┆          │\n",
       "└───────────┴───────────┴───────────┴───────────┴───┴───────────┴───────────┴───────────┴──────────┘"
      ]
     },
     "execution_count": 7,
     "metadata": {},
     "output_type": "execute_result"
    }
   ],
   "source": [
    "# prepara el insumo para el devengo\n",
    "input_gasto_rea = prep_data.prep_input_gasto_rea(cesion_rea, param_contab, excepciones, gasto, FECHA_VALORACION)\n",
    "input_gasto_rea"
   ]
  },
  {
   "attachments": {},
   "cell_type": "markdown",
   "metadata": {},
   "source": [
    "### Componente de Comisiones de Reaseguro\n",
    "\n",
    "- En IFRS4 no hacía parte de la RPND, se contabiliza aparte, pero se podría implementar para eliminar el devengamiento manual\n",
    "- En IFRS17 se reconocerá como un flujo asociado al reaseguro, por lo cual hará parte de la PCR"
   ]
  },
  {
   "cell_type": "code",
   "execution_count": 8,
   "metadata": {},
   "outputs": [
    {
     "data": {
      "text/html": [
       "<div><style>\n",
       ".dataframe > thead > tr,\n",
       ".dataframe > tbody > tr {\n",
       "  text-align: right;\n",
       "  white-space: pre-wrap;\n",
       "}\n",
       "</style>\n",
       "<small>shape: (24, 35)</small><table border=\"1\" class=\"dataframe\"><thead><tr><th>aux_casuistica</th><th>tipo_insumo</th><th>contrato_reaseguro</th><th>tipo_negocio</th><th>nit_reasegurador</th><th>tipo_reasegurador</th><th>porc_participacion_reasegurador</th><th>recibo</th><th>fe_ini_vig_contrato_rea</th><th>compania</th><th>ramo_sura</th><th>poliza</th><th>amparo</th><th>poliza_certificado</th><th>canal_directo</th><th>producto</th><th>moneda</th><th>fecha_contabilizacion_recibo</th><th>fecha_inicio_vigencia_recibo</th><th>fecha_fin_vigencia_recibo</th><th>fecha_inicio_vigencia_cobertura</th><th>fecha_fin_vigencia_cobertura</th><th>valor_comision_rea</th><th>porc_comision_rea</th><th>tipo_contabilidad</th><th>componente</th><th>tipo_contrato</th><th>nivel_detalle</th><th>signo_constitucion</th><th>candidato_devengo_50_50</th><th>fecha_inicio_vigencia</th><th>fecha_constitucion</th><th>fecha_inicio_devengo</th><th>fecha_fin_devengo</th><th>valor_base_devengo</th></tr><tr><td>str</td><td>str</td><td>i64</td><td>str</td><td>i64</td><td>str</td><td>f64</td><td>i64</td><td>date</td><td>str</td><td>str</td><td>i64</td><td>str</td><td>i64</td><td>str</td><td>str</td><td>str</td><td>date</td><td>date</td><td>date</td><td>date</td><td>date</td><td>i64</td><td>f64</td><td>str</td><td>str</td><td>str</td><td>str</td><td>i64</td><td>i32</td><td>date</td><td>date</td><td>date</td><td>date</td><td>f64</td></tr></thead><tbody><tr><td>&quot;anual_misma_vigencia&quot;</td><td>&quot;comision_rea_prop&quot;</td><td>1111</td><td>&quot;mantenido&quot;</td><td>2374188</td><td>&quot;int&quot;</td><td>0.4</td><td>6720148806</td><td>2023-07-01</td><td>&quot;02&quot;</td><td>&quot;083&quot;</td><td>124324091</td><td>&quot;INVALIDEZ&quot;</td><td>124324511</td><td>&quot;banca&quot;</td><td>&quot;plan_3&quot;</td><td>&quot;USD&quot;</td><td>2024-01-01</td><td>2024-01-15</td><td>2025-01-15</td><td>2024-01-15</td><td>2025-01-15</td><td>120</td><td>0.2</td><td>&quot;ifrs17_corporativo&quot;</td><td>&quot;comision_cesion&quot;</td><td>&quot;reaseguro_proporcional&quot;</td><td>&quot;cobertura&quot;</td><td>-1</td><td>0</td><td>2024-01-15</td><td>2024-01-01</td><td>2024-01-15</td><td>2025-01-15</td><td>48.0</td></tr><tr><td>&quot;anual_misma_vigencia&quot;</td><td>&quot;comision_rea_prop&quot;</td><td>1111</td><td>&quot;mantenido&quot;</td><td>2374188</td><td>&quot;int&quot;</td><td>0.4</td><td>6720148806</td><td>2023-07-01</td><td>&quot;02&quot;</td><td>&quot;083&quot;</td><td>124324091</td><td>&quot;INVALIDEZ&quot;</td><td>124324511</td><td>&quot;banca&quot;</td><td>&quot;plan_3&quot;</td><td>&quot;USD&quot;</td><td>2024-01-01</td><td>2024-01-15</td><td>2025-01-15</td><td>2024-01-15</td><td>2025-01-15</td><td>120</td><td>0.2</td><td>&quot;ifrs17_local&quot;</td><td>&quot;comision_cesion&quot;</td><td>&quot;reaseguro_proporcional&quot;</td><td>&quot;cobertura&quot;</td><td>-1</td><td>0</td><td>2024-01-15</td><td>2024-01-01</td><td>2024-01-15</td><td>2025-01-15</td><td>48.0</td></tr><tr><td>&quot;anual_misma_vigencia&quot;</td><td>&quot;comision_rea_prop&quot;</td><td>1111</td><td>&quot;mantenido&quot;</td><td>2374188</td><td>&quot;int&quot;</td><td>0.4</td><td>6720148806</td><td>2023-07-01</td><td>&quot;02&quot;</td><td>&quot;083&quot;</td><td>124324091</td><td>&quot;INVALIDEZ&quot;</td><td>124324511</td><td>&quot;banca&quot;</td><td>&quot;plan_3&quot;</td><td>&quot;USD&quot;</td><td>2024-01-01</td><td>2024-01-15</td><td>2025-01-15</td><td>2024-01-15</td><td>2025-01-15</td><td>120</td><td>0.2</td><td>&quot;ifrs4&quot;</td><td>&quot;comision_cesion&quot;</td><td>&quot;reaseguro_proporcional&quot;</td><td>&quot;recibo&quot;</td><td>-1</td><td>0</td><td>2024-01-15</td><td>2024-01-01</td><td>2024-01-15</td><td>2025-01-15</td><td>48.0</td></tr><tr><td>&quot;anual_misma_vigencia&quot;</td><td>&quot;comision_rea_prop&quot;</td><td>1111</td><td>&quot;mantenido&quot;</td><td>3693358</td><td>&quot;ext&quot;</td><td>0.3</td><td>1944219246</td><td>2023-07-01</td><td>&quot;02&quot;</td><td>&quot;083&quot;</td><td>124324091</td><td>&quot;INVALIDEZ&quot;</td><td>124324511</td><td>&quot;banca&quot;</td><td>&quot;plan_3&quot;</td><td>&quot;USD&quot;</td><td>2024-01-01</td><td>2024-01-15</td><td>2025-01-15</td><td>2024-01-15</td><td>2025-01-15</td><td>120</td><td>0.2</td><td>&quot;ifrs17_corporativo&quot;</td><td>&quot;comision_cesion&quot;</td><td>&quot;reaseguro_proporcional&quot;</td><td>&quot;cobertura&quot;</td><td>-1</td><td>0</td><td>2024-01-15</td><td>2024-01-01</td><td>2024-01-15</td><td>2025-01-15</td><td>36.0</td></tr><tr><td>&quot;anual_misma_vigencia&quot;</td><td>&quot;comision_rea_prop&quot;</td><td>1111</td><td>&quot;mantenido&quot;</td><td>3693358</td><td>&quot;ext&quot;</td><td>0.3</td><td>1944219246</td><td>2023-07-01</td><td>&quot;02&quot;</td><td>&quot;083&quot;</td><td>124324091</td><td>&quot;INVALIDEZ&quot;</td><td>124324511</td><td>&quot;banca&quot;</td><td>&quot;plan_3&quot;</td><td>&quot;USD&quot;</td><td>2024-01-01</td><td>2024-01-15</td><td>2025-01-15</td><td>2024-01-15</td><td>2025-01-15</td><td>120</td><td>0.2</td><td>&quot;ifrs17_local&quot;</td><td>&quot;comision_cesion&quot;</td><td>&quot;reaseguro_proporcional&quot;</td><td>&quot;cobertura&quot;</td><td>-1</td><td>0</td><td>2024-01-15</td><td>2024-01-01</td><td>2024-01-15</td><td>2025-01-15</td><td>36.0</td></tr><tr><td>&hellip;</td><td>&hellip;</td><td>&hellip;</td><td>&hellip;</td><td>&hellip;</td><td>&hellip;</td><td>&hellip;</td><td>&hellip;</td><td>&hellip;</td><td>&hellip;</td><td>&hellip;</td><td>&hellip;</td><td>&hellip;</td><td>&hellip;</td><td>&hellip;</td><td>&hellip;</td><td>&hellip;</td><td>&hellip;</td><td>&hellip;</td><td>&hellip;</td><td>&hellip;</td><td>&hellip;</td><td>&hellip;</td><td>&hellip;</td><td>&hellip;</td><td>&hellip;</td><td>&hellip;</td><td>&hellip;</td><td>&hellip;</td><td>&hellip;</td><td>&hellip;</td><td>&hellip;</td><td>&hellip;</td><td>&hellip;</td><td>&hellip;</td></tr><tr><td>&quot;mensual_mes_fin&quot;</td><td>&quot;comision_rea_prop&quot;</td><td>1245</td><td>&quot;mantenido&quot;</td><td>3693358</td><td>&quot;ext&quot;</td><td>0.5</td><td>5260869017</td><td>2024-01-01</td><td>&quot;01&quot;</td><td>&quot;040&quot;</td><td>345675387</td><td>&quot;HURTO&quot;</td><td>345675807</td><td>&quot;sucursal&quot;</td><td>&quot;plan_2&quot;</td><td>&quot;COP&quot;</td><td>2024-02-20</td><td>2024-01-15</td><td>2024-02-15</td><td>2024-01-15</td><td>2024-02-15</td><td>6</td><td>0.1</td><td>&quot;ifrs17_local&quot;</td><td>&quot;comision_cesion&quot;</td><td>&quot;reaseguro_proporcional&quot;</td><td>&quot;cobertura&quot;</td><td>-1</td><td>0</td><td>2024-01-15</td><td>2024-02-20</td><td>2024-02-20</td><td>2024-02-15</td><td>3.0</td></tr><tr><td>&quot;mensual_mes_fin&quot;</td><td>&quot;comision_rea_prop&quot;</td><td>1245</td><td>&quot;mantenido&quot;</td><td>3693358</td><td>&quot;ext&quot;</td><td>0.5</td><td>5260869017</td><td>2024-01-01</td><td>&quot;01&quot;</td><td>&quot;040&quot;</td><td>345675387</td><td>&quot;HURTO&quot;</td><td>345675807</td><td>&quot;sucursal&quot;</td><td>&quot;plan_2&quot;</td><td>&quot;COP&quot;</td><td>2024-02-20</td><td>2024-01-15</td><td>2024-02-15</td><td>2024-01-15</td><td>2024-02-15</td><td>6</td><td>0.1</td><td>&quot;ifrs4&quot;</td><td>&quot;comision_cesion&quot;</td><td>&quot;reaseguro_proporcional&quot;</td><td>&quot;recibo&quot;</td><td>-1</td><td>0</td><td>2024-01-15</td><td>2024-02-20</td><td>2024-02-20</td><td>2024-02-15</td><td>3.0</td></tr><tr><td>&quot;mensual_mes_fin&quot;</td><td>&quot;comision_rea_prop&quot;</td><td>1245</td><td>&quot;mantenido&quot;</td><td>2374188</td><td>&quot;int&quot;</td><td>0.5</td><td>1292794322</td><td>2024-01-01</td><td>&quot;01&quot;</td><td>&quot;040&quot;</td><td>345675387</td><td>&quot;HURTO&quot;</td><td>345675807</td><td>&quot;sucursal&quot;</td><td>&quot;plan_2&quot;</td><td>&quot;COP&quot;</td><td>2024-02-20</td><td>2024-01-15</td><td>2024-02-15</td><td>2024-01-15</td><td>2024-02-15</td><td>6</td><td>0.1</td><td>&quot;ifrs17_corporativo&quot;</td><td>&quot;comision_cesion&quot;</td><td>&quot;reaseguro_proporcional&quot;</td><td>&quot;cobertura&quot;</td><td>-1</td><td>0</td><td>2024-01-15</td><td>2024-02-20</td><td>2024-02-20</td><td>2024-02-15</td><td>3.0</td></tr><tr><td>&quot;mensual_mes_fin&quot;</td><td>&quot;comision_rea_prop&quot;</td><td>1245</td><td>&quot;mantenido&quot;</td><td>2374188</td><td>&quot;int&quot;</td><td>0.5</td><td>1292794322</td><td>2024-01-01</td><td>&quot;01&quot;</td><td>&quot;040&quot;</td><td>345675387</td><td>&quot;HURTO&quot;</td><td>345675807</td><td>&quot;sucursal&quot;</td><td>&quot;plan_2&quot;</td><td>&quot;COP&quot;</td><td>2024-02-20</td><td>2024-01-15</td><td>2024-02-15</td><td>2024-01-15</td><td>2024-02-15</td><td>6</td><td>0.1</td><td>&quot;ifrs17_local&quot;</td><td>&quot;comision_cesion&quot;</td><td>&quot;reaseguro_proporcional&quot;</td><td>&quot;cobertura&quot;</td><td>-1</td><td>0</td><td>2024-01-15</td><td>2024-02-20</td><td>2024-02-20</td><td>2024-02-15</td><td>3.0</td></tr><tr><td>&quot;mensual_mes_fin&quot;</td><td>&quot;comision_rea_prop&quot;</td><td>1245</td><td>&quot;mantenido&quot;</td><td>2374188</td><td>&quot;int&quot;</td><td>0.5</td><td>1292794322</td><td>2024-01-01</td><td>&quot;01&quot;</td><td>&quot;040&quot;</td><td>345675387</td><td>&quot;HURTO&quot;</td><td>345675807</td><td>&quot;sucursal&quot;</td><td>&quot;plan_2&quot;</td><td>&quot;COP&quot;</td><td>2024-02-20</td><td>2024-01-15</td><td>2024-02-15</td><td>2024-01-15</td><td>2024-02-15</td><td>6</td><td>0.1</td><td>&quot;ifrs4&quot;</td><td>&quot;comision_cesion&quot;</td><td>&quot;reaseguro_proporcional&quot;</td><td>&quot;recibo&quot;</td><td>-1</td><td>0</td><td>2024-01-15</td><td>2024-02-20</td><td>2024-02-20</td><td>2024-02-15</td><td>3.0</td></tr></tbody></table></div>"
      ],
      "text/plain": [
       "shape: (24, 35)\n",
       "┌───────────┬───────────┬───────────┬───────────┬───┬───────────┬───────────┬───────────┬──────────┐\n",
       "│ aux_casui ┆ tipo_insu ┆ contrato_ ┆ tipo_nego ┆ … ┆ fecha_con ┆ fecha_ini ┆ fecha_fin ┆ valor_ba │\n",
       "│ stica     ┆ mo        ┆ reaseguro ┆ cio       ┆   ┆ stitucion ┆ cio_deven ┆ _devengo  ┆ se_deven │\n",
       "│ ---       ┆ ---       ┆ ---       ┆ ---       ┆   ┆ ---       ┆ go        ┆ ---       ┆ go       │\n",
       "│ str       ┆ str       ┆ i64       ┆ str       ┆   ┆ date      ┆ ---       ┆ date      ┆ ---      │\n",
       "│           ┆           ┆           ┆           ┆   ┆           ┆ date      ┆           ┆ f64      │\n",
       "╞═══════════╪═══════════╪═══════════╪═══════════╪═══╪═══════════╪═══════════╪═══════════╪══════════╡\n",
       "│ anual_mis ┆ comision_ ┆ 1111      ┆ mantenido ┆ … ┆ 2024-01-0 ┆ 2024-01-1 ┆ 2025-01-1 ┆ 48.0     │\n",
       "│ ma_vigenc ┆ rea_prop  ┆           ┆           ┆   ┆ 1         ┆ 5         ┆ 5         ┆          │\n",
       "│ ia        ┆           ┆           ┆           ┆   ┆           ┆           ┆           ┆          │\n",
       "│ anual_mis ┆ comision_ ┆ 1111      ┆ mantenido ┆ … ┆ 2024-01-0 ┆ 2024-01-1 ┆ 2025-01-1 ┆ 48.0     │\n",
       "│ ma_vigenc ┆ rea_prop  ┆           ┆           ┆   ┆ 1         ┆ 5         ┆ 5         ┆          │\n",
       "│ ia        ┆           ┆           ┆           ┆   ┆           ┆           ┆           ┆          │\n",
       "│ anual_mis ┆ comision_ ┆ 1111      ┆ mantenido ┆ … ┆ 2024-01-0 ┆ 2024-01-1 ┆ 2025-01-1 ┆ 48.0     │\n",
       "│ ma_vigenc ┆ rea_prop  ┆           ┆           ┆   ┆ 1         ┆ 5         ┆ 5         ┆          │\n",
       "│ ia        ┆           ┆           ┆           ┆   ┆           ┆           ┆           ┆          │\n",
       "│ anual_mis ┆ comision_ ┆ 1111      ┆ mantenido ┆ … ┆ 2024-01-0 ┆ 2024-01-1 ┆ 2025-01-1 ┆ 36.0     │\n",
       "│ ma_vigenc ┆ rea_prop  ┆           ┆           ┆   ┆ 1         ┆ 5         ┆ 5         ┆          │\n",
       "│ ia        ┆           ┆           ┆           ┆   ┆           ┆           ┆           ┆          │\n",
       "│ anual_mis ┆ comision_ ┆ 1111      ┆ mantenido ┆ … ┆ 2024-01-0 ┆ 2024-01-1 ┆ 2025-01-1 ┆ 36.0     │\n",
       "│ ma_vigenc ┆ rea_prop  ┆           ┆           ┆   ┆ 1         ┆ 5         ┆ 5         ┆          │\n",
       "│ ia        ┆           ┆           ┆           ┆   ┆           ┆           ┆           ┆          │\n",
       "│ …         ┆ …         ┆ …         ┆ …         ┆ … ┆ …         ┆ …         ┆ …         ┆ …        │\n",
       "│ mensual_m ┆ comision_ ┆ 1245      ┆ mantenido ┆ … ┆ 2024-02-2 ┆ 2024-02-2 ┆ 2024-02-1 ┆ 3.0      │\n",
       "│ es_fin    ┆ rea_prop  ┆           ┆           ┆   ┆ 0         ┆ 0         ┆ 5         ┆          │\n",
       "│ mensual_m ┆ comision_ ┆ 1245      ┆ mantenido ┆ … ┆ 2024-02-2 ┆ 2024-02-2 ┆ 2024-02-1 ┆ 3.0      │\n",
       "│ es_fin    ┆ rea_prop  ┆           ┆           ┆   ┆ 0         ┆ 0         ┆ 5         ┆          │\n",
       "│ mensual_m ┆ comision_ ┆ 1245      ┆ mantenido ┆ … ┆ 2024-02-2 ┆ 2024-02-2 ┆ 2024-02-1 ┆ 3.0      │\n",
       "│ es_fin    ┆ rea_prop  ┆           ┆           ┆   ┆ 0         ┆ 0         ┆ 5         ┆          │\n",
       "│ mensual_m ┆ comision_ ┆ 1245      ┆ mantenido ┆ … ┆ 2024-02-2 ┆ 2024-02-2 ┆ 2024-02-1 ┆ 3.0      │\n",
       "│ es_fin    ┆ rea_prop  ┆           ┆           ┆   ┆ 0         ┆ 0         ┆ 5         ┆          │\n",
       "│ mensual_m ┆ comision_ ┆ 1245      ┆ mantenido ┆ … ┆ 2024-02-2 ┆ 2024-02-2 ┆ 2024-02-1 ┆ 3.0      │\n",
       "│ es_fin    ┆ rea_prop  ┆           ┆           ┆   ┆ 0         ┆ 0         ┆ 5         ┆          │\n",
       "└───────────┴───────────┴───────────┴───────────┴───┴───────────┴───────────┴───────────┴──────────┘"
      ]
     },
     "execution_count": 8,
     "metadata": {},
     "output_type": "execute_result"
    }
   ],
   "source": [
    "# prepara el insumo para el devengo\n",
    "input_comi_rea = prep_data.prep_input_comi_rea(comision_rea, param_contab, excepciones, FECHA_VALORACION)\n",
    "input_comi_rea"
   ]
  },
  {
   "attachments": {},
   "cell_type": "markdown",
   "metadata": {},
   "source": [
    "## 1.3. PCR del Reaseguro No Proporcional"
   ]
  },
  {
   "attachments": {},
   "cell_type": "markdown",
   "metadata": {},
   "source": [
    "### Componente Costo Contrato del reaseguro No Proporcional"
   ]
  },
  {
   "cell_type": "code",
   "execution_count": 9,
   "metadata": {},
   "outputs": [
    {
     "data": {
      "text/html": [
       "<div><style>\n",
       ".dataframe > thead > tr,\n",
       ".dataframe > tbody > tr {\n",
       "  text-align: right;\n",
       "  white-space: pre-wrap;\n",
       "}\n",
       "</style>\n",
       "<small>shape: (5, 20)</small><table border=\"1\" class=\"dataframe\"><thead><tr><th>tipo_insumo</th><th>contrato_reaseguro</th><th>tipo_negocio</th><th>fe_ini_vig_contrato_reaseguro</th><th>fe_fin_vig_contrato_reaseguro</th><th>nit_reasegurador</th><th>tipo_reasegurador</th><th>porc_participacion_reasegurador</th><th>compania</th><th>ramo_sura</th><th>producto</th><th>fecha_inicio_vigencia_recibo</th><th>fecha_fin_vigencia_recibo</th><th>fecha_inicio_vigencia_cobertura</th><th>fecha_fin_vigencia_cobertura</th><th>fe_reinstalamento</th><th>recibo_costo_contrato</th><th>fecha_contabilizacion_recibo</th><th>moneda</th><th>valor_costo_contrato</th></tr><tr><td>str</td><td>i64</td><td>str</td><td>date</td><td>date</td><td>i64</td><td>str</td><td>f64</td><td>str</td><td>str</td><td>str</td><td>date</td><td>date</td><td>date</td><td>date</td><td>date</td><td>i64</td><td>date</td><td>str</td><td>i64</td></tr></thead><tbody><tr><td>&quot;costo_contrato_rea_noprop&quot;</td><td>292161</td><td>&quot;mantenido&quot;</td><td>2025-06-30</td><td>2024-07-01</td><td>507351248</td><td>&quot;int&quot;</td><td>0.2</td><td>&quot;02&quot;</td><td>&quot;090&quot;</td><td>&quot;plan1&quot;</td><td>2024-07-01</td><td>2025-06-30</td><td>2024-07-01</td><td>2025-06-30</td><td>null</td><td>47628239</td><td>2024-07-01</td><td>&quot;COP&quot;</td><td>7000000000</td></tr><tr><td>&quot;costo_contrato_rea_noprop&quot;</td><td>292161</td><td>&quot;mantenido&quot;</td><td>2025-06-30</td><td>2024-07-01</td><td>368484453</td><td>&quot;ext&quot;</td><td>0.8</td><td>&quot;02&quot;</td><td>&quot;090&quot;</td><td>&quot;plan1&quot;</td><td>2024-07-01</td><td>2025-06-30</td><td>2024-07-01</td><td>2025-06-30</td><td>null</td><td>47628239</td><td>2024-07-01</td><td>&quot;COP&quot;</td><td>7000000000</td></tr><tr><td>&quot;costo_contrato_rea_noprop&quot;</td><td>373318</td><td>&quot;mantenido&quot;</td><td>2025-06-30</td><td>2024-07-01</td><td>446526767</td><td>&quot;int&quot;</td><td>1.0</td><td>&quot;01&quot;</td><td>&quot;009&quot;</td><td>&quot;plan1&quot;</td><td>2024-07-01</td><td>2025-06-30</td><td>2024-07-01</td><td>2025-06-30</td><td>null</td><td>71800418</td><td>2024-07-01</td><td>&quot;COP&quot;</td><td>5350000000</td></tr><tr><td>&quot;costo_contrato_rea_noprop&quot;</td><td>867346</td><td>&quot;mantenido&quot;</td><td>2025-12-31</td><td>2025-01-01</td><td>325775298</td><td>&quot;int&quot;</td><td>1.0</td><td>&quot;01&quot;</td><td>&quot;037&quot;</td><td>&quot;plan1&quot;</td><td>2025-01-01</td><td>2025-12-31</td><td>2025-01-01</td><td>2025-12-31</td><td>null</td><td>45927212</td><td>2025-01-01</td><td>&quot;COP&quot;</td><td>134000000</td></tr><tr><td>&quot;costo_contrato_rea_noprop&quot;</td><td>867346</td><td>&quot;mantenido&quot;</td><td>2025-12-31</td><td>2025-01-01</td><td>360681631</td><td>&quot;int&quot;</td><td>1.0</td><td>&quot;01&quot;</td><td>&quot;037&quot;</td><td>&quot;plan1&quot;</td><td>2025-01-01</td><td>2025-12-31</td><td>2025-01-01</td><td>2025-12-31</td><td>2025-06-03</td><td>45927219</td><td>2025-06-15</td><td>&quot;COP&quot;</td><td>90000000</td></tr></tbody></table></div>"
      ],
      "text/plain": [
       "shape: (5, 20)\n",
       "┌────────────┬────────────┬───────────┬───────────┬───┬───────────┬───────────┬────────┬───────────┐\n",
       "│ tipo_insum ┆ contrato_r ┆ tipo_nego ┆ fe_ini_vi ┆ … ┆ recibo_co ┆ fecha_con ┆ moneda ┆ valor_cos │\n",
       "│ o          ┆ easeguro   ┆ cio       ┆ g_contrat ┆   ┆ sto_contr ┆ tabilizac ┆ ---    ┆ to_contra │\n",
       "│ ---        ┆ ---        ┆ ---       ┆ o_reasegu ┆   ┆ ato       ┆ ion_recib ┆ str    ┆ to        │\n",
       "│ str        ┆ i64        ┆ str       ┆ ro        ┆   ┆ ---       ┆ o         ┆        ┆ ---       │\n",
       "│            ┆            ┆           ┆ ---       ┆   ┆ i64       ┆ ---       ┆        ┆ i64       │\n",
       "│            ┆            ┆           ┆ date      ┆   ┆           ┆ date      ┆        ┆           │\n",
       "╞════════════╪════════════╪═══════════╪═══════════╪═══╪═══════════╪═══════════╪════════╪═══════════╡\n",
       "│ costo_cont ┆ 292161     ┆ mantenido ┆ 2025-06-3 ┆ … ┆ 47628239  ┆ 2024-07-0 ┆ COP    ┆ 700000000 │\n",
       "│ rato_rea_n ┆            ┆           ┆ 0         ┆   ┆           ┆ 1         ┆        ┆ 0         │\n",
       "│ oprop      ┆            ┆           ┆           ┆   ┆           ┆           ┆        ┆           │\n",
       "│ costo_cont ┆ 292161     ┆ mantenido ┆ 2025-06-3 ┆ … ┆ 47628239  ┆ 2024-07-0 ┆ COP    ┆ 700000000 │\n",
       "│ rato_rea_n ┆            ┆           ┆ 0         ┆   ┆           ┆ 1         ┆        ┆ 0         │\n",
       "│ oprop      ┆            ┆           ┆           ┆   ┆           ┆           ┆        ┆           │\n",
       "│ costo_cont ┆ 373318     ┆ mantenido ┆ 2025-06-3 ┆ … ┆ 71800418  ┆ 2024-07-0 ┆ COP    ┆ 535000000 │\n",
       "│ rato_rea_n ┆            ┆           ┆ 0         ┆   ┆           ┆ 1         ┆        ┆ 0         │\n",
       "│ oprop      ┆            ┆           ┆           ┆   ┆           ┆           ┆        ┆           │\n",
       "│ costo_cont ┆ 867346     ┆ mantenido ┆ 2025-12-3 ┆ … ┆ 45927212  ┆ 2025-01-0 ┆ COP    ┆ 134000000 │\n",
       "│ rato_rea_n ┆            ┆           ┆ 1         ┆   ┆           ┆ 1         ┆        ┆           │\n",
       "│ oprop      ┆            ┆           ┆           ┆   ┆           ┆           ┆        ┆           │\n",
       "│ costo_cont ┆ 867346     ┆ mantenido ┆ 2025-12-3 ┆ … ┆ 45927219  ┆ 2025-06-1 ┆ COP    ┆ 90000000  │\n",
       "│ rato_rea_n ┆            ┆           ┆ 1         ┆   ┆           ┆ 5         ┆        ┆           │\n",
       "│ oprop      ┆            ┆           ┆           ┆   ┆           ┆           ┆        ┆           │\n",
       "└────────────┴────────────┴───────────┴───────────┴───┴───────────┴───────────┴────────┴───────────┘"
      ]
     },
     "execution_count": 9,
     "metadata": {},
     "output_type": "execute_result"
    }
   ],
   "source": [
    "costo_contrato_rea"
   ]
  },
  {
   "cell_type": "code",
   "execution_count": 10,
   "metadata": {},
   "outputs": [
    {
     "data": {
      "text/html": [
       "<div><style>\n",
       ".dataframe > thead > tr,\n",
       ".dataframe > tbody > tr {\n",
       "  text-align: right;\n",
       "  white-space: pre-wrap;\n",
       "}\n",
       "</style>\n",
       "<small>shape: (6, 35)</small><table border=\"1\" class=\"dataframe\"><thead><tr><th>tipo_insumo</th><th>contrato_reaseguro</th><th>tipo_negocio</th><th>fe_ini_vig_contrato_reaseguro</th><th>fe_fin_vig_contrato_reaseguro</th><th>nit_reasegurador</th><th>tipo_reasegurador</th><th>porc_participacion_reasegurador</th><th>compania</th><th>ramo_sura</th><th>producto</th><th>fecha_inicio_vigencia_recibo</th><th>fecha_fin_vigencia_recibo</th><th>fecha_inicio_vigencia_cobertura</th><th>fecha_fin_vigencia_cobertura</th><th>fe_reinstalamento</th><th>recibo_costo_contrato</th><th>fecha_contabilizacion_recibo</th><th>moneda</th><th>valor_costo_contrato</th><th>tipo_contabilidad</th><th>componente</th><th>tipo_contrato</th><th>nivel_detalle</th><th>signo_constitucion</th><th>candidato_devengo_50_50</th><th>limite_agregado_valor_instalado</th><th>valor_siniestros_incurridos_mes</th><th>limite_agregado_casos_instalado</th><th>casos_incurridos_mes</th><th>fecha_inicio_vigencia</th><th>fecha_constitucion</th><th>fecha_inicio_devengo</th><th>fecha_fin_devengo</th><th>valor_base_devengo</th></tr><tr><td>str</td><td>i64</td><td>str</td><td>date</td><td>date</td><td>i64</td><td>str</td><td>f64</td><td>str</td><td>str</td><td>str</td><td>date</td><td>date</td><td>date</td><td>date</td><td>date</td><td>i64</td><td>date</td><td>str</td><td>i64</td><td>str</td><td>str</td><td>str</td><td>str</td><td>i64</td><td>i32</td><td>i64</td><td>i64</td><td>i64</td><td>i64</td><td>date</td><td>date</td><td>date</td><td>date</td><td>f64</td></tr></thead><tbody><tr><td>&quot;costo_contrato_rea_noprop&quot;</td><td>292161</td><td>&quot;mantenido&quot;</td><td>2025-06-30</td><td>2024-07-01</td><td>507351248</td><td>&quot;int&quot;</td><td>0.2</td><td>&quot;02&quot;</td><td>&quot;090&quot;</td><td>&quot;plan1&quot;</td><td>2024-07-01</td><td>2025-06-30</td><td>2024-07-01</td><td>2025-06-30</td><td>null</td><td>47628239</td><td>2024-07-01</td><td>&quot;COP&quot;</td><td>7000000000</td><td>&quot;ifrs17_corporativo&quot;</td><td>&quot;costo_contrato&quot;</td><td>&quot;reaseguro_no_proporcional&quot;</td><td>&quot;recibo&quot;</td><td>1</td><td>0</td><td>10000000000</td><td>1658491901</td><td>100</td><td>15</td><td>2024-07-01</td><td>2024-07-01</td><td>2024-07-01</td><td>2025-06-30</td><td>1.4000e9</td></tr><tr><td>&quot;costo_contrato_rea_noprop&quot;</td><td>292161</td><td>&quot;mantenido&quot;</td><td>2025-06-30</td><td>2024-07-01</td><td>368484453</td><td>&quot;ext&quot;</td><td>0.8</td><td>&quot;02&quot;</td><td>&quot;090&quot;</td><td>&quot;plan1&quot;</td><td>2024-07-01</td><td>2025-06-30</td><td>2024-07-01</td><td>2025-06-30</td><td>null</td><td>47628239</td><td>2024-07-01</td><td>&quot;COP&quot;</td><td>7000000000</td><td>&quot;ifrs17_corporativo&quot;</td><td>&quot;costo_contrato&quot;</td><td>&quot;reaseguro_no_proporcional&quot;</td><td>&quot;recibo&quot;</td><td>1</td><td>0</td><td>10000000000</td><td>1658491901</td><td>100</td><td>15</td><td>2024-07-01</td><td>2024-07-01</td><td>2024-07-01</td><td>2025-06-30</td><td>5.6000e9</td></tr><tr><td>&quot;costo_contrato_rea_noprop&quot;</td><td>373318</td><td>&quot;mantenido&quot;</td><td>2025-06-30</td><td>2024-07-01</td><td>446526767</td><td>&quot;int&quot;</td><td>1.0</td><td>&quot;01&quot;</td><td>&quot;009&quot;</td><td>&quot;plan1&quot;</td><td>2024-07-01</td><td>2025-06-30</td><td>2024-07-01</td><td>2025-06-30</td><td>null</td><td>71800418</td><td>2024-07-01</td><td>&quot;COP&quot;</td><td>5350000000</td><td>&quot;ifrs17_corporativo&quot;</td><td>&quot;costo_contrato&quot;</td><td>&quot;reaseguro_no_proporcional&quot;</td><td>&quot;recibo&quot;</td><td>1</td><td>0</td><td>50000000000</td><td>3221449571</td><td>50</td><td>5</td><td>2024-07-01</td><td>2024-07-01</td><td>2024-07-01</td><td>2025-06-30</td><td>5.3500e9</td></tr><tr><td>&quot;costo_contrato_rea_noprop&quot;</td><td>292161</td><td>&quot;mantenido&quot;</td><td>2025-06-30</td><td>2024-07-01</td><td>507351248</td><td>&quot;int&quot;</td><td>0.2</td><td>&quot;02&quot;</td><td>&quot;090&quot;</td><td>&quot;plan1&quot;</td><td>2024-07-01</td><td>2025-06-30</td><td>2024-07-01</td><td>2025-06-30</td><td>null</td><td>47628239</td><td>2024-07-01</td><td>&quot;COP&quot;</td><td>7000000000</td><td>&quot;ifrs17_local&quot;</td><td>&quot;costo_contrato&quot;</td><td>&quot;reaseguro_no_proporcional&quot;</td><td>&quot;cobertura&quot;</td><td>1</td><td>0</td><td>10000000000</td><td>1658491901</td><td>100</td><td>15</td><td>2024-07-01</td><td>2024-07-01</td><td>2024-07-01</td><td>2025-06-30</td><td>1.4000e9</td></tr><tr><td>&quot;costo_contrato_rea_noprop&quot;</td><td>292161</td><td>&quot;mantenido&quot;</td><td>2025-06-30</td><td>2024-07-01</td><td>368484453</td><td>&quot;ext&quot;</td><td>0.8</td><td>&quot;02&quot;</td><td>&quot;090&quot;</td><td>&quot;plan1&quot;</td><td>2024-07-01</td><td>2025-06-30</td><td>2024-07-01</td><td>2025-06-30</td><td>null</td><td>47628239</td><td>2024-07-01</td><td>&quot;COP&quot;</td><td>7000000000</td><td>&quot;ifrs17_local&quot;</td><td>&quot;costo_contrato&quot;</td><td>&quot;reaseguro_no_proporcional&quot;</td><td>&quot;cobertura&quot;</td><td>1</td><td>0</td><td>10000000000</td><td>1658491901</td><td>100</td><td>15</td><td>2024-07-01</td><td>2024-07-01</td><td>2024-07-01</td><td>2025-06-30</td><td>5.6000e9</td></tr><tr><td>&quot;costo_contrato_rea_noprop&quot;</td><td>373318</td><td>&quot;mantenido&quot;</td><td>2025-06-30</td><td>2024-07-01</td><td>446526767</td><td>&quot;int&quot;</td><td>1.0</td><td>&quot;01&quot;</td><td>&quot;009&quot;</td><td>&quot;plan1&quot;</td><td>2024-07-01</td><td>2025-06-30</td><td>2024-07-01</td><td>2025-06-30</td><td>null</td><td>71800418</td><td>2024-07-01</td><td>&quot;COP&quot;</td><td>5350000000</td><td>&quot;ifrs17_local&quot;</td><td>&quot;costo_contrato&quot;</td><td>&quot;reaseguro_no_proporcional&quot;</td><td>&quot;cobertura&quot;</td><td>1</td><td>0</td><td>50000000000</td><td>3221449571</td><td>50</td><td>5</td><td>2024-07-01</td><td>2024-07-01</td><td>2024-07-01</td><td>2025-06-30</td><td>5.3500e9</td></tr></tbody></table></div>"
      ],
      "text/plain": [
       "shape: (6, 35)\n",
       "┌───────────┬───────────┬───────────┬───────────┬───┬───────────┬───────────┬───────────┬──────────┐\n",
       "│ tipo_insu ┆ contrato_ ┆ tipo_nego ┆ fe_ini_vi ┆ … ┆ fecha_con ┆ fecha_ini ┆ fecha_fin ┆ valor_ba │\n",
       "│ mo        ┆ reaseguro ┆ cio       ┆ g_contrat ┆   ┆ stitucion ┆ cio_deven ┆ _devengo  ┆ se_deven │\n",
       "│ ---       ┆ ---       ┆ ---       ┆ o_reasegu ┆   ┆ ---       ┆ go        ┆ ---       ┆ go       │\n",
       "│ str       ┆ i64       ┆ str       ┆ ro        ┆   ┆ date      ┆ ---       ┆ date      ┆ ---      │\n",
       "│           ┆           ┆           ┆ ---       ┆   ┆           ┆ date      ┆           ┆ f64      │\n",
       "│           ┆           ┆           ┆ date      ┆   ┆           ┆           ┆           ┆          │\n",
       "╞═══════════╪═══════════╪═══════════╪═══════════╪═══╪═══════════╪═══════════╪═══════════╪══════════╡\n",
       "│ costo_con ┆ 292161    ┆ mantenido ┆ 2025-06-3 ┆ … ┆ 2024-07-0 ┆ 2024-07-0 ┆ 2025-06-3 ┆ 1.4000e9 │\n",
       "│ trato_rea ┆           ┆           ┆ 0         ┆   ┆ 1         ┆ 1         ┆ 0         ┆          │\n",
       "│ _noprop   ┆           ┆           ┆           ┆   ┆           ┆           ┆           ┆          │\n",
       "│ costo_con ┆ 292161    ┆ mantenido ┆ 2025-06-3 ┆ … ┆ 2024-07-0 ┆ 2024-07-0 ┆ 2025-06-3 ┆ 5.6000e9 │\n",
       "│ trato_rea ┆           ┆           ┆ 0         ┆   ┆ 1         ┆ 1         ┆ 0         ┆          │\n",
       "│ _noprop   ┆           ┆           ┆           ┆   ┆           ┆           ┆           ┆          │\n",
       "│ costo_con ┆ 373318    ┆ mantenido ┆ 2025-06-3 ┆ … ┆ 2024-07-0 ┆ 2024-07-0 ┆ 2025-06-3 ┆ 5.3500e9 │\n",
       "│ trato_rea ┆           ┆           ┆ 0         ┆   ┆ 1         ┆ 1         ┆ 0         ┆          │\n",
       "│ _noprop   ┆           ┆           ┆           ┆   ┆           ┆           ┆           ┆          │\n",
       "│ costo_con ┆ 292161    ┆ mantenido ┆ 2025-06-3 ┆ … ┆ 2024-07-0 ┆ 2024-07-0 ┆ 2025-06-3 ┆ 1.4000e9 │\n",
       "│ trato_rea ┆           ┆           ┆ 0         ┆   ┆ 1         ┆ 1         ┆ 0         ┆          │\n",
       "│ _noprop   ┆           ┆           ┆           ┆   ┆           ┆           ┆           ┆          │\n",
       "│ costo_con ┆ 292161    ┆ mantenido ┆ 2025-06-3 ┆ … ┆ 2024-07-0 ┆ 2024-07-0 ┆ 2025-06-3 ┆ 5.6000e9 │\n",
       "│ trato_rea ┆           ┆           ┆ 0         ┆   ┆ 1         ┆ 1         ┆ 0         ┆          │\n",
       "│ _noprop   ┆           ┆           ┆           ┆   ┆           ┆           ┆           ┆          │\n",
       "│ costo_con ┆ 373318    ┆ mantenido ┆ 2025-06-3 ┆ … ┆ 2024-07-0 ┆ 2024-07-0 ┆ 2025-06-3 ┆ 5.3500e9 │\n",
       "│ trato_rea ┆           ┆           ┆ 0         ┆   ┆ 1         ┆ 1         ┆ 0         ┆          │\n",
       "│ _noprop   ┆           ┆           ┆           ┆   ┆           ┆           ┆           ┆          │\n",
       "└───────────┴───────────┴───────────┴───────────┴───┴───────────┴───────────┴───────────┴──────────┘"
      ]
     },
     "execution_count": 10,
     "metadata": {},
     "output_type": "execute_result"
    }
   ],
   "source": [
    "# prepara el insumo para el devengo\n",
    "input_costcon_rea = prep_data.prep_input_costo_con(\n",
    "        costo_contrato_rea, \n",
    "        seguimiento_rea, \n",
    "        param_contab, \n",
    "        excepciones, \n",
    "        FECHA_VALORACION\n",
    "    )\n",
    "input_costcon_rea"
   ]
  },
  {
   "attachments": {},
   "cell_type": "markdown",
   "metadata": {},
   "source": [
    "# 2. Cálculo del Devengamiento"
   ]
  },
  {
   "attachments": {},
   "cell_type": "markdown",
   "metadata": {},
   "source": [
    "- El devengamiento se realiza mediante una única función 'devengar' porque los cálculos esenciales son los mismos.\n",
    "- Se puede devengar un insumo solamente como en 'output_solo_primadir'\n",
    "- También se pueden devengar varios o todos los insumos preparados en un solo paso como en 'output_todos'\n",
    "- Se obtiene una tabla con el detalle de los inputs cuando aplique (nulo cuando no aplique) y los outputs de flujos de reserva\n",
    "- Los signos del output han sido ajustados con el parametro signo_constitucion para reflejar la dirección en que debe aplicar el movimiento de constitución o liberación (- es pasivo y + representa un activo desde el punto de vista de la aseguradora). Este signo es independiente del signo del valor del recibo, que debe venir de acuerdo al tipo de movimiento (- para cancelaciones/mod valorables negativas y + para emisiones). Si los signos de comisiones, costo contrato o primas cedidas llegan con un negativo que representa un egreso, deberían adaptarse los signos."
   ]
  },
  {
   "attachments": {},
   "cell_type": "markdown",
   "metadata": {},
   "source": [
    "### Devengamiento de un solo insumo preparado: prima del seguro directo\n",
    "Existen varias reglas de devengamiento según el tipo de insumo:\n",
    "1. Devengamiento diario uniforme: es la regla general, cada día de riesgo corrido tiene el mismo valor y se libera por el número de días transcurridos en cada periodo\n",
    "2. Devengamiento 50/50: es una regla especial ajustada a la normativa local bajo IFRS4 que requiere que se mantenga una reserva del 50% del valor de la prima durante las vigencias mensuales (menores o iguales a 32 días de vigencia).\n",
    "3. Devengamiento por consumo del límite agregado del contrato no proporcional"
   ]
  },
  {
   "cell_type": "code",
   "execution_count": 11,
   "metadata": {},
   "outputs": [
    {
     "data": {
      "text/html": [
       "<div><style>\n",
       ".dataframe > thead > tr,\n",
       ".dataframe > tbody > tr {\n",
       "  text-align: right;\n",
       "  white-space: pre-wrap;\n",
       "}\n",
       "</style>\n",
       "<small>shape: (51, 53)</small><table border=\"1\" class=\"dataframe\"><thead><tr><th>aux_casuistica</th><th>tipo_insumo</th><th>tipo_negocio</th><th>poliza</th><th>fecha_expedicion_poliza</th><th>recibo</th><th>amparo</th><th>poliza_certificado</th><th>compania</th><th>ramo_sura</th><th>canal</th><th>producto</th><th>tipo_op</th><th>moneda</th><th>fecha_contabilizacion_recibo</th><th>fecha_inicio_vigencia_recibo</th><th>fecha_fin_vigencia_recibo</th><th>fecha_inicio_vigencia_cobertura</th><th>fecha_fin_vigencia_cobertura</th><th>valor_prima_emitida</th><th>nivel_detalle</th><th>signo_constitucion</th><th>candidato_devengo_50_50</th><th>fecha_inicio_vigencia</th><th>fecha_valoracion_anterior</th><th>saldo_anterior</th><th>componente</th><th>tipo_contabilidad</th><th>regla_devengo</th><th>tipo_contrato</th><th>cohorte</th><th>anio_liberacion</th><th>transicion</th><th>fecha_inicio_periodo</th><th>fecha_valoracion</th><th>fecha_constitucion</th><th>fecha_inicio_devengo</th><th>fecha_fin_devengo</th><th>valor_base_devengo</th><th>dias_devengados</th><th>dias_no_devengados</th><th>control_suma_dias</th><th>dias_constitucion</th><th>dias_liberacion</th><th>valor_devengo_diario</th><th>mes_constitucion</th><th>mes_ini_liberacion</th><th>mes_fin_liberacion</th><th>estado_devengo</th><th>valor_constitucion</th><th>valor_liberacion</th><th>valor_liberacion_acum</th><th>saldo</th></tr><tr><td>str</td><td>str</td><td>str</td><td>i64</td><td>date</td><td>i64</td><td>str</td><td>i64</td><td>str</td><td>str</td><td>str</td><td>str</td><td>str</td><td>str</td><td>date</td><td>date</td><td>date</td><td>date</td><td>date</td><td>f64</td><td>str</td><td>i64</td><td>i32</td><td>date</td><td>date</td><td>f64</td><td>str</td><td>str</td><td>str</td><td>str</td><td>i32</td><td>str</td><td>i32</td><td>date</td><td>date</td><td>date</td><td>date</td><td>date</td><td>f64</td><td>i64</td><td>i64</td><td>bool</td><td>i64</td><td>i64</td><td>f64</td><td>i32</td><td>i32</td><td>i32</td><td>str</td><td>f64</td><td>f64</td><td>f64</td><td>f64</td></tr></thead><tbody><tr><td>&quot;modificacion_valorable_autos&quot;</td><td>&quot;produccion_directo&quot;</td><td>&quot;directo&quot;</td><td>323423423</td><td>2024-01-30</td><td>2938433191</td><td>&quot;DANOS&quot;</td><td>323423843</td><td>&quot;01&quot;</td><td>&quot;040&quot;</td><td>&quot;sucursal&quot;</td><td>&quot;plan_basico&quot;</td><td>&quot;modificacion_valorable&quot;</td><td>&quot;COP&quot;</td><td>2024-01-30</td><td>2024-01-30</td><td>2024-02-15</td><td>2024-01-30</td><td>2024-02-15</td><td>50.0</td><td>&quot;cobertura&quot;</td><td>-1</td><td>0</td><td>2024-01-30</td><td>2024-11-30</td><td>0.0</td><td>&quot;prima&quot;</td><td>&quot;ifrs17_local&quot;</td><td>&quot;diario&quot;</td><td>&quot;directo&quot;</td><td>2024</td><td>&quot;no_aplica&quot;</td><td>0</td><td>2024-12-01</td><td>2024-12-31</td><td>2024-01-30</td><td>2024-01-30</td><td>2024-02-15</td><td>50.0</td><td>0</td><td>0</td><td>true</td><td>0</td><td>0</td><td>0.0</td><td>null</td><td>null</td><td>null</td><td>&quot;finalizado&quot;</td><td>-0.0</td><td>0.0</td><td>0.0</td><td>-0.0</td></tr><tr><td>&quot;mensual_mes_fin&quot;</td><td>&quot;produccion_directo&quot;</td><td>&quot;directo&quot;</td><td>345675387</td><td>2024-02-20</td><td>2938431543</td><td>&quot;HURTO&quot;</td><td>345675807</td><td>&quot;01&quot;</td><td>&quot;040&quot;</td><td>&quot;sucursal&quot;</td><td>&quot;plan_2&quot;</td><td>&quot;emision&quot;</td><td>&quot;COP&quot;</td><td>2024-02-20</td><td>2024-01-15</td><td>2024-02-15</td><td>2024-01-15</td><td>2024-02-15</td><td>100.0</td><td>&quot;cobertura&quot;</td><td>-1</td><td>0</td><td>2024-01-15</td><td>2024-11-30</td><td>-100.0</td><td>&quot;prima&quot;</td><td>&quot;ifrs17_local&quot;</td><td>&quot;diario&quot;</td><td>&quot;directo&quot;</td><td>2024</td><td>&quot;no_aplica&quot;</td><td>0</td><td>2024-12-01</td><td>2024-12-31</td><td>2024-02-20</td><td>2024-02-20</td><td>2024-02-15</td><td>100.0</td><td>352</td><td>0</td><td>false</td><td>32</td><td>32</td><td>3.125</td><td>null</td><td>null</td><td>null</td><td>&quot;entra_devengado&quot;</td><td>-0.0</td><td>100.0</td><td>1100.0</td><td>-0.0</td></tr><tr><td>&quot;modificacion_valorable_autos&quot;</td><td>&quot;produccion_directo&quot;</td><td>&quot;directo&quot;</td><td>323423423</td><td>2024-01-30</td><td>2938433191</td><td>&quot;DANOS&quot;</td><td>323423843</td><td>&quot;01&quot;</td><td>&quot;040&quot;</td><td>&quot;sucursal&quot;</td><td>&quot;plan_basico&quot;</td><td>&quot;modificacion_valorable&quot;</td><td>&quot;COP&quot;</td><td>2024-01-30</td><td>2024-01-30</td><td>2024-02-15</td><td>2024-01-30</td><td>2024-02-15</td><td>50.0</td><td>&quot;recibo&quot;</td><td>-1</td><td>0</td><td>2024-01-30</td><td>2024-11-30</td><td>0.0</td><td>&quot;prima&quot;</td><td>&quot;ifrs4&quot;</td><td>&quot;diario&quot;</td><td>&quot;directo&quot;</td><td>2024</td><td>&quot;no_aplica&quot;</td><td>0</td><td>2024-12-01</td><td>2024-12-31</td><td>2024-01-30</td><td>2024-01-30</td><td>2024-02-15</td><td>50.0</td><td>0</td><td>0</td><td>true</td><td>0</td><td>0</td><td>0.0</td><td>null</td><td>null</td><td>null</td><td>&quot;finalizado&quot;</td><td>-0.0</td><td>0.0</td><td>0.0</td><td>-0.0</td></tr><tr><td>&quot;modificacion_valorable_autos&quot;</td><td>&quot;produccion_directo&quot;</td><td>&quot;directo&quot;</td><td>323423423</td><td>2024-01-30</td><td>2938433191</td><td>&quot;DANOS&quot;</td><td>323423843</td><td>&quot;01&quot;</td><td>&quot;040&quot;</td><td>&quot;sucursal&quot;</td><td>&quot;plan_basico&quot;</td><td>&quot;modificacion_valorable&quot;</td><td>&quot;COP&quot;</td><td>2024-01-30</td><td>2024-01-30</td><td>2024-02-15</td><td>2024-01-30</td><td>2024-02-15</td><td>50.0</td><td>&quot;cobertura&quot;</td><td>-1</td><td>0</td><td>2024-01-30</td><td>2024-11-30</td><td>0.0</td><td>&quot;prima&quot;</td><td>&quot;ifrs17_corporativo&quot;</td><td>&quot;diario&quot;</td><td>&quot;directo&quot;</td><td>2024</td><td>&quot;no_aplica&quot;</td><td>0</td><td>2024-12-01</td><td>2024-12-31</td><td>2024-01-30</td><td>2024-01-30</td><td>2024-02-15</td><td>50.0</td><td>0</td><td>0</td><td>true</td><td>0</td><td>0</td><td>0.0</td><td>null</td><td>null</td><td>null</td><td>&quot;finalizado&quot;</td><td>-0.0</td><td>0.0</td><td>0.0</td><td>-0.0</td></tr><tr><td>&quot;mensual_mes_fin&quot;</td><td>&quot;produccion_directo&quot;</td><td>&quot;directo&quot;</td><td>345675387</td><td>2024-02-20</td><td>2938431543</td><td>&quot;HURTO&quot;</td><td>345675807</td><td>&quot;01&quot;</td><td>&quot;040&quot;</td><td>&quot;sucursal&quot;</td><td>&quot;plan_2&quot;</td><td>&quot;emision&quot;</td><td>&quot;COP&quot;</td><td>2024-02-20</td><td>2024-01-15</td><td>2024-02-15</td><td>2024-01-15</td><td>2024-02-15</td><td>100.0</td><td>&quot;cobertura&quot;</td><td>-1</td><td>0</td><td>2024-01-15</td><td>2024-11-30</td><td>-100.0</td><td>&quot;prima&quot;</td><td>&quot;ifrs17_corporativo&quot;</td><td>&quot;diario&quot;</td><td>&quot;directo&quot;</td><td>2024</td><td>&quot;no_aplica&quot;</td><td>0</td><td>2024-12-01</td><td>2024-12-31</td><td>2024-02-20</td><td>2024-02-20</td><td>2024-02-15</td><td>100.0</td><td>352</td><td>0</td><td>false</td><td>32</td><td>32</td><td>3.125</td><td>null</td><td>null</td><td>null</td><td>&quot;entra_devengado&quot;</td><td>-0.0</td><td>100.0</td><td>1100.0</td><td>-0.0</td></tr><tr><td>&hellip;</td><td>&hellip;</td><td>&hellip;</td><td>&hellip;</td><td>&hellip;</td><td>&hellip;</td><td>&hellip;</td><td>&hellip;</td><td>&hellip;</td><td>&hellip;</td><td>&hellip;</td><td>&hellip;</td><td>&hellip;</td><td>&hellip;</td><td>&hellip;</td><td>&hellip;</td><td>&hellip;</td><td>&hellip;</td><td>&hellip;</td><td>&hellip;</td><td>&hellip;</td><td>&hellip;</td><td>&hellip;</td><td>&hellip;</td><td>&hellip;</td><td>&hellip;</td><td>&hellip;</td><td>&hellip;</td><td>&hellip;</td><td>&hellip;</td><td>&hellip;</td><td>&hellip;</td><td>&hellip;</td><td>&hellip;</td><td>&hellip;</td><td>&hellip;</td><td>&hellip;</td><td>&hellip;</td><td>&hellip;</td><td>&hellip;</td><td>&hellip;</td><td>&hellip;</td><td>&hellip;</td><td>&hellip;</td><td>&hellip;</td><td>&hellip;</td><td>&hellip;</td><td>&hellip;</td><td>&hellip;</td><td>&hellip;</td><td>&hellip;</td><td>&hellip;</td><td>&hellip;</td></tr><tr><td>&quot;mensual_en_vigencia&quot;</td><td>&quot;produccion_directo&quot;</td><td>&quot;directo&quot;</td><td>552332523</td><td>2024-01-15</td><td>2938434015</td><td>&quot;MEDICINA&quot;</td><td>552332943</td><td>&quot;02&quot;</td><td>&quot;083&quot;</td><td>&quot;sucursal&quot;</td><td>&quot;plan_3&quot;</td><td>&quot;emision&quot;</td><td>&quot;COP&quot;</td><td>2024-01-15</td><td>2024-01-15</td><td>2024-02-15</td><td>2024-01-15</td><td>2024-02-15</td><td>100.0</td><td>&quot;recibo&quot;</td><td>-1</td><td>1</td><td>2024-01-15</td><td>2024-11-30</td><td>0.0</td><td>&quot;prima&quot;</td><td>&quot;ifrs4&quot;</td><td>&quot;regla_50_50&quot;</td><td>&quot;directo&quot;</td><td>2024</td><td>&quot;no_aplica&quot;</td><td>0</td><td>2024-12-01</td><td>2024-12-31</td><td>2024-01-15</td><td>2024-01-15</td><td>2024-02-15</td><td>100.0</td><td>null</td><td>null</td><td>null</td><td>null</td><td>null</td><td>null</td><td>202401</td><td>202401</td><td>202402</td><td>&quot;finalizado&quot;</td><td>-0.0</td><td>0.0</td><td>0.0</td><td>-0.0</td></tr><tr><td>&quot;mensual_en_vigencia&quot;</td><td>&quot;produccion_directo&quot;</td><td>&quot;directo&quot;</td><td>552332523</td><td>2024-01-15</td><td>2938434427</td><td>&quot;MEDICINA&quot;</td><td>552332943</td><td>&quot;02&quot;</td><td>&quot;083&quot;</td><td>&quot;sucursal&quot;</td><td>&quot;plan_3&quot;</td><td>&quot;cancelacion&quot;</td><td>&quot;COP&quot;</td><td>2024-02-05</td><td>2024-02-05</td><td>2024-02-15</td><td>2024-02-05</td><td>2024-02-15</td><td>-34.375</td><td>&quot;recibo&quot;</td><td>-1</td><td>1</td><td>2024-02-05</td><td>2024-11-30</td><td>0.0</td><td>&quot;prima&quot;</td><td>&quot;ifrs4&quot;</td><td>&quot;regla_50_50&quot;</td><td>&quot;directo&quot;</td><td>2024</td><td>&quot;no_aplica&quot;</td><td>0</td><td>2024-12-01</td><td>2024-12-31</td><td>2024-02-05</td><td>2024-02-05</td><td>2024-02-15</td><td>-34.375</td><td>null</td><td>null</td><td>null</td><td>null</td><td>null</td><td>null</td><td>202402</td><td>202402</td><td>202403</td><td>&quot;finalizado&quot;</td><td>-0.0</td><td>0.0</td><td>0.0</td><td>-0.0</td></tr><tr><td>&quot;mensual_post_vigencia&quot;</td><td>&quot;produccion_directo&quot;</td><td>&quot;directo&quot;</td><td>436736799</td><td>2024-03-15</td><td>2938431955</td><td>&quot;RC&quot;</td><td>436737219</td><td>&quot;01&quot;</td><td>&quot;040&quot;</td><td>&quot;sucursal&quot;</td><td>&quot;plan_2&quot;</td><td>&quot;emision&quot;</td><td>&quot;COP&quot;</td><td>2024-03-15</td><td>2024-01-15</td><td>2024-02-15</td><td>2024-01-15</td><td>2024-02-15</td><td>100.0</td><td>&quot;recibo&quot;</td><td>-1</td><td>1</td><td>2024-01-15</td><td>2024-11-30</td><td>0.0</td><td>&quot;prima&quot;</td><td>&quot;ifrs4&quot;</td><td>&quot;regla_50_50&quot;</td><td>&quot;directo&quot;</td><td>2024</td><td>&quot;no_aplica&quot;</td><td>0</td><td>2024-12-01</td><td>2024-12-31</td><td>2024-03-15</td><td>2024-03-15</td><td>2024-02-15</td><td>100.0</td><td>null</td><td>null</td><td>null</td><td>null</td><td>null</td><td>null</td><td>202403</td><td>202403</td><td>202404</td><td>&quot;finalizado&quot;</td><td>-0.0</td><td>0.0</td><td>0.0</td><td>-0.0</td></tr><tr><td>&quot;mensual_pre_vigencia&quot;</td><td>&quot;produccion_directo&quot;</td><td>&quot;directo&quot;</td><td>634535346</td><td>2023-12-15</td><td>2938431131</td><td>&quot;AMBULATORIO&quot;</td><td>634535766</td><td>&quot;02&quot;</td><td>&quot;091&quot;</td><td>&quot;sucursal&quot;</td><td>&quot;plan_3&quot;</td><td>&quot;emision&quot;</td><td>&quot;COP&quot;</td><td>2023-12-15</td><td>2024-01-15</td><td>2024-02-15</td><td>2024-01-15</td><td>2024-02-15</td><td>100.0</td><td>&quot;recibo&quot;</td><td>-1</td><td>1</td><td>2024-01-15</td><td>2024-11-30</td><td>0.0</td><td>&quot;prima&quot;</td><td>&quot;ifrs4&quot;</td><td>&quot;regla_50_50&quot;</td><td>&quot;directo&quot;</td><td>2023</td><td>&quot;no_aplica&quot;</td><td>0</td><td>2024-12-01</td><td>2024-12-31</td><td>2023-12-15</td><td>2024-01-15</td><td>2024-02-15</td><td>100.0</td><td>null</td><td>null</td><td>null</td><td>null</td><td>null</td><td>null</td><td>202312</td><td>202401</td><td>202402</td><td>&quot;finalizado&quot;</td><td>-0.0</td><td>0.0</td><td>0.0</td><td>-0.0</td></tr><tr><td>&quot;modificacion_valorable&quot;</td><td>&quot;produccion_directo&quot;</td><td>&quot;directo&quot;</td><td>763894523</td><td>2024-01-30</td><td>2938433603</td><td>&quot;HOSPITALARIO&quot;</td><td>763894943</td><td>&quot;02&quot;</td><td>&quot;091&quot;</td><td>&quot;sucursal&quot;</td><td>&quot;plan_3&quot;</td><td>&quot;modificacion_valorable&quot;</td><td>&quot;COP&quot;</td><td>2024-01-30</td><td>2024-01-30</td><td>2024-02-15</td><td>2024-01-30</td><td>2024-02-15</td><td>200.0</td><td>&quot;recibo&quot;</td><td>-1</td><td>1</td><td>2024-01-30</td><td>2024-11-30</td><td>0.0</td><td>&quot;prima&quot;</td><td>&quot;ifrs4&quot;</td><td>&quot;regla_50_50&quot;</td><td>&quot;directo&quot;</td><td>2024</td><td>&quot;no_aplica&quot;</td><td>0</td><td>2024-12-01</td><td>2024-12-31</td><td>2024-01-30</td><td>2024-01-30</td><td>2024-02-15</td><td>200.0</td><td>null</td><td>null</td><td>null</td><td>null</td><td>null</td><td>null</td><td>202401</td><td>202401</td><td>202402</td><td>&quot;finalizado&quot;</td><td>-0.0</td><td>0.0</td><td>0.0</td><td>-0.0</td></tr></tbody></table></div>"
      ],
      "text/plain": [
       "shape: (51, 53)\n",
       "┌────────────┬────────────┬────────────┬───────────┬───┬───────────┬───────────┬───────────┬───────┐\n",
       "│ aux_casuis ┆ tipo_insum ┆ tipo_negoc ┆ poliza    ┆ … ┆ valor_con ┆ valor_lib ┆ valor_lib ┆ saldo │\n",
       "│ tica       ┆ o          ┆ io         ┆ ---       ┆   ┆ stitucion ┆ eracion   ┆ eracion_a ┆ ---   │\n",
       "│ ---        ┆ ---        ┆ ---        ┆ i64       ┆   ┆ ---       ┆ ---       ┆ cum       ┆ f64   │\n",
       "│ str        ┆ str        ┆ str        ┆           ┆   ┆ f64       ┆ f64       ┆ ---       ┆       │\n",
       "│            ┆            ┆            ┆           ┆   ┆           ┆           ┆ f64       ┆       │\n",
       "╞════════════╪════════════╪════════════╪═══════════╪═══╪═══════════╪═══════════╪═══════════╪═══════╡\n",
       "│ modificaci ┆ produccion ┆ directo    ┆ 323423423 ┆ … ┆ -0.0      ┆ 0.0       ┆ 0.0       ┆ -0.0  │\n",
       "│ on_valorab ┆ _directo   ┆            ┆           ┆   ┆           ┆           ┆           ┆       │\n",
       "│ le_autos   ┆            ┆            ┆           ┆   ┆           ┆           ┆           ┆       │\n",
       "│ mensual_me ┆ produccion ┆ directo    ┆ 345675387 ┆ … ┆ -0.0      ┆ 100.0     ┆ 1100.0    ┆ -0.0  │\n",
       "│ s_fin      ┆ _directo   ┆            ┆           ┆   ┆           ┆           ┆           ┆       │\n",
       "│ modificaci ┆ produccion ┆ directo    ┆ 323423423 ┆ … ┆ -0.0      ┆ 0.0       ┆ 0.0       ┆ -0.0  │\n",
       "│ on_valorab ┆ _directo   ┆            ┆           ┆   ┆           ┆           ┆           ┆       │\n",
       "│ le_autos   ┆            ┆            ┆           ┆   ┆           ┆           ┆           ┆       │\n",
       "│ modificaci ┆ produccion ┆ directo    ┆ 323423423 ┆ … ┆ -0.0      ┆ 0.0       ┆ 0.0       ┆ -0.0  │\n",
       "│ on_valorab ┆ _directo   ┆            ┆           ┆   ┆           ┆           ┆           ┆       │\n",
       "│ le_autos   ┆            ┆            ┆           ┆   ┆           ┆           ┆           ┆       │\n",
       "│ mensual_me ┆ produccion ┆ directo    ┆ 345675387 ┆ … ┆ -0.0      ┆ 100.0     ┆ 1100.0    ┆ -0.0  │\n",
       "│ s_fin      ┆ _directo   ┆            ┆           ┆   ┆           ┆           ┆           ┆       │\n",
       "│ …          ┆ …          ┆ …          ┆ …         ┆ … ┆ …         ┆ …         ┆ …         ┆ …     │\n",
       "│ mensual_en ┆ produccion ┆ directo    ┆ 552332523 ┆ … ┆ -0.0      ┆ 0.0       ┆ 0.0       ┆ -0.0  │\n",
       "│ _vigencia  ┆ _directo   ┆            ┆           ┆   ┆           ┆           ┆           ┆       │\n",
       "│ mensual_en ┆ produccion ┆ directo    ┆ 552332523 ┆ … ┆ -0.0      ┆ 0.0       ┆ 0.0       ┆ -0.0  │\n",
       "│ _vigencia  ┆ _directo   ┆            ┆           ┆   ┆           ┆           ┆           ┆       │\n",
       "│ mensual_po ┆ produccion ┆ directo    ┆ 436736799 ┆ … ┆ -0.0      ┆ 0.0       ┆ 0.0       ┆ -0.0  │\n",
       "│ st_vigenci ┆ _directo   ┆            ┆           ┆   ┆           ┆           ┆           ┆       │\n",
       "│ a          ┆            ┆            ┆           ┆   ┆           ┆           ┆           ┆       │\n",
       "│ mensual_pr ┆ produccion ┆ directo    ┆ 634535346 ┆ … ┆ -0.0      ┆ 0.0       ┆ 0.0       ┆ -0.0  │\n",
       "│ e_vigencia ┆ _directo   ┆            ┆           ┆   ┆           ┆           ┆           ┆       │\n",
       "│ modificaci ┆ produccion ┆ directo    ┆ 763894523 ┆ … ┆ -0.0      ┆ 0.0       ┆ 0.0       ┆ -0.0  │\n",
       "│ on_valorab ┆ _directo   ┆            ┆           ┆   ┆           ┆           ┆           ┆       │\n",
       "│ le         ┆            ┆            ┆           ┆   ┆           ┆           ┆           ┆       │\n",
       "└────────────┴────────────┴────────────┴───────────┴───┴───────────┴───────────┴───────────┴───────┘"
      ]
     },
     "execution_count": 11,
     "metadata": {},
     "output_type": "execute_result"
    }
   ],
   "source": [
    "# output del devengamiento para un solo tipo de insumo preparado\n",
    "output_solo_primadir = devg.devengar(input_prod_dir, FECHA_VALORACION)\n",
    "output_solo_primadir"
   ]
  },
  {
   "attachments": {},
   "cell_type": "markdown",
   "metadata": {},
   "source": [
    "### Devengamiento de varios insumos preparados: todos a la vez\n",
    "\n",
    "- El esquema o tipos de datos deben estar alineados entre los insumos\n",
    "- Se concatenan verticalmente (UNION ALL)\n",
    "- Se le entregan al motor de devengo y este devuelve el output para todas las entradas consolidado\n",
    "- Primero aparecen todos los datos de entrada según el tipo de insumo y luego los datos de salida\n",
    "- Algunos datos de salida solo aplican para el devengamiento diario y otros solo aplican para el devengamiento regla 50/50, por lo cual aparecen campos nulos, pero los campos de movimientos de constitución y liberación y saldo se calculan para ambas reglas y no pueden ser vacíos.\n",
    "- El output se puede ver en excel en: LINK OUTPUT DETERIORO"
   ]
  },
  {
   "cell_type": "code",
   "execution_count": 12,
   "metadata": {},
   "outputs": [
    {
     "data": {
      "text/html": [
       "<div><style>\n",
       ".dataframe > thead > tr,\n",
       ".dataframe > tbody > tr {\n",
       "  text-align: right;\n",
       "  white-space: pre-wrap;\n",
       "}\n",
       "</style>\n",
       "<small>shape: (169, 80)</small><table border=\"1\" class=\"dataframe\"><thead><tr><th>aux_casuistica</th><th>tipo_insumo</th><th>tipo_negocio</th><th>poliza</th><th>fecha_expedicion_poliza</th><th>recibo</th><th>amparo</th><th>poliza_certificado</th><th>compania</th><th>ramo_sura</th><th>canal</th><th>producto</th><th>tipo_op</th><th>moneda</th><th>fecha_contabilizacion_recibo</th><th>fecha_inicio_vigencia_recibo</th><th>fecha_fin_vigencia_recibo</th><th>fecha_inicio_vigencia_cobertura</th><th>fecha_fin_vigencia_cobertura</th><th>valor_prima_emitida</th><th>nivel_detalle</th><th>signo_constitucion</th><th>candidato_devengo_50_50</th><th>fecha_inicio_vigencia</th><th>tipo_gasto</th><th>porc_gasto</th><th>prioridad_match</th><th>rn</th><th>podto_comercial</th><th>podto_tecnico</th><th>contrato_reaseguro</th><th>nit_reasegurador</th><th>tipo_reasegurador</th><th>porc_participacion_reasegurador</th><th>fe_ini_vig_contrato_reaseguro</th><th>fe_fin_vig_contrato_reaseguro</th><th>valor_prima_cedida</th><th>&hellip;</th><th>recibo_costo_contrato</th><th>valor_costo_contrato</th><th>limite_agregado_valor_instalado</th><th>valor_siniestros_incurridos_mes</th><th>limite_agregado_casos_instalado</th><th>casos_incurridos_mes</th><th>fecha_valoracion_anterior</th><th>valor_liberacion_limite</th><th>saldo_anterior</th><th>componente</th><th>tipo_contabilidad</th><th>regla_devengo</th><th>tipo_contrato</th><th>cohorte</th><th>anio_liberacion</th><th>transicion</th><th>fecha_inicio_periodo</th><th>fecha_valoracion</th><th>fecha_constitucion</th><th>fecha_inicio_devengo</th><th>fecha_fin_devengo</th><th>valor_base_devengo</th><th>dias_devengados</th><th>dias_no_devengados</th><th>control_suma_dias</th><th>dias_constitucion</th><th>dias_liberacion</th><th>valor_devengo_diario</th><th>mes_constitucion</th><th>mes_ini_liberacion</th><th>mes_fin_liberacion</th><th>porc_consumo_limite</th><th>estado_devengo</th><th>valor_constitucion</th><th>valor_liberacion</th><th>valor_liberacion_acum</th><th>saldo</th></tr><tr><td>str</td><td>str</td><td>str</td><td>i64</td><td>date</td><td>i64</td><td>str</td><td>i64</td><td>str</td><td>str</td><td>str</td><td>str</td><td>str</td><td>str</td><td>date</td><td>date</td><td>date</td><td>date</td><td>date</td><td>f64</td><td>str</td><td>i64</td><td>i32</td><td>date</td><td>str</td><td>f64</td><td>i32</td><td>i64</td><td>f64</td><td>f64</td><td>i64</td><td>i64</td><td>str</td><td>f64</td><td>date</td><td>date</td><td>i64</td><td>&hellip;</td><td>i64</td><td>i64</td><td>i64</td><td>i64</td><td>i64</td><td>i64</td><td>date</td><td>f64</td><td>f64</td><td>str</td><td>str</td><td>str</td><td>str</td><td>i32</td><td>str</td><td>i32</td><td>date</td><td>date</td><td>date</td><td>date</td><td>date</td><td>f64</td><td>i64</td><td>i64</td><td>bool</td><td>i64</td><td>i64</td><td>f64</td><td>i32</td><td>i32</td><td>i32</td><td>f64</td><td>str</td><td>f64</td><td>f64</td><td>f64</td><td>f64</td></tr></thead><tbody><tr><td>&quot;modificacion_valorable_autos&quot;</td><td>&quot;produccion_directo&quot;</td><td>&quot;directo&quot;</td><td>323423423</td><td>2024-01-30</td><td>2938433191</td><td>&quot;DANOS&quot;</td><td>323423843</td><td>&quot;01&quot;</td><td>&quot;040&quot;</td><td>&quot;sucursal&quot;</td><td>&quot;plan_basico&quot;</td><td>&quot;modificacion_valorable&quot;</td><td>&quot;COP&quot;</td><td>2024-01-30</td><td>2024-01-30</td><td>2024-02-15</td><td>2024-01-30</td><td>2024-02-15</td><td>50.0</td><td>&quot;cobertura&quot;</td><td>-1</td><td>0</td><td>2024-01-30</td><td>null</td><td>null</td><td>null</td><td>null</td><td>null</td><td>null</td><td>null</td><td>null</td><td>null</td><td>null</td><td>null</td><td>null</td><td>null</td><td>&hellip;</td><td>null</td><td>null</td><td>null</td><td>null</td><td>null</td><td>null</td><td>2024-11-30</td><td>null</td><td>0.0</td><td>&quot;prima&quot;</td><td>&quot;ifrs17_local&quot;</td><td>&quot;diario&quot;</td><td>&quot;directo&quot;</td><td>2024</td><td>&quot;no_aplica&quot;</td><td>0</td><td>2024-12-01</td><td>2024-12-31</td><td>2024-01-30</td><td>2024-01-30</td><td>2024-02-15</td><td>50.0</td><td>0</td><td>0</td><td>true</td><td>0</td><td>0</td><td>0.0</td><td>null</td><td>null</td><td>null</td><td>null</td><td>&quot;finalizado&quot;</td><td>-0.0</td><td>0.0</td><td>0.0</td><td>-0.0</td></tr><tr><td>&quot;mensual_mes_fin&quot;</td><td>&quot;produccion_directo&quot;</td><td>&quot;directo&quot;</td><td>345675387</td><td>2024-02-20</td><td>2938431543</td><td>&quot;HURTO&quot;</td><td>345675807</td><td>&quot;01&quot;</td><td>&quot;040&quot;</td><td>&quot;sucursal&quot;</td><td>&quot;plan_2&quot;</td><td>&quot;emision&quot;</td><td>&quot;COP&quot;</td><td>2024-02-20</td><td>2024-01-15</td><td>2024-02-15</td><td>2024-01-15</td><td>2024-02-15</td><td>100.0</td><td>&quot;cobertura&quot;</td><td>-1</td><td>0</td><td>2024-01-15</td><td>null</td><td>null</td><td>null</td><td>null</td><td>null</td><td>null</td><td>null</td><td>null</td><td>null</td><td>null</td><td>null</td><td>null</td><td>null</td><td>&hellip;</td><td>null</td><td>null</td><td>null</td><td>null</td><td>null</td><td>null</td><td>2024-11-30</td><td>null</td><td>-100.0</td><td>&quot;prima&quot;</td><td>&quot;ifrs17_local&quot;</td><td>&quot;diario&quot;</td><td>&quot;directo&quot;</td><td>2024</td><td>&quot;no_aplica&quot;</td><td>0</td><td>2024-12-01</td><td>2024-12-31</td><td>2024-02-20</td><td>2024-02-20</td><td>2024-02-15</td><td>100.0</td><td>352</td><td>0</td><td>false</td><td>32</td><td>32</td><td>3.125</td><td>null</td><td>null</td><td>null</td><td>null</td><td>&quot;entra_devengado&quot;</td><td>-0.0</td><td>100.0</td><td>1100.0</td><td>-0.0</td></tr><tr><td>&quot;modificacion_valorable_autos&quot;</td><td>&quot;produccion_directo&quot;</td><td>&quot;directo&quot;</td><td>323423423</td><td>2024-01-30</td><td>2938433191</td><td>&quot;DANOS&quot;</td><td>323423843</td><td>&quot;01&quot;</td><td>&quot;040&quot;</td><td>&quot;sucursal&quot;</td><td>&quot;plan_basico&quot;</td><td>&quot;modificacion_valorable&quot;</td><td>&quot;COP&quot;</td><td>2024-01-30</td><td>2024-01-30</td><td>2024-02-15</td><td>2024-01-30</td><td>2024-02-15</td><td>50.0</td><td>&quot;recibo&quot;</td><td>-1</td><td>0</td><td>2024-01-30</td><td>null</td><td>null</td><td>null</td><td>null</td><td>null</td><td>null</td><td>null</td><td>null</td><td>null</td><td>null</td><td>null</td><td>null</td><td>null</td><td>&hellip;</td><td>null</td><td>null</td><td>null</td><td>null</td><td>null</td><td>null</td><td>2024-11-30</td><td>null</td><td>0.0</td><td>&quot;prima&quot;</td><td>&quot;ifrs4&quot;</td><td>&quot;diario&quot;</td><td>&quot;directo&quot;</td><td>2024</td><td>&quot;no_aplica&quot;</td><td>0</td><td>2024-12-01</td><td>2024-12-31</td><td>2024-01-30</td><td>2024-01-30</td><td>2024-02-15</td><td>50.0</td><td>0</td><td>0</td><td>true</td><td>0</td><td>0</td><td>0.0</td><td>null</td><td>null</td><td>null</td><td>null</td><td>&quot;finalizado&quot;</td><td>-0.0</td><td>0.0</td><td>0.0</td><td>-0.0</td></tr><tr><td>&quot;modificacion_valorable_autos&quot;</td><td>&quot;produccion_directo&quot;</td><td>&quot;directo&quot;</td><td>323423423</td><td>2024-01-30</td><td>2938433191</td><td>&quot;DANOS&quot;</td><td>323423843</td><td>&quot;01&quot;</td><td>&quot;040&quot;</td><td>&quot;sucursal&quot;</td><td>&quot;plan_basico&quot;</td><td>&quot;modificacion_valorable&quot;</td><td>&quot;COP&quot;</td><td>2024-01-30</td><td>2024-01-30</td><td>2024-02-15</td><td>2024-01-30</td><td>2024-02-15</td><td>50.0</td><td>&quot;cobertura&quot;</td><td>-1</td><td>0</td><td>2024-01-30</td><td>null</td><td>null</td><td>null</td><td>null</td><td>null</td><td>null</td><td>null</td><td>null</td><td>null</td><td>null</td><td>null</td><td>null</td><td>null</td><td>&hellip;</td><td>null</td><td>null</td><td>null</td><td>null</td><td>null</td><td>null</td><td>2024-11-30</td><td>null</td><td>0.0</td><td>&quot;prima&quot;</td><td>&quot;ifrs17_corporativo&quot;</td><td>&quot;diario&quot;</td><td>&quot;directo&quot;</td><td>2024</td><td>&quot;no_aplica&quot;</td><td>0</td><td>2024-12-01</td><td>2024-12-31</td><td>2024-01-30</td><td>2024-01-30</td><td>2024-02-15</td><td>50.0</td><td>0</td><td>0</td><td>true</td><td>0</td><td>0</td><td>0.0</td><td>null</td><td>null</td><td>null</td><td>null</td><td>&quot;finalizado&quot;</td><td>-0.0</td><td>0.0</td><td>0.0</td><td>-0.0</td></tr><tr><td>&quot;mensual_mes_fin&quot;</td><td>&quot;produccion_directo&quot;</td><td>&quot;directo&quot;</td><td>345675387</td><td>2024-02-20</td><td>2938431543</td><td>&quot;HURTO&quot;</td><td>345675807</td><td>&quot;01&quot;</td><td>&quot;040&quot;</td><td>&quot;sucursal&quot;</td><td>&quot;plan_2&quot;</td><td>&quot;emision&quot;</td><td>&quot;COP&quot;</td><td>2024-02-20</td><td>2024-01-15</td><td>2024-02-15</td><td>2024-01-15</td><td>2024-02-15</td><td>100.0</td><td>&quot;cobertura&quot;</td><td>-1</td><td>0</td><td>2024-01-15</td><td>null</td><td>null</td><td>null</td><td>null</td><td>null</td><td>null</td><td>null</td><td>null</td><td>null</td><td>null</td><td>null</td><td>null</td><td>null</td><td>&hellip;</td><td>null</td><td>null</td><td>null</td><td>null</td><td>null</td><td>null</td><td>2024-11-30</td><td>null</td><td>-100.0</td><td>&quot;prima&quot;</td><td>&quot;ifrs17_corporativo&quot;</td><td>&quot;diario&quot;</td><td>&quot;directo&quot;</td><td>2024</td><td>&quot;no_aplica&quot;</td><td>0</td><td>2024-12-01</td><td>2024-12-31</td><td>2024-02-20</td><td>2024-02-20</td><td>2024-02-15</td><td>100.0</td><td>352</td><td>0</td><td>false</td><td>32</td><td>32</td><td>3.125</td><td>null</td><td>null</td><td>null</td><td>null</td><td>&quot;entra_devengado&quot;</td><td>-0.0</td><td>100.0</td><td>1100.0</td><td>-0.0</td></tr><tr><td>&hellip;</td><td>&hellip;</td><td>&hellip;</td><td>&hellip;</td><td>&hellip;</td><td>&hellip;</td><td>&hellip;</td><td>&hellip;</td><td>&hellip;</td><td>&hellip;</td><td>&hellip;</td><td>&hellip;</td><td>&hellip;</td><td>&hellip;</td><td>&hellip;</td><td>&hellip;</td><td>&hellip;</td><td>&hellip;</td><td>&hellip;</td><td>&hellip;</td><td>&hellip;</td><td>&hellip;</td><td>&hellip;</td><td>&hellip;</td><td>&hellip;</td><td>&hellip;</td><td>&hellip;</td><td>&hellip;</td><td>&hellip;</td><td>&hellip;</td><td>&hellip;</td><td>&hellip;</td><td>&hellip;</td><td>&hellip;</td><td>&hellip;</td><td>&hellip;</td><td>&hellip;</td><td>&hellip;</td><td>&hellip;</td><td>&hellip;</td><td>&hellip;</td><td>&hellip;</td><td>&hellip;</td><td>&hellip;</td><td>&hellip;</td><td>&hellip;</td><td>&hellip;</td><td>&hellip;</td><td>&hellip;</td><td>&hellip;</td><td>&hellip;</td><td>&hellip;</td><td>&hellip;</td><td>&hellip;</td><td>&hellip;</td><td>&hellip;</td><td>&hellip;</td><td>&hellip;</td><td>&hellip;</td><td>&hellip;</td><td>&hellip;</td><td>&hellip;</td><td>&hellip;</td><td>&hellip;</td><td>&hellip;</td><td>&hellip;</td><td>&hellip;</td><td>&hellip;</td><td>&hellip;</td><td>&hellip;</td><td>&hellip;</td><td>&hellip;</td><td>&hellip;</td><td>&hellip;</td><td>&hellip;</td></tr><tr><td>null</td><td>&quot;costo_contrato_rea_noprop&quot;</td><td>&quot;mantenido&quot;</td><td>null</td><td>null</td><td>null</td><td>null</td><td>null</td><td>&quot;02&quot;</td><td>&quot;090&quot;</td><td>null</td><td>&quot;plan1&quot;</td><td>null</td><td>&quot;COP&quot;</td><td>2024-07-01</td><td>2024-07-01</td><td>2025-06-30</td><td>2024-07-01</td><td>2025-06-30</td><td>null</td><td>&quot;recibo&quot;</td><td>1</td><td>0</td><td>2024-07-01</td><td>null</td><td>null</td><td>null</td><td>null</td><td>null</td><td>null</td><td>292161</td><td>368484453</td><td>&quot;ext&quot;</td><td>0.8</td><td>2025-06-30</td><td>2024-07-01</td><td>null</td><td>&hellip;</td><td>47628239</td><td>7000000000</td><td>10000000000</td><td>1658491901</td><td>100</td><td>15</td><td>2024-11-30</td><td>9.2876e8</td><td>3.7425e9</td><td>&quot;costo_contrato&quot;</td><td>&quot;ifrs17_corporativo&quot;</td><td>&quot;consumo_limite&quot;</td><td>&quot;reaseguro_no_proporcional&quot;</td><td>2025</td><td>&quot;anio_actual&quot;</td><td>0</td><td>2024-12-01</td><td>2024-12-31</td><td>2024-07-01</td><td>2024-07-01</td><td>2025-06-30</td><td>5.6000e9</td><td>184</td><td>181</td><td>true</td><td>365</td><td>31</td><td>1.5342e7</td><td>null</td><td>null</td><td>null</td><td>0.165849</td><td>&quot;en_curso&quot;</td><td>0.0</td><td>-9.2876e8</td><td>-9.2876e8</td><td>4.6712e9</td></tr><tr><td>null</td><td>&quot;costo_contrato_rea_noprop&quot;</td><td>&quot;mantenido&quot;</td><td>null</td><td>null</td><td>null</td><td>null</td><td>null</td><td>&quot;01&quot;</td><td>&quot;009&quot;</td><td>null</td><td>&quot;plan1&quot;</td><td>null</td><td>&quot;COP&quot;</td><td>2024-07-01</td><td>2024-07-01</td><td>2025-06-30</td><td>2024-07-01</td><td>2025-06-30</td><td>null</td><td>&quot;recibo&quot;</td><td>1</td><td>0</td><td>2024-07-01</td><td>null</td><td>null</td><td>null</td><td>null</td><td>null</td><td>null</td><td>373318</td><td>446526767</td><td>&quot;int&quot;</td><td>1.0</td><td>2025-06-30</td><td>2024-07-01</td><td>null</td><td>&hellip;</td><td>71800418</td><td>5350000000</td><td>50000000000</td><td>3221449571</td><td>50</td><td>5</td><td>2024-11-30</td><td>3.4470e8</td><td>4.4412e9</td><td>&quot;costo_contrato&quot;</td><td>&quot;ifrs17_corporativo&quot;</td><td>&quot;diario&quot;</td><td>&quot;reaseguro_no_proporcional&quot;</td><td>2025</td><td>&quot;anio_actual&quot;</td><td>0</td><td>2024-12-01</td><td>2024-12-31</td><td>2024-07-01</td><td>2024-07-01</td><td>2025-06-30</td><td>5.3500e9</td><td>184</td><td>181</td><td>true</td><td>365</td><td>31</td><td>1.4658e7</td><td>null</td><td>null</td><td>null</td><td>0.064429</td><td>&quot;en_curso&quot;</td><td>0.0</td><td>-4.5438e8</td><td>-4.5438e8</td><td>4.8956e9</td></tr><tr><td>null</td><td>&quot;costo_contrato_rea_noprop&quot;</td><td>&quot;mantenido&quot;</td><td>null</td><td>null</td><td>null</td><td>null</td><td>null</td><td>&quot;02&quot;</td><td>&quot;090&quot;</td><td>null</td><td>&quot;plan1&quot;</td><td>null</td><td>&quot;COP&quot;</td><td>2024-07-01</td><td>2024-07-01</td><td>2025-06-30</td><td>2024-07-01</td><td>2025-06-30</td><td>null</td><td>&quot;cobertura&quot;</td><td>1</td><td>0</td><td>2024-07-01</td><td>null</td><td>null</td><td>null</td><td>null</td><td>null</td><td>null</td><td>292161</td><td>507351248</td><td>&quot;int&quot;</td><td>0.2</td><td>2025-06-30</td><td>2024-07-01</td><td>null</td><td>&hellip;</td><td>47628239</td><td>7000000000</td><td>10000000000</td><td>1658491901</td><td>100</td><td>15</td><td>2024-11-30</td><td>2.3219e8</td><td>9.3562e8</td><td>&quot;costo_contrato&quot;</td><td>&quot;ifrs17_local&quot;</td><td>&quot;consumo_limite&quot;</td><td>&quot;reaseguro_no_proporcional&quot;</td><td>2025</td><td>&quot;anio_actual&quot;</td><td>0</td><td>2024-12-01</td><td>2024-12-31</td><td>2024-07-01</td><td>2024-07-01</td><td>2025-06-30</td><td>1.4000e9</td><td>184</td><td>181</td><td>true</td><td>365</td><td>31</td><td>3.8356e6</td><td>null</td><td>null</td><td>null</td><td>0.165849</td><td>&quot;en_curso&quot;</td><td>0.0</td><td>-2.3219e8</td><td>-2.3219e8</td><td>1.1678e9</td></tr><tr><td>null</td><td>&quot;costo_contrato_rea_noprop&quot;</td><td>&quot;mantenido&quot;</td><td>null</td><td>null</td><td>null</td><td>null</td><td>null</td><td>&quot;02&quot;</td><td>&quot;090&quot;</td><td>null</td><td>&quot;plan1&quot;</td><td>null</td><td>&quot;COP&quot;</td><td>2024-07-01</td><td>2024-07-01</td><td>2025-06-30</td><td>2024-07-01</td><td>2025-06-30</td><td>null</td><td>&quot;cobertura&quot;</td><td>1</td><td>0</td><td>2024-07-01</td><td>null</td><td>null</td><td>null</td><td>null</td><td>null</td><td>null</td><td>292161</td><td>368484453</td><td>&quot;ext&quot;</td><td>0.8</td><td>2025-06-30</td><td>2024-07-01</td><td>null</td><td>&hellip;</td><td>47628239</td><td>7000000000</td><td>10000000000</td><td>1658491901</td><td>100</td><td>15</td><td>2024-11-30</td><td>9.2876e8</td><td>3.7425e9</td><td>&quot;costo_contrato&quot;</td><td>&quot;ifrs17_local&quot;</td><td>&quot;consumo_limite&quot;</td><td>&quot;reaseguro_no_proporcional&quot;</td><td>2025</td><td>&quot;anio_actual&quot;</td><td>0</td><td>2024-12-01</td><td>2024-12-31</td><td>2024-07-01</td><td>2024-07-01</td><td>2025-06-30</td><td>5.6000e9</td><td>184</td><td>181</td><td>true</td><td>365</td><td>31</td><td>1.5342e7</td><td>null</td><td>null</td><td>null</td><td>0.165849</td><td>&quot;en_curso&quot;</td><td>0.0</td><td>-9.2876e8</td><td>-9.2876e8</td><td>4.6712e9</td></tr><tr><td>null</td><td>&quot;costo_contrato_rea_noprop&quot;</td><td>&quot;mantenido&quot;</td><td>null</td><td>null</td><td>null</td><td>null</td><td>null</td><td>&quot;01&quot;</td><td>&quot;009&quot;</td><td>null</td><td>&quot;plan1&quot;</td><td>null</td><td>&quot;COP&quot;</td><td>2024-07-01</td><td>2024-07-01</td><td>2025-06-30</td><td>2024-07-01</td><td>2025-06-30</td><td>null</td><td>&quot;cobertura&quot;</td><td>1</td><td>0</td><td>2024-07-01</td><td>null</td><td>null</td><td>null</td><td>null</td><td>null</td><td>null</td><td>373318</td><td>446526767</td><td>&quot;int&quot;</td><td>1.0</td><td>2025-06-30</td><td>2024-07-01</td><td>null</td><td>&hellip;</td><td>71800418</td><td>5350000000</td><td>50000000000</td><td>3221449571</td><td>50</td><td>5</td><td>2024-11-30</td><td>3.4470e8</td><td>4.4412e9</td><td>&quot;costo_contrato&quot;</td><td>&quot;ifrs17_local&quot;</td><td>&quot;diario&quot;</td><td>&quot;reaseguro_no_proporcional&quot;</td><td>2025</td><td>&quot;anio_actual&quot;</td><td>0</td><td>2024-12-01</td><td>2024-12-31</td><td>2024-07-01</td><td>2024-07-01</td><td>2025-06-30</td><td>5.3500e9</td><td>184</td><td>181</td><td>true</td><td>365</td><td>31</td><td>1.4658e7</td><td>null</td><td>null</td><td>null</td><td>0.064429</td><td>&quot;en_curso&quot;</td><td>0.0</td><td>-4.5438e8</td><td>-4.5438e8</td><td>4.8956e9</td></tr></tbody></table></div>"
      ],
      "text/plain": [
       "shape: (169, 80)\n",
       "┌───────────┬───────────┬───────────┬───────────┬───┬───────────┬───────────┬───────────┬──────────┐\n",
       "│ aux_casui ┆ tipo_insu ┆ tipo_nego ┆ poliza    ┆ … ┆ valor_con ┆ valor_lib ┆ valor_lib ┆ saldo    │\n",
       "│ stica     ┆ mo        ┆ cio       ┆ ---       ┆   ┆ stitucion ┆ eracion   ┆ eracion_a ┆ ---      │\n",
       "│ ---       ┆ ---       ┆ ---       ┆ i64       ┆   ┆ ---       ┆ ---       ┆ cum       ┆ f64      │\n",
       "│ str       ┆ str       ┆ str       ┆           ┆   ┆ f64       ┆ f64       ┆ ---       ┆          │\n",
       "│           ┆           ┆           ┆           ┆   ┆           ┆           ┆ f64       ┆          │\n",
       "╞═══════════╪═══════════╪═══════════╪═══════════╪═══╪═══════════╪═══════════╪═══════════╪══════════╡\n",
       "│ modificac ┆ produccio ┆ directo   ┆ 323423423 ┆ … ┆ -0.0      ┆ 0.0       ┆ 0.0       ┆ -0.0     │\n",
       "│ ion_valor ┆ n_directo ┆           ┆           ┆   ┆           ┆           ┆           ┆          │\n",
       "│ able_auto ┆           ┆           ┆           ┆   ┆           ┆           ┆           ┆          │\n",
       "│ s         ┆           ┆           ┆           ┆   ┆           ┆           ┆           ┆          │\n",
       "│ mensual_m ┆ produccio ┆ directo   ┆ 345675387 ┆ … ┆ -0.0      ┆ 100.0     ┆ 1100.0    ┆ -0.0     │\n",
       "│ es_fin    ┆ n_directo ┆           ┆           ┆   ┆           ┆           ┆           ┆          │\n",
       "│ modificac ┆ produccio ┆ directo   ┆ 323423423 ┆ … ┆ -0.0      ┆ 0.0       ┆ 0.0       ┆ -0.0     │\n",
       "│ ion_valor ┆ n_directo ┆           ┆           ┆   ┆           ┆           ┆           ┆          │\n",
       "│ able_auto ┆           ┆           ┆           ┆   ┆           ┆           ┆           ┆          │\n",
       "│ s         ┆           ┆           ┆           ┆   ┆           ┆           ┆           ┆          │\n",
       "│ modificac ┆ produccio ┆ directo   ┆ 323423423 ┆ … ┆ -0.0      ┆ 0.0       ┆ 0.0       ┆ -0.0     │\n",
       "│ ion_valor ┆ n_directo ┆           ┆           ┆   ┆           ┆           ┆           ┆          │\n",
       "│ able_auto ┆           ┆           ┆           ┆   ┆           ┆           ┆           ┆          │\n",
       "│ s         ┆           ┆           ┆           ┆   ┆           ┆           ┆           ┆          │\n",
       "│ mensual_m ┆ produccio ┆ directo   ┆ 345675387 ┆ … ┆ -0.0      ┆ 100.0     ┆ 1100.0    ┆ -0.0     │\n",
       "│ es_fin    ┆ n_directo ┆           ┆           ┆   ┆           ┆           ┆           ┆          │\n",
       "│ …         ┆ …         ┆ …         ┆ …         ┆ … ┆ …         ┆ …         ┆ …         ┆ …        │\n",
       "│ null      ┆ costo_con ┆ mantenido ┆ null      ┆ … ┆ 0.0       ┆ -9.2876e8 ┆ -9.2876e8 ┆ 4.6712e9 │\n",
       "│           ┆ trato_rea ┆           ┆           ┆   ┆           ┆           ┆           ┆          │\n",
       "│           ┆ _noprop   ┆           ┆           ┆   ┆           ┆           ┆           ┆          │\n",
       "│ null      ┆ costo_con ┆ mantenido ┆ null      ┆ … ┆ 0.0       ┆ -4.5438e8 ┆ -4.5438e8 ┆ 4.8956e9 │\n",
       "│           ┆ trato_rea ┆           ┆           ┆   ┆           ┆           ┆           ┆          │\n",
       "│           ┆ _noprop   ┆           ┆           ┆   ┆           ┆           ┆           ┆          │\n",
       "│ null      ┆ costo_con ┆ mantenido ┆ null      ┆ … ┆ 0.0       ┆ -2.3219e8 ┆ -2.3219e8 ┆ 1.1678e9 │\n",
       "│           ┆ trato_rea ┆           ┆           ┆   ┆           ┆           ┆           ┆          │\n",
       "│           ┆ _noprop   ┆           ┆           ┆   ┆           ┆           ┆           ┆          │\n",
       "│ null      ┆ costo_con ┆ mantenido ┆ null      ┆ … ┆ 0.0       ┆ -9.2876e8 ┆ -9.2876e8 ┆ 4.6712e9 │\n",
       "│           ┆ trato_rea ┆           ┆           ┆   ┆           ┆           ┆           ┆          │\n",
       "│           ┆ _noprop   ┆           ┆           ┆   ┆           ┆           ┆           ┆          │\n",
       "│ null      ┆ costo_con ┆ mantenido ┆ null      ┆ … ┆ 0.0       ┆ -4.5438e8 ┆ -4.5438e8 ┆ 4.8956e9 │\n",
       "│           ┆ trato_rea ┆           ┆           ┆   ┆           ┆           ┆           ┆          │\n",
       "│           ┆ _noprop   ┆           ┆           ┆   ┆           ┆           ┆           ┆          │\n",
       "└───────────┴───────────┴───────────┴───────────┴───┴───────────┴───────────┴───────────┴──────────┘"
      ]
     },
     "execution_count": 12,
     "metadata": {},
     "output_type": "execute_result"
    }
   ],
   "source": [
    "# En lugar de pasar un solo input preparado, se le pasan varios o todos a la vez\n",
    "insumos_devengo = [\n",
    "        input_prod_dir, \n",
    "        input_gasto_dir, \n",
    "        input_dcto_dir, \n",
    "        input_cesion_rea, \n",
    "        input_dcto_rea, \n",
    "        input_gasto_rea,\n",
    "        input_comi_rea,\n",
    "        input_costcon_rea\n",
    "    ]\n",
    "input_consolidado = pl.concat(aux_tools.alinear_esquemas(insumos_devengo), how='diagonal')\n",
    "output_todos = devg.devengar(input_consolidado, FECHA_VALORACION)\n",
    "output_todos"
   ]
  },
  {
   "attachments": {},
   "cell_type": "markdown",
   "metadata": {},
   "source": [
    "### Devengamiento del Costo de Contrato de Reaseguro No Proporcional\n",
    "\n",
    "El devengamiento de este componente sigue una regla adicional especial para ajustarse a los requerimientos de IFRS 17.\n",
    "\n",
    "La regla de devengamiento se debe elegir mensualmente dependiendo de la comparación entre el valor consumido del límite agregado del contrato de reaseguro y el valor consumido según el devengamiento diario:\n",
    "\n",
    "$$\n",
    "\\text{liberación}_t = \n",
    "\\begin{cases}\n",
    "\\max\\left(\\text{liberación}_t^{\\text{diario}}, \\text{liberación}_t^{\\text{límite}}\\right) & \\text{si } 0 <= t < T \\\\\n",
    "\\text{saldo}_{t-1} & \\text{si } t = T\n",
    "\\end{cases}\n",
    "$$\n",
    "\n",
    "La liberación por devengamiento diario se debe recalcular en cada periodo durante la vigencia porque, si en un periodo anterior se devengó por consumo del límite agregado, el valor de devengo diario (prima diaria) original ya no será válido y debe ajustarse en función del saldo restante por devengar y de la duración restante de la vigencia, así:\n",
    "\n",
    "$$\n",
    "\\text{liberación}_t^{\\text{diario}} = \\frac{\\text{saldo}_{t-1}}{\\text{días}_{t-1}^{\\text{restantes}}} \\times \\text{días}_t^{\\text{mes}}\n",
    "$$\n",
    "\n",
    "Por su parte, el devengamiento según el consumo del límite agregado del contrato se calcula como la proporción del límite agregado que ha sido consumida por siniestros incurridos en el periodo de valoración $t$, aplicada al saldo remanente del contrato al inicio del periodo $t$. Esta aproximación busca reflejar el patrón real de servicio recibido, alineado con el grado de exposición al riesgo efectivamente utilizado por el asegurado en ese mes.\n",
    "\n",
    "$$\n",
    "\\text{liberación}_t^{\\text{límite}} = \\left( \\frac{\\text{siniestros incurridos}_t}{\\text{límite agregado}_t} \\right) \\times \\text{saldo}_{t-1}\n",
    "$$\n",
    "\n",
    "En el primer periodo de devengamiento y durante la vigencia se comparan las dos alternativas de liberación y se elige el método que resulte en el mayor valor liberado, los saldos de reserva deben ajustarse a la liberación realizada.\n",
    "En el último periodo, siempre se debe garantizar que se libere todo el saldo que queda en la reserva.\n",
    "\n",
    "Donde:\n",
    "- $\\text{saldo}_{t-1}$: es el saldo por devengar al final del mes anterior o inicio del mes t.\n",
    "- $\\text{días}_{t-1}^{\\text{restantes}}$: número de días de vigencia restantes al inicio del mes $t$.\n",
    "- $\\text{días}_t^{\\text{mes}}$: número de días del mes $t$.\n",
    "- $T$: último periodo de vigencia.\n",
    "- $\\text{siniestros acumulados}_t$: valor acumulado de los siniestros incurridos cubiertos por el contrato de reaseguro hasta el mes $t$.\n",
    "- $\\text{límite agregado}_t$: valor máximo de cobertura del contrato de reaseguro, puede cambiar si se dan reinstalamentos.\n"
   ]
  },
  {
   "cell_type": "code",
   "execution_count": 13,
   "metadata": {},
   "outputs": [
    {
     "data": {
      "text/html": [
       "<div><style>\n",
       ".dataframe > thead > tr,\n",
       ".dataframe > tbody > tr {\n",
       "  text-align: right;\n",
       "  white-space: pre-wrap;\n",
       "}\n",
       "</style>\n",
       "<small>shape: (6, 56)</small><table border=\"1\" class=\"dataframe\"><thead><tr><th>tipo_insumo</th><th>contrato_reaseguro</th><th>tipo_negocio</th><th>fe_ini_vig_contrato_reaseguro</th><th>fe_fin_vig_contrato_reaseguro</th><th>nit_reasegurador</th><th>tipo_reasegurador</th><th>porc_participacion_reasegurador</th><th>compania</th><th>ramo_sura</th><th>producto</th><th>fecha_inicio_vigencia_recibo</th><th>fecha_fin_vigencia_recibo</th><th>fecha_inicio_vigencia_cobertura</th><th>fecha_fin_vigencia_cobertura</th><th>fe_reinstalamento</th><th>recibo_costo_contrato</th><th>fecha_contabilizacion_recibo</th><th>moneda</th><th>valor_costo_contrato</th><th>nivel_detalle</th><th>signo_constitucion</th><th>candidato_devengo_50_50</th><th>limite_agregado_valor_instalado</th><th>valor_siniestros_incurridos_mes</th><th>limite_agregado_casos_instalado</th><th>casos_incurridos_mes</th><th>fecha_inicio_vigencia</th><th>fecha_valoracion_anterior</th><th>valor_liberacion_limite</th><th>saldo_anterior</th><th>componente</th><th>tipo_contabilidad</th><th>regla_devengo</th><th>tipo_contrato</th><th>cohorte</th><th>anio_liberacion</th><th>transicion</th><th>fecha_inicio_periodo</th><th>fecha_valoracion</th><th>fecha_constitucion</th><th>fecha_inicio_devengo</th><th>fecha_fin_devengo</th><th>valor_base_devengo</th><th>dias_devengados</th><th>dias_no_devengados</th><th>control_suma_dias</th><th>dias_constitucion</th><th>dias_liberacion</th><th>valor_devengo_diario</th><th>porc_consumo_limite</th><th>estado_devengo</th><th>valor_constitucion</th><th>valor_liberacion</th><th>valor_liberacion_acum</th><th>saldo</th></tr><tr><td>str</td><td>i64</td><td>str</td><td>date</td><td>date</td><td>i64</td><td>str</td><td>f64</td><td>str</td><td>str</td><td>str</td><td>date</td><td>date</td><td>date</td><td>date</td><td>date</td><td>i64</td><td>date</td><td>str</td><td>i64</td><td>str</td><td>i64</td><td>i32</td><td>i64</td><td>i64</td><td>i64</td><td>i64</td><td>date</td><td>date</td><td>f64</td><td>f64</td><td>str</td><td>str</td><td>str</td><td>str</td><td>i32</td><td>str</td><td>i32</td><td>date</td><td>date</td><td>date</td><td>date</td><td>date</td><td>f64</td><td>i64</td><td>i64</td><td>bool</td><td>i64</td><td>i64</td><td>f64</td><td>f64</td><td>str</td><td>f64</td><td>f64</td><td>f64</td><td>f64</td></tr></thead><tbody><tr><td>&quot;costo_contrato_rea_noprop&quot;</td><td>292161</td><td>&quot;mantenido&quot;</td><td>2025-06-30</td><td>2024-07-01</td><td>507351248</td><td>&quot;int&quot;</td><td>0.2</td><td>&quot;02&quot;</td><td>&quot;090&quot;</td><td>&quot;plan1&quot;</td><td>2024-07-01</td><td>2025-06-30</td><td>2024-07-01</td><td>2025-06-30</td><td>null</td><td>47628239</td><td>2024-07-01</td><td>&quot;COP&quot;</td><td>7000000000</td><td>&quot;recibo&quot;</td><td>1</td><td>0</td><td>10000000000</td><td>1658491901</td><td>100</td><td>15</td><td>2024-07-01</td><td>2024-11-30</td><td>2.3219e8</td><td>9.3562e8</td><td>&quot;costo_contrato&quot;</td><td>&quot;ifrs17_corporativo&quot;</td><td>&quot;consumo_limite&quot;</td><td>&quot;reaseguro_no_proporcional&quot;</td><td>2025</td><td>&quot;anio_actual&quot;</td><td>0</td><td>2024-12-01</td><td>2024-12-31</td><td>2024-07-01</td><td>2024-07-01</td><td>2025-06-30</td><td>1.4000e9</td><td>184</td><td>181</td><td>true</td><td>365</td><td>31</td><td>3.8356e6</td><td>0.165849</td><td>&quot;en_curso&quot;</td><td>0.0</td><td>-2.3219e8</td><td>-2.3219e8</td><td>1.1678e9</td></tr><tr><td>&quot;costo_contrato_rea_noprop&quot;</td><td>292161</td><td>&quot;mantenido&quot;</td><td>2025-06-30</td><td>2024-07-01</td><td>368484453</td><td>&quot;ext&quot;</td><td>0.8</td><td>&quot;02&quot;</td><td>&quot;090&quot;</td><td>&quot;plan1&quot;</td><td>2024-07-01</td><td>2025-06-30</td><td>2024-07-01</td><td>2025-06-30</td><td>null</td><td>47628239</td><td>2024-07-01</td><td>&quot;COP&quot;</td><td>7000000000</td><td>&quot;recibo&quot;</td><td>1</td><td>0</td><td>10000000000</td><td>1658491901</td><td>100</td><td>15</td><td>2024-07-01</td><td>2024-11-30</td><td>9.2876e8</td><td>3.7425e9</td><td>&quot;costo_contrato&quot;</td><td>&quot;ifrs17_corporativo&quot;</td><td>&quot;consumo_limite&quot;</td><td>&quot;reaseguro_no_proporcional&quot;</td><td>2025</td><td>&quot;anio_actual&quot;</td><td>0</td><td>2024-12-01</td><td>2024-12-31</td><td>2024-07-01</td><td>2024-07-01</td><td>2025-06-30</td><td>5.6000e9</td><td>184</td><td>181</td><td>true</td><td>365</td><td>31</td><td>1.5342e7</td><td>0.165849</td><td>&quot;en_curso&quot;</td><td>0.0</td><td>-9.2876e8</td><td>-9.2876e8</td><td>4.6712e9</td></tr><tr><td>&quot;costo_contrato_rea_noprop&quot;</td><td>373318</td><td>&quot;mantenido&quot;</td><td>2025-06-30</td><td>2024-07-01</td><td>446526767</td><td>&quot;int&quot;</td><td>1.0</td><td>&quot;01&quot;</td><td>&quot;009&quot;</td><td>&quot;plan1&quot;</td><td>2024-07-01</td><td>2025-06-30</td><td>2024-07-01</td><td>2025-06-30</td><td>null</td><td>71800418</td><td>2024-07-01</td><td>&quot;COP&quot;</td><td>5350000000</td><td>&quot;recibo&quot;</td><td>1</td><td>0</td><td>50000000000</td><td>3221449571</td><td>50</td><td>5</td><td>2024-07-01</td><td>2024-11-30</td><td>3.4470e8</td><td>4.4412e9</td><td>&quot;costo_contrato&quot;</td><td>&quot;ifrs17_corporativo&quot;</td><td>&quot;diario&quot;</td><td>&quot;reaseguro_no_proporcional&quot;</td><td>2025</td><td>&quot;anio_actual&quot;</td><td>0</td><td>2024-12-01</td><td>2024-12-31</td><td>2024-07-01</td><td>2024-07-01</td><td>2025-06-30</td><td>5.3500e9</td><td>184</td><td>181</td><td>true</td><td>365</td><td>31</td><td>1.4658e7</td><td>0.064429</td><td>&quot;en_curso&quot;</td><td>0.0</td><td>-4.5438e8</td><td>-4.5438e8</td><td>4.8956e9</td></tr><tr><td>&quot;costo_contrato_rea_noprop&quot;</td><td>292161</td><td>&quot;mantenido&quot;</td><td>2025-06-30</td><td>2024-07-01</td><td>507351248</td><td>&quot;int&quot;</td><td>0.2</td><td>&quot;02&quot;</td><td>&quot;090&quot;</td><td>&quot;plan1&quot;</td><td>2024-07-01</td><td>2025-06-30</td><td>2024-07-01</td><td>2025-06-30</td><td>null</td><td>47628239</td><td>2024-07-01</td><td>&quot;COP&quot;</td><td>7000000000</td><td>&quot;cobertura&quot;</td><td>1</td><td>0</td><td>10000000000</td><td>1658491901</td><td>100</td><td>15</td><td>2024-07-01</td><td>2024-11-30</td><td>2.3219e8</td><td>9.3562e8</td><td>&quot;costo_contrato&quot;</td><td>&quot;ifrs17_local&quot;</td><td>&quot;consumo_limite&quot;</td><td>&quot;reaseguro_no_proporcional&quot;</td><td>2025</td><td>&quot;anio_actual&quot;</td><td>0</td><td>2024-12-01</td><td>2024-12-31</td><td>2024-07-01</td><td>2024-07-01</td><td>2025-06-30</td><td>1.4000e9</td><td>184</td><td>181</td><td>true</td><td>365</td><td>31</td><td>3.8356e6</td><td>0.165849</td><td>&quot;en_curso&quot;</td><td>0.0</td><td>-2.3219e8</td><td>-2.3219e8</td><td>1.1678e9</td></tr><tr><td>&quot;costo_contrato_rea_noprop&quot;</td><td>292161</td><td>&quot;mantenido&quot;</td><td>2025-06-30</td><td>2024-07-01</td><td>368484453</td><td>&quot;ext&quot;</td><td>0.8</td><td>&quot;02&quot;</td><td>&quot;090&quot;</td><td>&quot;plan1&quot;</td><td>2024-07-01</td><td>2025-06-30</td><td>2024-07-01</td><td>2025-06-30</td><td>null</td><td>47628239</td><td>2024-07-01</td><td>&quot;COP&quot;</td><td>7000000000</td><td>&quot;cobertura&quot;</td><td>1</td><td>0</td><td>10000000000</td><td>1658491901</td><td>100</td><td>15</td><td>2024-07-01</td><td>2024-11-30</td><td>9.2876e8</td><td>3.7425e9</td><td>&quot;costo_contrato&quot;</td><td>&quot;ifrs17_local&quot;</td><td>&quot;consumo_limite&quot;</td><td>&quot;reaseguro_no_proporcional&quot;</td><td>2025</td><td>&quot;anio_actual&quot;</td><td>0</td><td>2024-12-01</td><td>2024-12-31</td><td>2024-07-01</td><td>2024-07-01</td><td>2025-06-30</td><td>5.6000e9</td><td>184</td><td>181</td><td>true</td><td>365</td><td>31</td><td>1.5342e7</td><td>0.165849</td><td>&quot;en_curso&quot;</td><td>0.0</td><td>-9.2876e8</td><td>-9.2876e8</td><td>4.6712e9</td></tr><tr><td>&quot;costo_contrato_rea_noprop&quot;</td><td>373318</td><td>&quot;mantenido&quot;</td><td>2025-06-30</td><td>2024-07-01</td><td>446526767</td><td>&quot;int&quot;</td><td>1.0</td><td>&quot;01&quot;</td><td>&quot;009&quot;</td><td>&quot;plan1&quot;</td><td>2024-07-01</td><td>2025-06-30</td><td>2024-07-01</td><td>2025-06-30</td><td>null</td><td>71800418</td><td>2024-07-01</td><td>&quot;COP&quot;</td><td>5350000000</td><td>&quot;cobertura&quot;</td><td>1</td><td>0</td><td>50000000000</td><td>3221449571</td><td>50</td><td>5</td><td>2024-07-01</td><td>2024-11-30</td><td>3.4470e8</td><td>4.4412e9</td><td>&quot;costo_contrato&quot;</td><td>&quot;ifrs17_local&quot;</td><td>&quot;diario&quot;</td><td>&quot;reaseguro_no_proporcional&quot;</td><td>2025</td><td>&quot;anio_actual&quot;</td><td>0</td><td>2024-12-01</td><td>2024-12-31</td><td>2024-07-01</td><td>2024-07-01</td><td>2025-06-30</td><td>5.3500e9</td><td>184</td><td>181</td><td>true</td><td>365</td><td>31</td><td>1.4658e7</td><td>0.064429</td><td>&quot;en_curso&quot;</td><td>0.0</td><td>-4.5438e8</td><td>-4.5438e8</td><td>4.8956e9</td></tr></tbody></table></div>"
      ],
      "text/plain": [
       "shape: (6, 56)\n",
       "┌───────────┬───────────┬───────────┬───────────┬───┬───────────┬───────────┬───────────┬──────────┐\n",
       "│ tipo_insu ┆ contrato_ ┆ tipo_nego ┆ fe_ini_vi ┆ … ┆ valor_con ┆ valor_lib ┆ valor_lib ┆ saldo    │\n",
       "│ mo        ┆ reaseguro ┆ cio       ┆ g_contrat ┆   ┆ stitucion ┆ eracion   ┆ eracion_a ┆ ---      │\n",
       "│ ---       ┆ ---       ┆ ---       ┆ o_reasegu ┆   ┆ ---       ┆ ---       ┆ cum       ┆ f64      │\n",
       "│ str       ┆ i64       ┆ str       ┆ ro        ┆   ┆ f64       ┆ f64       ┆ ---       ┆          │\n",
       "│           ┆           ┆           ┆ ---       ┆   ┆           ┆           ┆ f64       ┆          │\n",
       "│           ┆           ┆           ┆ date      ┆   ┆           ┆           ┆           ┆          │\n",
       "╞═══════════╪═══════════╪═══════════╪═══════════╪═══╪═══════════╪═══════════╪═══════════╪══════════╡\n",
       "│ costo_con ┆ 292161    ┆ mantenido ┆ 2025-06-3 ┆ … ┆ 0.0       ┆ -2.3219e8 ┆ -2.3219e8 ┆ 1.1678e9 │\n",
       "│ trato_rea ┆           ┆           ┆ 0         ┆   ┆           ┆           ┆           ┆          │\n",
       "│ _noprop   ┆           ┆           ┆           ┆   ┆           ┆           ┆           ┆          │\n",
       "│ costo_con ┆ 292161    ┆ mantenido ┆ 2025-06-3 ┆ … ┆ 0.0       ┆ -9.2876e8 ┆ -9.2876e8 ┆ 4.6712e9 │\n",
       "│ trato_rea ┆           ┆           ┆ 0         ┆   ┆           ┆           ┆           ┆          │\n",
       "│ _noprop   ┆           ┆           ┆           ┆   ┆           ┆           ┆           ┆          │\n",
       "│ costo_con ┆ 373318    ┆ mantenido ┆ 2025-06-3 ┆ … ┆ 0.0       ┆ -4.5438e8 ┆ -4.5438e8 ┆ 4.8956e9 │\n",
       "│ trato_rea ┆           ┆           ┆ 0         ┆   ┆           ┆           ┆           ┆          │\n",
       "│ _noprop   ┆           ┆           ┆           ┆   ┆           ┆           ┆           ┆          │\n",
       "│ costo_con ┆ 292161    ┆ mantenido ┆ 2025-06-3 ┆ … ┆ 0.0       ┆ -2.3219e8 ┆ -2.3219e8 ┆ 1.1678e9 │\n",
       "│ trato_rea ┆           ┆           ┆ 0         ┆   ┆           ┆           ┆           ┆          │\n",
       "│ _noprop   ┆           ┆           ┆           ┆   ┆           ┆           ┆           ┆          │\n",
       "│ costo_con ┆ 292161    ┆ mantenido ┆ 2025-06-3 ┆ … ┆ 0.0       ┆ -9.2876e8 ┆ -9.2876e8 ┆ 4.6712e9 │\n",
       "│ trato_rea ┆           ┆           ┆ 0         ┆   ┆           ┆           ┆           ┆          │\n",
       "│ _noprop   ┆           ┆           ┆           ┆   ┆           ┆           ┆           ┆          │\n",
       "│ costo_con ┆ 373318    ┆ mantenido ┆ 2025-06-3 ┆ … ┆ 0.0       ┆ -4.5438e8 ┆ -4.5438e8 ┆ 4.8956e9 │\n",
       "│ trato_rea ┆           ┆           ┆ 0         ┆   ┆           ┆           ┆           ┆          │\n",
       "│ _noprop   ┆           ┆           ┆           ┆   ┆           ┆           ┆           ┆          │\n",
       "└───────────┴───────────┴───────────┴───────────┴───┴───────────┴───────────┴───────────┴──────────┘"
      ]
     },
     "execution_count": 13,
     "metadata": {},
     "output_type": "execute_result"
    }
   ],
   "source": [
    "# La función devengar incorpora la lógica descrita\n",
    "output_costo_contrato = devg.devengar(input_costcon_rea, FECHA_VALORACION)\n",
    "output_costo_contrato"
   ]
  },
  {
   "attachments": {},
   "cell_type": "markdown",
   "metadata": {},
   "source": [
    "# 3. Fluctuación"
   ]
  },
  {
   "attachments": {},
   "cell_type": "markdown",
   "metadata": {},
   "source": [
    "La fluctuación aplica solo para los componentes expresados en moneda extranjera, por eso primero identifica cuáles líneas del output requieren este cálculo y, de no requerirlo, la fluctuación será cero:\n",
    "\n",
    "$$\n",
    "\\text{Fluc} =\n",
    "\\begin{cases}\n",
    "0 & \\text{si } \\text{moneda} = \\text{COP} \\\\\n",
    "\\text{Fluc}_{\\text{liberación}} + \\text{Fluc}_{\\text{constitución}} & \\text{en otro caso}\n",
    "\\end{cases}\n",
    "$$\n",
    "\n",
    "\n",
    "## Fluctuación IFRS4, IFRS17 Local y Corporativo:\n",
    "\n",
    "- Se debe fluctuar el valor completo del saldo de reserva que la aseguradora mantuvo durante el mes de medición. Por ello, la base de fluctuación será el saldo de apertura del mes contable actual, es decir $ \\text{saldo}_{t-1} $ y en los casos en que el mes se haya aperturado sin saldo, pero se haya realizado una constitución, la base será la constitución realizada en el periodo.\n",
    "\n",
    "$$\n",
    "\\text{Fluc}_t =\n",
    "\\begin{cases}\n",
    "\\text{constitución}_t \\times (\\text{TC}_t - \\text{TC}_{{\\text{bautizo}}}) & \\text{si } t = 0 \\\\\n",
    "\\text{saldo}_{t-1} \\times (\\text{TC}_t - \\text{TC}_{t-1}) & \\text{si } 0 < t \\leq T \\\\\n",
    "\\end{cases}\n",
    "$$\n",
    "\n",
    "- La constitución y la liberación se fluctúan por separado:\n",
    "  - La base para la **fluctuación de la liberación** es el negativo de la liberación en el mes $ t $.\n",
    "  - La base para la **fluctuación de la constitución** será el valor del saldo final del mes actual $ \\text{saldo}_t $, el cual refleja el valor que permanece constituido al cierre del mes.\n",
    "  - En el primer mes, la tasa de bautizo representa la tasa exacta de reconocimiento del pasivo. En meses posteriores, se usa la tasa del cierre anterior para evitar doble contabilización de la variación cambiaria.\n",
    "\n",
    "En resumen:\n",
    "\n",
    "$$\n",
    "\\text{Fluc}_{\\text{liberación}} =\n",
    "\\begin{cases}\n",
    "-\\text{liberación}_t \\times (\\text{TC}_t - \\text{TC}_{{\\text{bautizo}}}) & \\text{si } t = 0 \\\\\n",
    "-\\text{liberación}_t \\times (\\text{TC}_t - \\text{TC}_{t-1}) & \\text{si } 0 < t \\leq T \\\\\n",
    "\\end{cases}\n",
    "$$\n",
    "\n",
    "$$\n",
    "\\text{Fluc}_{\\text{constitución}} =\n",
    "\\begin{cases}\n",
    "\\text{saldo}_t \\times (\\text{TC}_t - \\text{TC}_{{\\text{bautizo}}}) & \\text{si } t = 0 \\\\\n",
    "\\text{saldo}_{t} \\times (\\text{TC}_t - \\text{TC}_{t-1}) & \\text{si } 0 < t \\leq T \\\\\n",
    "\\end{cases}\n",
    "$$\n",
    "\n",
    "Notación:\n",
    "\n",
    "- $ t $: cierre del mes contable actual.  \n",
    "- $ t-1 $: cierre del mes contable anterior.  \n",
    "- $ T $: cierre del mes en que se liquida el saldo o se libera completamente.  \n",
    "- $ \\text{TC}_t $: tasa de cambio al cierre del mes contable $ t $ o fecha de valoración.  \n",
    "- $ \\text{TC}_{\\text{bautizo}} $: tasa de cambio del día exacto de contabilización del recibo.  \n",
    "\n",
    "---\n",
    "\n",
    "### Implicaciones de signo en la fluctuación:\n",
    "\n",
    "La fluctuación, tanto de constitución, como de liberación **debe reflejar siempre el signo del efecto económico de la diferencia en tasas de cambio**. Este efecto depende de la naturaleza de la reserva (activo o pasivo) y de la dirección del cambio en tasa:\n",
    "\n",
    "Cuando la PCR es un pasivo (como en el seguro directo):\n",
    "  - Un aumento en la tasa de cambio genera fluctuación **negativa** porque incrementa el valor de la obligación.\n",
    "  - Una disminución de la tasa de cambio reduce el valor de la obligación de la aseguradora, generando un efecto contable **positivo.**\n",
    "\n",
    "Cuando la naturaleza de la reserva es la de un activo, como en la PCR del reaseguro cedido, ocurre lo opuesto y el signo de la fluctuación es **positivo** cuando la tasa incrementa y **negativo** cuando la tasa disminuye.\n",
    "\n",
    "---\n",
    "\n",
    "### Fluctuación y Saldo de la PCR en COP:\n",
    "\n",
    "Para reconstruir el saldo de la reserva en moneda local a partir de la fluctuación:\n",
    "1. Se convierten los movimientos de constitución y liberación a COP con la tasa de cambio correspondiente.\n",
    "2. Se recalcula el saldo como:\n",
    "$$ saldo_t^{COP} = saldo_{t-1}^{COP} + liberación_t^{COP} + fluctuación_{t}^{COP} $$\n",
    "Donde:\n",
    "La liberación $ liberación_{t}^{COP} $ es positiva si la naturaleza de la reserva es pasivo (seguro directo) y negativa si es activo (cedido) y $fluctuación_{t}^{COP}$ siempre tiene el signo según la naturaleza de la reserva y la dirección del cambio en tasas.\n"
   ]
  },
  {
   "cell_type": "code",
   "execution_count": 14,
   "metadata": {},
   "outputs": [
    {
     "data": {
      "text/html": [
       "<div><style>\n",
       ".dataframe > thead > tr,\n",
       ".dataframe > tbody > tr {\n",
       "  text-align: right;\n",
       "  white-space: pre-wrap;\n",
       "}\n",
       "</style>\n",
       "<small>shape: (169, 85)</small><table border=\"1\" class=\"dataframe\"><thead><tr><th>aux_casuistica</th><th>tipo_insumo</th><th>tipo_negocio</th><th>poliza</th><th>fecha_expedicion_poliza</th><th>recibo</th><th>amparo</th><th>poliza_certificado</th><th>compania</th><th>ramo_sura</th><th>canal</th><th>producto</th><th>tipo_op</th><th>moneda</th><th>fecha_contabilizacion_recibo</th><th>fecha_inicio_vigencia_recibo</th><th>fecha_fin_vigencia_recibo</th><th>fecha_inicio_vigencia_cobertura</th><th>fecha_fin_vigencia_cobertura</th><th>valor_prima_emitida</th><th>nivel_detalle</th><th>signo_constitucion</th><th>candidato_devengo_50_50</th><th>fecha_inicio_vigencia</th><th>tipo_gasto</th><th>porc_gasto</th><th>prioridad_match</th><th>rn</th><th>podto_comercial</th><th>podto_tecnico</th><th>contrato_reaseguro</th><th>nit_reasegurador</th><th>tipo_reasegurador</th><th>porc_participacion_reasegurador</th><th>fe_ini_vig_contrato_reaseguro</th><th>fe_fin_vig_contrato_reaseguro</th><th>valor_prima_cedida</th><th>&hellip;</th><th>casos_incurridos_mes</th><th>fecha_valoracion_anterior</th><th>valor_liberacion_limite</th><th>saldo_anterior</th><th>componente</th><th>tipo_contabilidad</th><th>regla_devengo</th><th>tipo_contrato</th><th>cohorte</th><th>anio_liberacion</th><th>transicion</th><th>fecha_inicio_periodo</th><th>fecha_valoracion</th><th>fecha_constitucion</th><th>fecha_inicio_devengo</th><th>fecha_fin_devengo</th><th>valor_base_devengo</th><th>dias_devengados</th><th>dias_no_devengados</th><th>control_suma_dias</th><th>dias_constitucion</th><th>dias_liberacion</th><th>valor_devengo_diario</th><th>mes_constitucion</th><th>mes_ini_liberacion</th><th>mes_fin_liberacion</th><th>porc_consumo_limite</th><th>estado_devengo</th><th>valor_constitucion</th><th>valor_liberacion</th><th>valor_liberacion_acum</th><th>saldo</th><th>tasa_cambio_fecha_valoracion</th><th>tasa_cambio_fecha_valoracion_anterior</th><th>tasa_cambio_fecha_constitucion</th><th>fluctuacion_constitucion</th><th>fluctuacion_liberacion</th></tr><tr><td>str</td><td>str</td><td>str</td><td>i64</td><td>date</td><td>i64</td><td>str</td><td>i64</td><td>str</td><td>str</td><td>str</td><td>str</td><td>str</td><td>str</td><td>date</td><td>date</td><td>date</td><td>date</td><td>date</td><td>f64</td><td>str</td><td>i64</td><td>i32</td><td>date</td><td>str</td><td>f64</td><td>i32</td><td>i64</td><td>f64</td><td>f64</td><td>i64</td><td>i64</td><td>str</td><td>f64</td><td>date</td><td>date</td><td>i64</td><td>&hellip;</td><td>i64</td><td>date</td><td>f64</td><td>f64</td><td>str</td><td>str</td><td>str</td><td>str</td><td>i32</td><td>str</td><td>i32</td><td>date</td><td>date</td><td>date</td><td>date</td><td>date</td><td>f64</td><td>i64</td><td>i64</td><td>bool</td><td>i64</td><td>i64</td><td>f64</td><td>i32</td><td>i32</td><td>i32</td><td>f64</td><td>str</td><td>f64</td><td>f64</td><td>f64</td><td>f64</td><td>f64</td><td>f64</td><td>f64</td><td>f64</td><td>f64</td></tr></thead><tbody><tr><td>&quot;modificacion_valorable_autos&quot;</td><td>&quot;produccion_directo&quot;</td><td>&quot;directo&quot;</td><td>323423423</td><td>2024-01-30</td><td>2938433191</td><td>&quot;DANOS&quot;</td><td>323423843</td><td>&quot;01&quot;</td><td>&quot;040&quot;</td><td>&quot;sucursal&quot;</td><td>&quot;plan_basico&quot;</td><td>&quot;modificacion_valorable&quot;</td><td>&quot;COP&quot;</td><td>2024-01-30</td><td>2024-01-30</td><td>2024-02-15</td><td>2024-01-30</td><td>2024-02-15</td><td>50.0</td><td>&quot;cobertura&quot;</td><td>-1</td><td>0</td><td>2024-01-30</td><td>null</td><td>null</td><td>null</td><td>null</td><td>null</td><td>null</td><td>null</td><td>null</td><td>null</td><td>null</td><td>null</td><td>null</td><td>null</td><td>&hellip;</td><td>null</td><td>2024-11-30</td><td>null</td><td>0.0</td><td>&quot;prima&quot;</td><td>&quot;ifrs17_local&quot;</td><td>&quot;diario&quot;</td><td>&quot;directo&quot;</td><td>2024</td><td>&quot;no_aplica&quot;</td><td>0</td><td>2024-12-01</td><td>2024-12-31</td><td>2024-01-30</td><td>2024-01-30</td><td>2024-02-15</td><td>50.0</td><td>0</td><td>0</td><td>true</td><td>0</td><td>0</td><td>0.0</td><td>null</td><td>null</td><td>null</td><td>null</td><td>&quot;finalizado&quot;</td><td>-0.0</td><td>0.0</td><td>0.0</td><td>-0.0</td><td>1.0</td><td>1.0</td><td>1.0</td><td>0.0</td><td>0.0</td></tr><tr><td>&quot;mensual_mes_fin&quot;</td><td>&quot;produccion_directo&quot;</td><td>&quot;directo&quot;</td><td>345675387</td><td>2024-02-20</td><td>2938431543</td><td>&quot;HURTO&quot;</td><td>345675807</td><td>&quot;01&quot;</td><td>&quot;040&quot;</td><td>&quot;sucursal&quot;</td><td>&quot;plan_2&quot;</td><td>&quot;emision&quot;</td><td>&quot;COP&quot;</td><td>2024-02-20</td><td>2024-01-15</td><td>2024-02-15</td><td>2024-01-15</td><td>2024-02-15</td><td>100.0</td><td>&quot;cobertura&quot;</td><td>-1</td><td>0</td><td>2024-01-15</td><td>null</td><td>null</td><td>null</td><td>null</td><td>null</td><td>null</td><td>null</td><td>null</td><td>null</td><td>null</td><td>null</td><td>null</td><td>null</td><td>&hellip;</td><td>null</td><td>2024-11-30</td><td>null</td><td>-100.0</td><td>&quot;prima&quot;</td><td>&quot;ifrs17_local&quot;</td><td>&quot;diario&quot;</td><td>&quot;directo&quot;</td><td>2024</td><td>&quot;no_aplica&quot;</td><td>0</td><td>2024-12-01</td><td>2024-12-31</td><td>2024-02-20</td><td>2024-02-20</td><td>2024-02-15</td><td>100.0</td><td>352</td><td>0</td><td>false</td><td>32</td><td>32</td><td>3.125</td><td>null</td><td>null</td><td>null</td><td>null</td><td>&quot;entra_devengado&quot;</td><td>-0.0</td><td>100.0</td><td>1100.0</td><td>-0.0</td><td>1.0</td><td>1.0</td><td>1.0</td><td>0.0</td><td>0.0</td></tr><tr><td>&quot;modificacion_valorable_autos&quot;</td><td>&quot;produccion_directo&quot;</td><td>&quot;directo&quot;</td><td>323423423</td><td>2024-01-30</td><td>2938433191</td><td>&quot;DANOS&quot;</td><td>323423843</td><td>&quot;01&quot;</td><td>&quot;040&quot;</td><td>&quot;sucursal&quot;</td><td>&quot;plan_basico&quot;</td><td>&quot;modificacion_valorable&quot;</td><td>&quot;COP&quot;</td><td>2024-01-30</td><td>2024-01-30</td><td>2024-02-15</td><td>2024-01-30</td><td>2024-02-15</td><td>50.0</td><td>&quot;recibo&quot;</td><td>-1</td><td>0</td><td>2024-01-30</td><td>null</td><td>null</td><td>null</td><td>null</td><td>null</td><td>null</td><td>null</td><td>null</td><td>null</td><td>null</td><td>null</td><td>null</td><td>null</td><td>&hellip;</td><td>null</td><td>2024-11-30</td><td>null</td><td>0.0</td><td>&quot;prima&quot;</td><td>&quot;ifrs4&quot;</td><td>&quot;diario&quot;</td><td>&quot;directo&quot;</td><td>2024</td><td>&quot;no_aplica&quot;</td><td>0</td><td>2024-12-01</td><td>2024-12-31</td><td>2024-01-30</td><td>2024-01-30</td><td>2024-02-15</td><td>50.0</td><td>0</td><td>0</td><td>true</td><td>0</td><td>0</td><td>0.0</td><td>null</td><td>null</td><td>null</td><td>null</td><td>&quot;finalizado&quot;</td><td>-0.0</td><td>0.0</td><td>0.0</td><td>-0.0</td><td>1.0</td><td>1.0</td><td>1.0</td><td>0.0</td><td>0.0</td></tr><tr><td>&quot;modificacion_valorable_autos&quot;</td><td>&quot;produccion_directo&quot;</td><td>&quot;directo&quot;</td><td>323423423</td><td>2024-01-30</td><td>2938433191</td><td>&quot;DANOS&quot;</td><td>323423843</td><td>&quot;01&quot;</td><td>&quot;040&quot;</td><td>&quot;sucursal&quot;</td><td>&quot;plan_basico&quot;</td><td>&quot;modificacion_valorable&quot;</td><td>&quot;COP&quot;</td><td>2024-01-30</td><td>2024-01-30</td><td>2024-02-15</td><td>2024-01-30</td><td>2024-02-15</td><td>50.0</td><td>&quot;cobertura&quot;</td><td>-1</td><td>0</td><td>2024-01-30</td><td>null</td><td>null</td><td>null</td><td>null</td><td>null</td><td>null</td><td>null</td><td>null</td><td>null</td><td>null</td><td>null</td><td>null</td><td>null</td><td>&hellip;</td><td>null</td><td>2024-11-30</td><td>null</td><td>0.0</td><td>&quot;prima&quot;</td><td>&quot;ifrs17_corporativo&quot;</td><td>&quot;diario&quot;</td><td>&quot;directo&quot;</td><td>2024</td><td>&quot;no_aplica&quot;</td><td>0</td><td>2024-12-01</td><td>2024-12-31</td><td>2024-01-30</td><td>2024-01-30</td><td>2024-02-15</td><td>50.0</td><td>0</td><td>0</td><td>true</td><td>0</td><td>0</td><td>0.0</td><td>null</td><td>null</td><td>null</td><td>null</td><td>&quot;finalizado&quot;</td><td>-0.0</td><td>0.0</td><td>0.0</td><td>-0.0</td><td>1.0</td><td>1.0</td><td>1.0</td><td>0.0</td><td>0.0</td></tr><tr><td>&quot;mensual_mes_fin&quot;</td><td>&quot;produccion_directo&quot;</td><td>&quot;directo&quot;</td><td>345675387</td><td>2024-02-20</td><td>2938431543</td><td>&quot;HURTO&quot;</td><td>345675807</td><td>&quot;01&quot;</td><td>&quot;040&quot;</td><td>&quot;sucursal&quot;</td><td>&quot;plan_2&quot;</td><td>&quot;emision&quot;</td><td>&quot;COP&quot;</td><td>2024-02-20</td><td>2024-01-15</td><td>2024-02-15</td><td>2024-01-15</td><td>2024-02-15</td><td>100.0</td><td>&quot;cobertura&quot;</td><td>-1</td><td>0</td><td>2024-01-15</td><td>null</td><td>null</td><td>null</td><td>null</td><td>null</td><td>null</td><td>null</td><td>null</td><td>null</td><td>null</td><td>null</td><td>null</td><td>null</td><td>&hellip;</td><td>null</td><td>2024-11-30</td><td>null</td><td>-100.0</td><td>&quot;prima&quot;</td><td>&quot;ifrs17_corporativo&quot;</td><td>&quot;diario&quot;</td><td>&quot;directo&quot;</td><td>2024</td><td>&quot;no_aplica&quot;</td><td>0</td><td>2024-12-01</td><td>2024-12-31</td><td>2024-02-20</td><td>2024-02-20</td><td>2024-02-15</td><td>100.0</td><td>352</td><td>0</td><td>false</td><td>32</td><td>32</td><td>3.125</td><td>null</td><td>null</td><td>null</td><td>null</td><td>&quot;entra_devengado&quot;</td><td>-0.0</td><td>100.0</td><td>1100.0</td><td>-0.0</td><td>1.0</td><td>1.0</td><td>1.0</td><td>0.0</td><td>0.0</td></tr><tr><td>&hellip;</td><td>&hellip;</td><td>&hellip;</td><td>&hellip;</td><td>&hellip;</td><td>&hellip;</td><td>&hellip;</td><td>&hellip;</td><td>&hellip;</td><td>&hellip;</td><td>&hellip;</td><td>&hellip;</td><td>&hellip;</td><td>&hellip;</td><td>&hellip;</td><td>&hellip;</td><td>&hellip;</td><td>&hellip;</td><td>&hellip;</td><td>&hellip;</td><td>&hellip;</td><td>&hellip;</td><td>&hellip;</td><td>&hellip;</td><td>&hellip;</td><td>&hellip;</td><td>&hellip;</td><td>&hellip;</td><td>&hellip;</td><td>&hellip;</td><td>&hellip;</td><td>&hellip;</td><td>&hellip;</td><td>&hellip;</td><td>&hellip;</td><td>&hellip;</td><td>&hellip;</td><td>&hellip;</td><td>&hellip;</td><td>&hellip;</td><td>&hellip;</td><td>&hellip;</td><td>&hellip;</td><td>&hellip;</td><td>&hellip;</td><td>&hellip;</td><td>&hellip;</td><td>&hellip;</td><td>&hellip;</td><td>&hellip;</td><td>&hellip;</td><td>&hellip;</td><td>&hellip;</td><td>&hellip;</td><td>&hellip;</td><td>&hellip;</td><td>&hellip;</td><td>&hellip;</td><td>&hellip;</td><td>&hellip;</td><td>&hellip;</td><td>&hellip;</td><td>&hellip;</td><td>&hellip;</td><td>&hellip;</td><td>&hellip;</td><td>&hellip;</td><td>&hellip;</td><td>&hellip;</td><td>&hellip;</td><td>&hellip;</td><td>&hellip;</td><td>&hellip;</td><td>&hellip;</td><td>&hellip;</td></tr><tr><td>&quot;anual_misma_vigencia&quot;</td><td>&quot;comision_rea_prop&quot;</td><td>&quot;mantenido&quot;</td><td>124324091</td><td>null</td><td>3517986098</td><td>&quot;INVALIDEZ&quot;</td><td>124324511</td><td>&quot;02&quot;</td><td>&quot;083&quot;</td><td>null</td><td>&quot;plan_3&quot;</td><td>null</td><td>&quot;USD&quot;</td><td>2024-01-01</td><td>2024-01-15</td><td>2025-01-15</td><td>2024-01-15</td><td>2025-01-15</td><td>null</td><td>&quot;recibo&quot;</td><td>-1</td><td>0</td><td>2024-01-15</td><td>null</td><td>null</td><td>null</td><td>null</td><td>null</td><td>null</td><td>1111</td><td>6987458</td><td>&quot;int&quot;</td><td>0.3</td><td>null</td><td>null</td><td>null</td><td>&hellip;</td><td>null</td><td>2024-11-30</td><td>null</td><td>-1.569482</td><td>&quot;comision_cesion&quot;</td><td>&quot;ifrs4&quot;</td><td>&quot;diario&quot;</td><td>&quot;reaseguro_proporcional&quot;</td><td>null</td><td>&quot;anio_actual&quot;</td><td>0</td><td>2024-12-01</td><td>2024-12-31</td><td>2024-01-01</td><td>2024-01-15</td><td>2025-01-15</td><td>36.0</td><td>352</td><td>15</td><td>true</td><td>367</td><td>31</td><td>0.098093</td><td>null</td><td>null</td><td>null</td><td>null</td><td>&quot;en_curso&quot;</td><td>-0.0</td><td>3.040872</td><td>34.52861</td><td>-1.47139</td><td>5513.0</td><td>5408.0</td><td>4865.0</td><td>-154.495913</td><td>-319.291553</td></tr><tr><td>&quot;anual_misma_vigencia&quot;</td><td>&quot;gasto_otro_directo&quot;</td><td>&quot;directo&quot;</td><td>124324091</td><td>2024-01-01</td><td>2938429895</td><td>&quot;INVALIDEZ&quot;</td><td>124324511</td><td>&quot;02&quot;</td><td>&quot;083&quot;</td><td>&quot;banca&quot;</td><td>&quot;plan_3&quot;</td><td>&quot;emision&quot;</td><td>&quot;USD&quot;</td><td>2024-01-01</td><td>2024-01-15</td><td>2025-01-15</td><td>2024-01-15</td><td>2025-01-15</td><td>1200.0</td><td>&quot;recibo&quot;</td><td>1</td><td>1</td><td>2024-01-15</td><td>&quot;expedicion_otros&quot;</td><td>0.6</td><td>2</td><td>1</td><td>null</td><td>null</td><td>null</td><td>null</td><td>null</td><td>null</td><td>null</td><td>null</td><td>null</td><td>&hellip;</td><td>null</td><td>2024-11-30</td><td>null</td><td>-31.389646</td><td>&quot;gasto_exp_otros&quot;</td><td>&quot;ifrs4&quot;</td><td>&quot;diario&quot;</td><td>&quot;directo&quot;</td><td>2024</td><td>&quot;anio_actual&quot;</td><td>0</td><td>2024-12-01</td><td>2024-12-31</td><td>2024-01-01</td><td>2024-01-15</td><td>2025-01-15</td><td>720.0</td><td>352</td><td>15</td><td>true</td><td>367</td><td>31</td><td>1.961853</td><td>null</td><td>null</td><td>null</td><td>null</td><td>&quot;en_curso&quot;</td><td>0.0</td><td>-60.817439</td><td>-690.572207</td><td>29.427793</td><td>5513.0</td><td>5408.0</td><td>4865.0</td><td>3089.918256</td><td>6385.831063</td></tr><tr><td>&quot;anual_misma_vigencia&quot;</td><td>&quot;gasto_otro_directo&quot;</td><td>&quot;directo&quot;</td><td>124324091</td><td>2024-01-01</td><td>2938429895</td><td>&quot;INVALIDEZ&quot;</td><td>124324511</td><td>&quot;02&quot;</td><td>&quot;083&quot;</td><td>&quot;banca&quot;</td><td>&quot;plan_3&quot;</td><td>&quot;emision&quot;</td><td>&quot;USD&quot;</td><td>2024-01-01</td><td>2024-01-15</td><td>2025-01-15</td><td>2024-01-15</td><td>2025-01-15</td><td>1200.0</td><td>&quot;cobertura&quot;</td><td>1</td><td>0</td><td>2024-01-15</td><td>&quot;expedicion_otros&quot;</td><td>0.6</td><td>2</td><td>1</td><td>null</td><td>null</td><td>null</td><td>null</td><td>null</td><td>null</td><td>null</td><td>null</td><td>null</td><td>&hellip;</td><td>null</td><td>2024-11-30</td><td>null</td><td>-31.389646</td><td>&quot;gasto_exp_otros&quot;</td><td>&quot;ifrs17_corporativo&quot;</td><td>&quot;diario&quot;</td><td>&quot;directo&quot;</td><td>2024</td><td>&quot;anio_actual&quot;</td><td>0</td><td>2024-12-01</td><td>2024-12-31</td><td>2024-01-01</td><td>2024-01-15</td><td>2025-01-15</td><td>720.0</td><td>352</td><td>15</td><td>true</td><td>367</td><td>31</td><td>1.961853</td><td>null</td><td>null</td><td>null</td><td>null</td><td>&quot;en_curso&quot;</td><td>0.0</td><td>-60.817439</td><td>-690.572207</td><td>29.427793</td><td>5513.0</td><td>5408.0</td><td>4865.0</td><td>3089.918256</td><td>6385.831063</td></tr><tr><td>&quot;anual_misma_vigencia&quot;</td><td>&quot;dcto_directo&quot;</td><td>&quot;directo&quot;</td><td>124324091</td><td>2024-01-01</td><td>2938429895</td><td>&quot;INVALIDEZ&quot;</td><td>124324511</td><td>&quot;02&quot;</td><td>&quot;083&quot;</td><td>&quot;banca&quot;</td><td>&quot;plan_3&quot;</td><td>&quot;emision&quot;</td><td>&quot;USD&quot;</td><td>2024-01-01</td><td>2024-01-15</td><td>2025-01-15</td><td>2024-01-15</td><td>2025-01-15</td><td>1200.0</td><td>&quot;recibo&quot;</td><td>-1</td><td>1</td><td>2024-01-15</td><td>null</td><td>null</td><td>null</td><td>null</td><td>0.06</td><td>0.04</td><td>null</td><td>null</td><td>null</td><td>null</td><td>null</td><td>null</td><td>null</td><td>&hellip;</td><td>null</td><td>2024-11-30</td><td>null</td><td>-3.487738</td><td>&quot;descuento_comercial&quot;</td><td>&quot;ifrs4&quot;</td><td>&quot;diario&quot;</td><td>&quot;directo&quot;</td><td>2024</td><td>&quot;anio_actual&quot;</td><td>0</td><td>2024-12-01</td><td>2024-12-31</td><td>2024-01-01</td><td>2024-01-15</td><td>2025-01-15</td><td>80.0</td><td>352</td><td>15</td><td>true</td><td>367</td><td>31</td><td>0.217984</td><td>null</td><td>null</td><td>null</td><td>null</td><td>&quot;en_curso&quot;</td><td>-0.0</td><td>6.757493</td><td>76.730245</td><td>-3.269755</td><td>5513.0</td><td>5408.0</td><td>4865.0</td><td>-343.324251</td><td>-709.536785</td></tr><tr><td>&quot;anual_misma_vigencia&quot;</td><td>&quot;cesion_rea_prop&quot;</td><td>&quot;mantenido&quot;</td><td>124324091</td><td>2024-01-01</td><td>293842989501</td><td>&quot;INVALIDEZ&quot;</td><td>124324511</td><td>&quot;02&quot;</td><td>&quot;083&quot;</td><td>&quot;banca&quot;</td><td>&quot;plan_3&quot;</td><td>&quot;emision&quot;</td><td>&quot;USD&quot;</td><td>2024-01-01</td><td>2024-01-15</td><td>2025-01-15</td><td>2024-01-15</td><td>2025-01-15</td><td>1200.0</td><td>&quot;recibo&quot;</td><td>1</td><td>1</td><td>2024-01-15</td><td>null</td><td>null</td><td>null</td><td>null</td><td>null</td><td>null</td><td>1111</td><td>3693358</td><td>&quot;ext&quot;</td><td>0.3</td><td>2023-07-01</td><td>2024-06-30</td><td>600</td><td>&hellip;</td><td>null</td><td>2024-11-30</td><td>null</td><td>-7.847411</td><td>&quot;prima&quot;</td><td>&quot;ifrs4&quot;</td><td>&quot;diario&quot;</td><td>&quot;reaseguro_proporcional&quot;</td><td>2023</td><td>&quot;anio_actual&quot;</td><td>0</td><td>2024-12-01</td><td>2024-12-31</td><td>2024-01-01</td><td>2024-01-15</td><td>2025-01-15</td><td>180.0</td><td>352</td><td>15</td><td>true</td><td>367</td><td>31</td><td>0.490463</td><td>null</td><td>null</td><td>null</td><td>null</td><td>&quot;en_curso&quot;</td><td>0.0</td><td>-15.20436</td><td>-172.643052</td><td>7.356948</td><td>5513.0</td><td>5408.0</td><td>4865.0</td><td>772.479564</td><td>1596.457766</td></tr></tbody></table></div>"
      ],
      "text/plain": [
       "shape: (169, 85)\n",
       "┌───────────┬───────────┬───────────┬───────────┬───┬───────────┬───────────┬───────────┬──────────┐\n",
       "│ aux_casui ┆ tipo_insu ┆ tipo_nego ┆ poliza    ┆ … ┆ tasa_camb ┆ tasa_camb ┆ fluctuaci ┆ fluctuac │\n",
       "│ stica     ┆ mo        ┆ cio       ┆ ---       ┆   ┆ io_fecha_ ┆ io_fecha_ ┆ on_consti ┆ ion_libe │\n",
       "│ ---       ┆ ---       ┆ ---       ┆ i64       ┆   ┆ valoracio ┆ constituc ┆ tucion    ┆ racion   │\n",
       "│ str       ┆ str       ┆ str       ┆           ┆   ┆ n_a…      ┆ ion       ┆ ---       ┆ ---      │\n",
       "│           ┆           ┆           ┆           ┆   ┆ ---       ┆ ---       ┆ f64       ┆ f64      │\n",
       "│           ┆           ┆           ┆           ┆   ┆ f64       ┆ f64       ┆           ┆          │\n",
       "╞═══════════╪═══════════╪═══════════╪═══════════╪═══╪═══════════╪═══════════╪═══════════╪══════════╡\n",
       "│ modificac ┆ produccio ┆ directo   ┆ 323423423 ┆ … ┆ 1.0       ┆ 1.0       ┆ 0.0       ┆ 0.0      │\n",
       "│ ion_valor ┆ n_directo ┆           ┆           ┆   ┆           ┆           ┆           ┆          │\n",
       "│ able_auto ┆           ┆           ┆           ┆   ┆           ┆           ┆           ┆          │\n",
       "│ s         ┆           ┆           ┆           ┆   ┆           ┆           ┆           ┆          │\n",
       "│ mensual_m ┆ produccio ┆ directo   ┆ 345675387 ┆ … ┆ 1.0       ┆ 1.0       ┆ 0.0       ┆ 0.0      │\n",
       "│ es_fin    ┆ n_directo ┆           ┆           ┆   ┆           ┆           ┆           ┆          │\n",
       "│ modificac ┆ produccio ┆ directo   ┆ 323423423 ┆ … ┆ 1.0       ┆ 1.0       ┆ 0.0       ┆ 0.0      │\n",
       "│ ion_valor ┆ n_directo ┆           ┆           ┆   ┆           ┆           ┆           ┆          │\n",
       "│ able_auto ┆           ┆           ┆           ┆   ┆           ┆           ┆           ┆          │\n",
       "│ s         ┆           ┆           ┆           ┆   ┆           ┆           ┆           ┆          │\n",
       "│ modificac ┆ produccio ┆ directo   ┆ 323423423 ┆ … ┆ 1.0       ┆ 1.0       ┆ 0.0       ┆ 0.0      │\n",
       "│ ion_valor ┆ n_directo ┆           ┆           ┆   ┆           ┆           ┆           ┆          │\n",
       "│ able_auto ┆           ┆           ┆           ┆   ┆           ┆           ┆           ┆          │\n",
       "│ s         ┆           ┆           ┆           ┆   ┆           ┆           ┆           ┆          │\n",
       "│ mensual_m ┆ produccio ┆ directo   ┆ 345675387 ┆ … ┆ 1.0       ┆ 1.0       ┆ 0.0       ┆ 0.0      │\n",
       "│ es_fin    ┆ n_directo ┆           ┆           ┆   ┆           ┆           ┆           ┆          │\n",
       "│ …         ┆ …         ┆ …         ┆ …         ┆ … ┆ …         ┆ …         ┆ …         ┆ …        │\n",
       "│ anual_mis ┆ comision_ ┆ mantenido ┆ 124324091 ┆ … ┆ 5408.0    ┆ 4865.0    ┆ -154.4959 ┆ -319.291 │\n",
       "│ ma_vigenc ┆ rea_prop  ┆           ┆           ┆   ┆           ┆           ┆ 13        ┆ 553      │\n",
       "│ ia        ┆           ┆           ┆           ┆   ┆           ┆           ┆           ┆          │\n",
       "│ anual_mis ┆ gasto_otr ┆ directo   ┆ 124324091 ┆ … ┆ 5408.0    ┆ 4865.0    ┆ 3089.9182 ┆ 6385.831 │\n",
       "│ ma_vigenc ┆ o_directo ┆           ┆           ┆   ┆           ┆           ┆ 56        ┆ 063      │\n",
       "│ ia        ┆           ┆           ┆           ┆   ┆           ┆           ┆           ┆          │\n",
       "│ anual_mis ┆ gasto_otr ┆ directo   ┆ 124324091 ┆ … ┆ 5408.0    ┆ 4865.0    ┆ 3089.9182 ┆ 6385.831 │\n",
       "│ ma_vigenc ┆ o_directo ┆           ┆           ┆   ┆           ┆           ┆ 56        ┆ 063      │\n",
       "│ ia        ┆           ┆           ┆           ┆   ┆           ┆           ┆           ┆          │\n",
       "│ anual_mis ┆ dcto_dire ┆ directo   ┆ 124324091 ┆ … ┆ 5408.0    ┆ 4865.0    ┆ -343.3242 ┆ -709.536 │\n",
       "│ ma_vigenc ┆ cto       ┆           ┆           ┆   ┆           ┆           ┆ 51        ┆ 785      │\n",
       "│ ia        ┆           ┆           ┆           ┆   ┆           ┆           ┆           ┆          │\n",
       "│ anual_mis ┆ cesion_re ┆ mantenido ┆ 124324091 ┆ … ┆ 5408.0    ┆ 4865.0    ┆ 772.47956 ┆ 1596.457 │\n",
       "│ ma_vigenc ┆ a_prop    ┆           ┆           ┆   ┆           ┆           ┆ 4         ┆ 766      │\n",
       "│ ia        ┆           ┆           ┆           ┆   ┆           ┆           ┆           ┆          │\n",
       "└───────────┴───────────┴───────────┴───────────┴───┴───────────┴───────────┴───────────┴──────────┘"
      ]
     },
     "execution_count": 14,
     "metadata": {},
     "output_type": "execute_result"
    }
   ],
   "source": [
    "# devuelve la base ya devengada, con las columnas adicionales de fluctuación\n",
    "output_fluct = fluc.calc_fluctuacion(output_todos, tasa_cambio)\n",
    "output_fluct"
   ]
  },
  {
   "attachments": {},
   "cell_type": "markdown",
   "metadata": {},
   "source": [
    "# 4. Deterioro [Solo Reaseguro]\n",
    "\n",
    "El deterioro es un proceso que aplica únicamente a las reservas de Reaseguro. El objetivo es determinar el valor con una alta probabilidad de incobrabilidad por riesgo de crédito asociado al reasegurador. Es decir, calcular una pérdida por la probabilidad de que el reasegurador no pueda responder por sus obligaciones futuras valoradas en la reserva PCR.\n",
    "\n",
    "- Solo aplica a reaseguro cuando la posición de la reserva PCR es activa, es decir reaseguro mantenido (cedido) y reaseguro retrocedido.\n",
    "- Debe ser trazable la fecha de valoración y probabilidad de default (incumplimiento) por reasegurador $t$ con las cuales se calcula el deterioro\n",
    "\n",
    "$$\n",
    "\\text{deterioro}_t^{r} = \\text{saldo}_t^{r} \\times \\text{PD}_t^r\n",
    "$$\n",
    "\n",
    "Donde: \n",
    "- $r$ reasegurador\n",
    "- $t$ es la fecha de valoración\n",
    "- $PD_t^r$ probabilidad de incumplimiento del reasegurador r en el momento t(Fuente Riesgo Crédito)\n",
    "\n",
    "La contabilización del deterioro se hace en movimientos. \n",
    "\n",
    "1. **Constitución Deterioro:** se constituye deterioro del saldo final de la PCR por un incremento en probabilidad de incumplimiento\n",
    "$$\n",
    "\\text{constitucion deterioro}_t^{r} = saldo_t^r \\times \\max(\\text{PD}_{t}^{r} - \\text{PD}_{t-1}^{r}, 0)\n",
    "$$\n",
    "2. **Liberación Deterioro:** se pueden producir liberaciones de deterioro en 2 casos que pueden ocurrir a la vez:\n",
    "     - El saldo de la PCR se reduce respecto al periodo anterior\n",
    "     - La probabilidad de incumplimiento del reasegurador disminuye respecto al periodo anterior\n",
    "    \n",
    "$$\n",
    "\\text{liberacion deterioro}_t^{r} = \\min(\\text{saldo}_{t}^{r} - \\text{saldo}_{t-1}^{r}, 0) \\times \\text{PD}_{t-1}^{r} + saldo_{t-1}^r \\times \\min(\\text{PD}_{t}^{r} - \\text{PD}_{t-1}^{r}, 0)\n",
    "$$\n",
    "\n",
    "El valor de cada movimiento debe calcularse en moneda original del documento"
   ]
  },
  {
   "cell_type": "code",
   "execution_count": 15,
   "metadata": {},
   "outputs": [
    {
     "name": "stdout",
     "output_type": "stream",
     "text": [
      "(169, 85) (70, 85) (70, 88)\n",
      "(169, 85) (70, 85) (99, 90) (70, 90)\n"
     ]
    },
    {
     "data": {
      "text/html": [
       "<div><style>\n",
       ".dataframe > thead > tr,\n",
       ".dataframe > tbody > tr {\n",
       "  text-align: right;\n",
       "  white-space: pre-wrap;\n",
       "}\n",
       "</style>\n",
       "<small>shape: (169, 90)</small><table border=\"1\" class=\"dataframe\"><thead><tr><th>aux_casuistica</th><th>tipo_insumo</th><th>tipo_negocio</th><th>poliza</th><th>fecha_expedicion_poliza</th><th>recibo</th><th>amparo</th><th>poliza_certificado</th><th>compania</th><th>ramo_sura</th><th>canal</th><th>producto</th><th>tipo_op</th><th>moneda</th><th>fecha_contabilizacion_recibo</th><th>fecha_inicio_vigencia_recibo</th><th>fecha_fin_vigencia_recibo</th><th>fecha_inicio_vigencia_cobertura</th><th>fecha_fin_vigencia_cobertura</th><th>valor_prima_emitida</th><th>nivel_detalle</th><th>signo_constitucion</th><th>candidato_devengo_50_50</th><th>fecha_inicio_vigencia</th><th>tipo_gasto</th><th>porc_gasto</th><th>prioridad_match</th><th>rn</th><th>podto_comercial</th><th>podto_tecnico</th><th>contrato_reaseguro</th><th>nit_reasegurador</th><th>tipo_reasegurador</th><th>porc_participacion_reasegurador</th><th>fe_ini_vig_contrato_reaseguro</th><th>fe_fin_vig_contrato_reaseguro</th><th>valor_prima_cedida</th><th>&hellip;</th><th>tipo_contabilidad</th><th>regla_devengo</th><th>tipo_contrato</th><th>cohorte</th><th>anio_liberacion</th><th>transicion</th><th>fecha_inicio_periodo</th><th>fecha_valoracion</th><th>fecha_constitucion</th><th>fecha_inicio_devengo</th><th>fecha_fin_devengo</th><th>valor_base_devengo</th><th>dias_devengados</th><th>dias_no_devengados</th><th>control_suma_dias</th><th>dias_constitucion</th><th>dias_liberacion</th><th>valor_devengo_diario</th><th>mes_constitucion</th><th>mes_ini_liberacion</th><th>mes_fin_liberacion</th><th>porc_consumo_limite</th><th>estado_devengo</th><th>valor_constitucion</th><th>valor_liberacion</th><th>valor_liberacion_acum</th><th>saldo</th><th>tasa_cambio_fecha_valoracion</th><th>tasa_cambio_fecha_valoracion_anterior</th><th>tasa_cambio_fecha_constitucion</th><th>fluctuacion_constitucion</th><th>fluctuacion_liberacion</th><th>prob_incumplimiento_actual</th><th>prob_incumplimiento_anterior</th><th>cambio_prob_incumplimiento</th><th>constitucion_deterioro</th><th>liberacion_deterioro</th></tr><tr><td>str</td><td>str</td><td>str</td><td>i64</td><td>date</td><td>i64</td><td>str</td><td>i64</td><td>str</td><td>str</td><td>str</td><td>str</td><td>str</td><td>str</td><td>date</td><td>date</td><td>date</td><td>date</td><td>date</td><td>f64</td><td>str</td><td>i64</td><td>i32</td><td>date</td><td>str</td><td>f64</td><td>i32</td><td>i64</td><td>f64</td><td>f64</td><td>i64</td><td>i64</td><td>str</td><td>f64</td><td>date</td><td>date</td><td>i64</td><td>&hellip;</td><td>str</td><td>str</td><td>str</td><td>i32</td><td>str</td><td>i32</td><td>date</td><td>date</td><td>date</td><td>date</td><td>date</td><td>f64</td><td>i64</td><td>i64</td><td>bool</td><td>i64</td><td>i64</td><td>f64</td><td>i32</td><td>i32</td><td>i32</td><td>f64</td><td>str</td><td>f64</td><td>f64</td><td>f64</td><td>f64</td><td>f64</td><td>f64</td><td>f64</td><td>f64</td><td>f64</td><td>f64</td><td>f64</td><td>f64</td><td>f64</td><td>f64</td></tr></thead><tbody><tr><td>&quot;modificacion_valorable_autos&quot;</td><td>&quot;produccion_directo&quot;</td><td>&quot;directo&quot;</td><td>323423423</td><td>2024-01-30</td><td>2938433191</td><td>&quot;DANOS&quot;</td><td>323423843</td><td>&quot;01&quot;</td><td>&quot;040&quot;</td><td>&quot;sucursal&quot;</td><td>&quot;plan_basico&quot;</td><td>&quot;modificacion_valorable&quot;</td><td>&quot;COP&quot;</td><td>2024-01-30</td><td>2024-01-30</td><td>2024-02-15</td><td>2024-01-30</td><td>2024-02-15</td><td>50.0</td><td>&quot;cobertura&quot;</td><td>-1</td><td>0</td><td>2024-01-30</td><td>null</td><td>null</td><td>null</td><td>null</td><td>null</td><td>null</td><td>null</td><td>null</td><td>null</td><td>null</td><td>null</td><td>null</td><td>null</td><td>&hellip;</td><td>&quot;ifrs17_local&quot;</td><td>&quot;diario&quot;</td><td>&quot;directo&quot;</td><td>2024</td><td>&quot;no_aplica&quot;</td><td>0</td><td>2024-12-01</td><td>2024-12-31</td><td>2024-01-30</td><td>2024-01-30</td><td>2024-02-15</td><td>50.0</td><td>0</td><td>0</td><td>true</td><td>0</td><td>0</td><td>0.0</td><td>null</td><td>null</td><td>null</td><td>null</td><td>&quot;finalizado&quot;</td><td>-0.0</td><td>0.0</td><td>0.0</td><td>-0.0</td><td>1.0</td><td>1.0</td><td>1.0</td><td>0.0</td><td>0.0</td><td>null</td><td>null</td><td>null</td><td>null</td><td>null</td></tr><tr><td>&quot;mensual_mes_fin&quot;</td><td>&quot;produccion_directo&quot;</td><td>&quot;directo&quot;</td><td>345675387</td><td>2024-02-20</td><td>2938431543</td><td>&quot;HURTO&quot;</td><td>345675807</td><td>&quot;01&quot;</td><td>&quot;040&quot;</td><td>&quot;sucursal&quot;</td><td>&quot;plan_2&quot;</td><td>&quot;emision&quot;</td><td>&quot;COP&quot;</td><td>2024-02-20</td><td>2024-01-15</td><td>2024-02-15</td><td>2024-01-15</td><td>2024-02-15</td><td>100.0</td><td>&quot;cobertura&quot;</td><td>-1</td><td>0</td><td>2024-01-15</td><td>null</td><td>null</td><td>null</td><td>null</td><td>null</td><td>null</td><td>null</td><td>null</td><td>null</td><td>null</td><td>null</td><td>null</td><td>null</td><td>&hellip;</td><td>&quot;ifrs17_local&quot;</td><td>&quot;diario&quot;</td><td>&quot;directo&quot;</td><td>2024</td><td>&quot;no_aplica&quot;</td><td>0</td><td>2024-12-01</td><td>2024-12-31</td><td>2024-02-20</td><td>2024-02-20</td><td>2024-02-15</td><td>100.0</td><td>352</td><td>0</td><td>false</td><td>32</td><td>32</td><td>3.125</td><td>null</td><td>null</td><td>null</td><td>null</td><td>&quot;entra_devengado&quot;</td><td>-0.0</td><td>100.0</td><td>1100.0</td><td>-0.0</td><td>1.0</td><td>1.0</td><td>1.0</td><td>0.0</td><td>0.0</td><td>null</td><td>null</td><td>null</td><td>null</td><td>null</td></tr><tr><td>&quot;modificacion_valorable_autos&quot;</td><td>&quot;produccion_directo&quot;</td><td>&quot;directo&quot;</td><td>323423423</td><td>2024-01-30</td><td>2938433191</td><td>&quot;DANOS&quot;</td><td>323423843</td><td>&quot;01&quot;</td><td>&quot;040&quot;</td><td>&quot;sucursal&quot;</td><td>&quot;plan_basico&quot;</td><td>&quot;modificacion_valorable&quot;</td><td>&quot;COP&quot;</td><td>2024-01-30</td><td>2024-01-30</td><td>2024-02-15</td><td>2024-01-30</td><td>2024-02-15</td><td>50.0</td><td>&quot;recibo&quot;</td><td>-1</td><td>0</td><td>2024-01-30</td><td>null</td><td>null</td><td>null</td><td>null</td><td>null</td><td>null</td><td>null</td><td>null</td><td>null</td><td>null</td><td>null</td><td>null</td><td>null</td><td>&hellip;</td><td>&quot;ifrs4&quot;</td><td>&quot;diario&quot;</td><td>&quot;directo&quot;</td><td>2024</td><td>&quot;no_aplica&quot;</td><td>0</td><td>2024-12-01</td><td>2024-12-31</td><td>2024-01-30</td><td>2024-01-30</td><td>2024-02-15</td><td>50.0</td><td>0</td><td>0</td><td>true</td><td>0</td><td>0</td><td>0.0</td><td>null</td><td>null</td><td>null</td><td>null</td><td>&quot;finalizado&quot;</td><td>-0.0</td><td>0.0</td><td>0.0</td><td>-0.0</td><td>1.0</td><td>1.0</td><td>1.0</td><td>0.0</td><td>0.0</td><td>null</td><td>null</td><td>null</td><td>null</td><td>null</td></tr><tr><td>&quot;modificacion_valorable_autos&quot;</td><td>&quot;produccion_directo&quot;</td><td>&quot;directo&quot;</td><td>323423423</td><td>2024-01-30</td><td>2938433191</td><td>&quot;DANOS&quot;</td><td>323423843</td><td>&quot;01&quot;</td><td>&quot;040&quot;</td><td>&quot;sucursal&quot;</td><td>&quot;plan_basico&quot;</td><td>&quot;modificacion_valorable&quot;</td><td>&quot;COP&quot;</td><td>2024-01-30</td><td>2024-01-30</td><td>2024-02-15</td><td>2024-01-30</td><td>2024-02-15</td><td>50.0</td><td>&quot;cobertura&quot;</td><td>-1</td><td>0</td><td>2024-01-30</td><td>null</td><td>null</td><td>null</td><td>null</td><td>null</td><td>null</td><td>null</td><td>null</td><td>null</td><td>null</td><td>null</td><td>null</td><td>null</td><td>&hellip;</td><td>&quot;ifrs17_corporativo&quot;</td><td>&quot;diario&quot;</td><td>&quot;directo&quot;</td><td>2024</td><td>&quot;no_aplica&quot;</td><td>0</td><td>2024-12-01</td><td>2024-12-31</td><td>2024-01-30</td><td>2024-01-30</td><td>2024-02-15</td><td>50.0</td><td>0</td><td>0</td><td>true</td><td>0</td><td>0</td><td>0.0</td><td>null</td><td>null</td><td>null</td><td>null</td><td>&quot;finalizado&quot;</td><td>-0.0</td><td>0.0</td><td>0.0</td><td>-0.0</td><td>1.0</td><td>1.0</td><td>1.0</td><td>0.0</td><td>0.0</td><td>null</td><td>null</td><td>null</td><td>null</td><td>null</td></tr><tr><td>&quot;mensual_mes_fin&quot;</td><td>&quot;produccion_directo&quot;</td><td>&quot;directo&quot;</td><td>345675387</td><td>2024-02-20</td><td>2938431543</td><td>&quot;HURTO&quot;</td><td>345675807</td><td>&quot;01&quot;</td><td>&quot;040&quot;</td><td>&quot;sucursal&quot;</td><td>&quot;plan_2&quot;</td><td>&quot;emision&quot;</td><td>&quot;COP&quot;</td><td>2024-02-20</td><td>2024-01-15</td><td>2024-02-15</td><td>2024-01-15</td><td>2024-02-15</td><td>100.0</td><td>&quot;cobertura&quot;</td><td>-1</td><td>0</td><td>2024-01-15</td><td>null</td><td>null</td><td>null</td><td>null</td><td>null</td><td>null</td><td>null</td><td>null</td><td>null</td><td>null</td><td>null</td><td>null</td><td>null</td><td>&hellip;</td><td>&quot;ifrs17_corporativo&quot;</td><td>&quot;diario&quot;</td><td>&quot;directo&quot;</td><td>2024</td><td>&quot;no_aplica&quot;</td><td>0</td><td>2024-12-01</td><td>2024-12-31</td><td>2024-02-20</td><td>2024-02-20</td><td>2024-02-15</td><td>100.0</td><td>352</td><td>0</td><td>false</td><td>32</td><td>32</td><td>3.125</td><td>null</td><td>null</td><td>null</td><td>null</td><td>&quot;entra_devengado&quot;</td><td>-0.0</td><td>100.0</td><td>1100.0</td><td>-0.0</td><td>1.0</td><td>1.0</td><td>1.0</td><td>0.0</td><td>0.0</td><td>null</td><td>null</td><td>null</td><td>null</td><td>null</td></tr><tr><td>&hellip;</td><td>&hellip;</td><td>&hellip;</td><td>&hellip;</td><td>&hellip;</td><td>&hellip;</td><td>&hellip;</td><td>&hellip;</td><td>&hellip;</td><td>&hellip;</td><td>&hellip;</td><td>&hellip;</td><td>&hellip;</td><td>&hellip;</td><td>&hellip;</td><td>&hellip;</td><td>&hellip;</td><td>&hellip;</td><td>&hellip;</td><td>&hellip;</td><td>&hellip;</td><td>&hellip;</td><td>&hellip;</td><td>&hellip;</td><td>&hellip;</td><td>&hellip;</td><td>&hellip;</td><td>&hellip;</td><td>&hellip;</td><td>&hellip;</td><td>&hellip;</td><td>&hellip;</td><td>&hellip;</td><td>&hellip;</td><td>&hellip;</td><td>&hellip;</td><td>&hellip;</td><td>&hellip;</td><td>&hellip;</td><td>&hellip;</td><td>&hellip;</td><td>&hellip;</td><td>&hellip;</td><td>&hellip;</td><td>&hellip;</td><td>&hellip;</td><td>&hellip;</td><td>&hellip;</td><td>&hellip;</td><td>&hellip;</td><td>&hellip;</td><td>&hellip;</td><td>&hellip;</td><td>&hellip;</td><td>&hellip;</td><td>&hellip;</td><td>&hellip;</td><td>&hellip;</td><td>&hellip;</td><td>&hellip;</td><td>&hellip;</td><td>&hellip;</td><td>&hellip;</td><td>&hellip;</td><td>&hellip;</td><td>&hellip;</td><td>&hellip;</td><td>&hellip;</td><td>&hellip;</td><td>&hellip;</td><td>&hellip;</td><td>&hellip;</td><td>&hellip;</td><td>&hellip;</td><td>&hellip;</td></tr><tr><td>&quot;anual_pre_vigencia&quot;</td><td>&quot;comision_rea_prop&quot;</td><td>&quot;mantenido&quot;</td><td>124324092</td><td>null</td><td>4579088313</td><td>&quot;INVALIDEZ&quot;</td><td>124324512</td><td>&quot;02&quot;</td><td>&quot;083&quot;</td><td>null</td><td>&quot;plan_3&quot;</td><td>null</td><td>&quot;COP&quot;</td><td>2023-11-15</td><td>2024-01-15</td><td>2025-01-15</td><td>2024-01-15</td><td>2025-01-15</td><td>null</td><td>&quot;cobertura&quot;</td><td>-1</td><td>0</td><td>2024-01-15</td><td>null</td><td>null</td><td>null</td><td>null</td><td>null</td><td>null</td><td>1111</td><td>6987458</td><td>&quot;int&quot;</td><td>0.3</td><td>null</td><td>null</td><td>null</td><td>&hellip;</td><td>&quot;ifrs17_local&quot;</td><td>&quot;diario&quot;</td><td>&quot;reaseguro_proporcional&quot;</td><td>null</td><td>&quot;anio_anterior&quot;</td><td>0</td><td>2024-12-01</td><td>2024-12-31</td><td>2023-11-15</td><td>2024-01-15</td><td>2025-01-15</td><td>36.0</td><td>352</td><td>15</td><td>true</td><td>367</td><td>31</td><td>0.098093</td><td>null</td><td>null</td><td>null</td><td>null</td><td>&quot;en_curso&quot;</td><td>-0.0</td><td>3.040872</td><td>34.52861</td><td>-1.47139</td><td>1.0</td><td>1.0</td><td>1.0</td><td>0.0</td><td>0.0</td><td>0.04</td><td>0.02</td><td>0.02</td><td>-0.029428</td><td>0.0</td></tr><tr><td>&quot;anual_pre_vigencia&quot;</td><td>&quot;comision_rea_prop&quot;</td><td>&quot;mantenido&quot;</td><td>124324092</td><td>null</td><td>4579088313</td><td>&quot;INVALIDEZ&quot;</td><td>124324512</td><td>&quot;02&quot;</td><td>&quot;083&quot;</td><td>null</td><td>&quot;plan_3&quot;</td><td>null</td><td>&quot;COP&quot;</td><td>2023-11-15</td><td>2024-01-15</td><td>2025-01-15</td><td>2024-01-15</td><td>2025-01-15</td><td>null</td><td>&quot;recibo&quot;</td><td>-1</td><td>0</td><td>2024-01-15</td><td>null</td><td>null</td><td>null</td><td>null</td><td>null</td><td>null</td><td>1111</td><td>6987458</td><td>&quot;int&quot;</td><td>0.3</td><td>null</td><td>null</td><td>null</td><td>&hellip;</td><td>&quot;ifrs4&quot;</td><td>&quot;diario&quot;</td><td>&quot;reaseguro_proporcional&quot;</td><td>null</td><td>&quot;anio_anterior&quot;</td><td>0</td><td>2024-12-01</td><td>2024-12-31</td><td>2023-11-15</td><td>2024-01-15</td><td>2025-01-15</td><td>36.0</td><td>352</td><td>15</td><td>true</td><td>367</td><td>31</td><td>0.098093</td><td>null</td><td>null</td><td>null</td><td>null</td><td>&quot;en_curso&quot;</td><td>-0.0</td><td>3.040872</td><td>34.52861</td><td>-1.47139</td><td>1.0</td><td>1.0</td><td>1.0</td><td>0.0</td><td>0.0</td><td>0.04</td><td>0.02</td><td>0.02</td><td>-0.029428</td><td>0.0</td></tr><tr><td>&quot;anual_pre_vigencia&quot;</td><td>&quot;comision_rea_prop&quot;</td><td>&quot;mantenido&quot;</td><td>124324092</td><td>null</td><td>5249897308</td><td>&quot;INVALIDEZ&quot;</td><td>124324512</td><td>&quot;02&quot;</td><td>&quot;083&quot;</td><td>null</td><td>&quot;plan_3&quot;</td><td>null</td><td>&quot;COP&quot;</td><td>2023-11-15</td><td>2024-01-15</td><td>2025-01-15</td><td>2024-01-15</td><td>2025-01-15</td><td>null</td><td>&quot;cobertura&quot;</td><td>-1</td><td>0</td><td>2024-01-15</td><td>null</td><td>null</td><td>null</td><td>null</td><td>null</td><td>null</td><td>1111</td><td>2374188</td><td>&quot;int&quot;</td><td>0.4</td><td>null</td><td>null</td><td>null</td><td>&hellip;</td><td>&quot;ifrs17_corporativo&quot;</td><td>&quot;diario&quot;</td><td>&quot;reaseguro_proporcional&quot;</td><td>null</td><td>&quot;anio_anterior&quot;</td><td>0</td><td>2024-12-01</td><td>2024-12-31</td><td>2023-11-15</td><td>2024-01-15</td><td>2025-01-15</td><td>48.0</td><td>352</td><td>15</td><td>true</td><td>367</td><td>31</td><td>0.13079</td><td>null</td><td>null</td><td>null</td><td>null</td><td>&quot;en_curso&quot;</td><td>-0.0</td><td>4.054496</td><td>46.038147</td><td>-1.961853</td><td>1.0</td><td>1.0</td><td>1.0</td><td>0.0</td><td>0.0</td><td>0.06</td><td>0.01</td><td>0.05</td><td>-0.098093</td><td>0.0</td></tr><tr><td>&quot;anual_pre_vigencia&quot;</td><td>&quot;comision_rea_prop&quot;</td><td>&quot;mantenido&quot;</td><td>124324092</td><td>null</td><td>5249897308</td><td>&quot;INVALIDEZ&quot;</td><td>124324512</td><td>&quot;02&quot;</td><td>&quot;083&quot;</td><td>null</td><td>&quot;plan_3&quot;</td><td>null</td><td>&quot;COP&quot;</td><td>2023-11-15</td><td>2024-01-15</td><td>2025-01-15</td><td>2024-01-15</td><td>2025-01-15</td><td>null</td><td>&quot;cobertura&quot;</td><td>-1</td><td>0</td><td>2024-01-15</td><td>null</td><td>null</td><td>null</td><td>null</td><td>null</td><td>null</td><td>1111</td><td>2374188</td><td>&quot;int&quot;</td><td>0.4</td><td>null</td><td>null</td><td>null</td><td>&hellip;</td><td>&quot;ifrs17_local&quot;</td><td>&quot;diario&quot;</td><td>&quot;reaseguro_proporcional&quot;</td><td>null</td><td>&quot;anio_anterior&quot;</td><td>0</td><td>2024-12-01</td><td>2024-12-31</td><td>2023-11-15</td><td>2024-01-15</td><td>2025-01-15</td><td>48.0</td><td>352</td><td>15</td><td>true</td><td>367</td><td>31</td><td>0.13079</td><td>null</td><td>null</td><td>null</td><td>null</td><td>&quot;en_curso&quot;</td><td>-0.0</td><td>4.054496</td><td>46.038147</td><td>-1.961853</td><td>1.0</td><td>1.0</td><td>1.0</td><td>0.0</td><td>0.0</td><td>0.06</td><td>0.01</td><td>0.05</td><td>-0.098093</td><td>0.0</td></tr><tr><td>&quot;anual_pre_vigencia&quot;</td><td>&quot;comision_rea_prop&quot;</td><td>&quot;mantenido&quot;</td><td>124324092</td><td>null</td><td>5249897308</td><td>&quot;INVALIDEZ&quot;</td><td>124324512</td><td>&quot;02&quot;</td><td>&quot;083&quot;</td><td>null</td><td>&quot;plan_3&quot;</td><td>null</td><td>&quot;COP&quot;</td><td>2023-11-15</td><td>2024-01-15</td><td>2025-01-15</td><td>2024-01-15</td><td>2025-01-15</td><td>null</td><td>&quot;recibo&quot;</td><td>-1</td><td>0</td><td>2024-01-15</td><td>null</td><td>null</td><td>null</td><td>null</td><td>null</td><td>null</td><td>1111</td><td>2374188</td><td>&quot;int&quot;</td><td>0.4</td><td>null</td><td>null</td><td>null</td><td>&hellip;</td><td>&quot;ifrs4&quot;</td><td>&quot;diario&quot;</td><td>&quot;reaseguro_proporcional&quot;</td><td>null</td><td>&quot;anio_anterior&quot;</td><td>0</td><td>2024-12-01</td><td>2024-12-31</td><td>2023-11-15</td><td>2024-01-15</td><td>2025-01-15</td><td>48.0</td><td>352</td><td>15</td><td>true</td><td>367</td><td>31</td><td>0.13079</td><td>null</td><td>null</td><td>null</td><td>null</td><td>&quot;en_curso&quot;</td><td>-0.0</td><td>4.054496</td><td>46.038147</td><td>-1.961853</td><td>1.0</td><td>1.0</td><td>1.0</td><td>0.0</td><td>0.0</td><td>0.06</td><td>0.01</td><td>0.05</td><td>-0.098093</td><td>0.0</td></tr></tbody></table></div>"
      ],
      "text/plain": [
       "shape: (169, 90)\n",
       "┌───────────┬───────────┬───────────┬───────────┬───┬───────────┬───────────┬───────────┬──────────┐\n",
       "│ aux_casui ┆ tipo_insu ┆ tipo_nego ┆ poliza    ┆ … ┆ prob_incu ┆ cambio_pr ┆ constituc ┆ liberaci │\n",
       "│ stica     ┆ mo        ┆ cio       ┆ ---       ┆   ┆ mplimient ┆ ob_incump ┆ ion_deter ┆ on_deter │\n",
       "│ ---       ┆ ---       ┆ ---       ┆ i64       ┆   ┆ o_anterio ┆ limiento  ┆ ioro      ┆ ioro     │\n",
       "│ str       ┆ str       ┆ str       ┆           ┆   ┆ r         ┆ ---       ┆ ---       ┆ ---      │\n",
       "│           ┆           ┆           ┆           ┆   ┆ ---       ┆ f64       ┆ f64       ┆ f64      │\n",
       "│           ┆           ┆           ┆           ┆   ┆ f64       ┆           ┆           ┆          │\n",
       "╞═══════════╪═══════════╪═══════════╪═══════════╪═══╪═══════════╪═══════════╪═══════════╪══════════╡\n",
       "│ modificac ┆ produccio ┆ directo   ┆ 323423423 ┆ … ┆ null      ┆ null      ┆ null      ┆ null     │\n",
       "│ ion_valor ┆ n_directo ┆           ┆           ┆   ┆           ┆           ┆           ┆          │\n",
       "│ able_auto ┆           ┆           ┆           ┆   ┆           ┆           ┆           ┆          │\n",
       "│ s         ┆           ┆           ┆           ┆   ┆           ┆           ┆           ┆          │\n",
       "│ mensual_m ┆ produccio ┆ directo   ┆ 345675387 ┆ … ┆ null      ┆ null      ┆ null      ┆ null     │\n",
       "│ es_fin    ┆ n_directo ┆           ┆           ┆   ┆           ┆           ┆           ┆          │\n",
       "│ modificac ┆ produccio ┆ directo   ┆ 323423423 ┆ … ┆ null      ┆ null      ┆ null      ┆ null     │\n",
       "│ ion_valor ┆ n_directo ┆           ┆           ┆   ┆           ┆           ┆           ┆          │\n",
       "│ able_auto ┆           ┆           ┆           ┆   ┆           ┆           ┆           ┆          │\n",
       "│ s         ┆           ┆           ┆           ┆   ┆           ┆           ┆           ┆          │\n",
       "│ modificac ┆ produccio ┆ directo   ┆ 323423423 ┆ … ┆ null      ┆ null      ┆ null      ┆ null     │\n",
       "│ ion_valor ┆ n_directo ┆           ┆           ┆   ┆           ┆           ┆           ┆          │\n",
       "│ able_auto ┆           ┆           ┆           ┆   ┆           ┆           ┆           ┆          │\n",
       "│ s         ┆           ┆           ┆           ┆   ┆           ┆           ┆           ┆          │\n",
       "│ mensual_m ┆ produccio ┆ directo   ┆ 345675387 ┆ … ┆ null      ┆ null      ┆ null      ┆ null     │\n",
       "│ es_fin    ┆ n_directo ┆           ┆           ┆   ┆           ┆           ┆           ┆          │\n",
       "│ …         ┆ …         ┆ …         ┆ …         ┆ … ┆ …         ┆ …         ┆ …         ┆ …        │\n",
       "│ anual_pre ┆ comision_ ┆ mantenido ┆ 124324092 ┆ … ┆ 0.02      ┆ 0.02      ┆ -0.029428 ┆ 0.0      │\n",
       "│ _vigencia ┆ rea_prop  ┆           ┆           ┆   ┆           ┆           ┆           ┆          │\n",
       "│ anual_pre ┆ comision_ ┆ mantenido ┆ 124324092 ┆ … ┆ 0.02      ┆ 0.02      ┆ -0.029428 ┆ 0.0      │\n",
       "│ _vigencia ┆ rea_prop  ┆           ┆           ┆   ┆           ┆           ┆           ┆          │\n",
       "│ anual_pre ┆ comision_ ┆ mantenido ┆ 124324092 ┆ … ┆ 0.01      ┆ 0.05      ┆ -0.098093 ┆ 0.0      │\n",
       "│ _vigencia ┆ rea_prop  ┆           ┆           ┆   ┆           ┆           ┆           ┆          │\n",
       "│ anual_pre ┆ comision_ ┆ mantenido ┆ 124324092 ┆ … ┆ 0.01      ┆ 0.05      ┆ -0.098093 ┆ 0.0      │\n",
       "│ _vigencia ┆ rea_prop  ┆           ┆           ┆   ┆           ┆           ┆           ┆          │\n",
       "│ anual_pre ┆ comision_ ┆ mantenido ┆ 124324092 ┆ … ┆ 0.01      ┆ 0.05      ┆ -0.098093 ┆ 0.0      │\n",
       "│ _vigencia ┆ rea_prop  ┆           ┆           ┆   ┆           ┆           ┆           ┆          │\n",
       "└───────────┴───────────┴───────────┴───────────┴───┴───────────┴───────────┴───────────┴──────────┘"
      ]
     },
     "execution_count": 15,
     "metadata": {},
     "output_type": "execute_result"
    }
   ],
   "source": [
    "import src.deterioro as det\n",
    "\n",
    "# Calcula el output del deterioro con movimientos del mes y el historico actualizado\n",
    "output_deterioro= det.calc_deterioro(\n",
    "    output_devengo_fluc=output_fluct, \n",
    "    riesgo_credito=input_riesgo_credito,\n",
    "    fe_valoracion=FECHA_VALORACION\n",
    ")\n",
    "# El output con movimientos de deterioro\n",
    "output_deterioro"
   ]
  },
  {
   "cell_type": "code",
   "execution_count": 16,
   "metadata": {},
   "outputs": [
    {
     "data": {
      "text/html": [
       "<div><style>\n",
       ".dataframe > thead > tr,\n",
       ".dataframe > tbody > tr {\n",
       "  text-align: right;\n",
       "  white-space: pre-wrap;\n",
       "}\n",
       "</style>\n",
       "<small>shape: (70, 90)</small><table border=\"1\" class=\"dataframe\"><thead><tr><th>aux_casuistica</th><th>tipo_insumo</th><th>tipo_negocio</th><th>poliza</th><th>fecha_expedicion_poliza</th><th>recibo</th><th>amparo</th><th>poliza_certificado</th><th>compania</th><th>ramo_sura</th><th>canal</th><th>producto</th><th>tipo_op</th><th>moneda</th><th>fecha_contabilizacion_recibo</th><th>fecha_inicio_vigencia_recibo</th><th>fecha_fin_vigencia_recibo</th><th>fecha_inicio_vigencia_cobertura</th><th>fecha_fin_vigencia_cobertura</th><th>valor_prima_emitida</th><th>nivel_detalle</th><th>signo_constitucion</th><th>candidato_devengo_50_50</th><th>fecha_inicio_vigencia</th><th>tipo_gasto</th><th>porc_gasto</th><th>prioridad_match</th><th>rn</th><th>podto_comercial</th><th>podto_tecnico</th><th>contrato_reaseguro</th><th>nit_reasegurador</th><th>tipo_reasegurador</th><th>porc_participacion_reasegurador</th><th>fe_ini_vig_contrato_reaseguro</th><th>fe_fin_vig_contrato_reaseguro</th><th>valor_prima_cedida</th><th>&hellip;</th><th>tipo_contabilidad</th><th>regla_devengo</th><th>tipo_contrato</th><th>cohorte</th><th>anio_liberacion</th><th>transicion</th><th>fecha_inicio_periodo</th><th>fecha_valoracion</th><th>fecha_constitucion</th><th>fecha_inicio_devengo</th><th>fecha_fin_devengo</th><th>valor_base_devengo</th><th>dias_devengados</th><th>dias_no_devengados</th><th>control_suma_dias</th><th>dias_constitucion</th><th>dias_liberacion</th><th>valor_devengo_diario</th><th>mes_constitucion</th><th>mes_ini_liberacion</th><th>mes_fin_liberacion</th><th>porc_consumo_limite</th><th>estado_devengo</th><th>valor_constitucion</th><th>valor_liberacion</th><th>valor_liberacion_acum</th><th>saldo</th><th>tasa_cambio_fecha_valoracion</th><th>tasa_cambio_fecha_valoracion_anterior</th><th>tasa_cambio_fecha_constitucion</th><th>fluctuacion_constitucion</th><th>fluctuacion_liberacion</th><th>prob_incumplimiento_actual</th><th>prob_incumplimiento_anterior</th><th>cambio_prob_incumplimiento</th><th>constitucion_deterioro</th><th>liberacion_deterioro</th></tr><tr><td>str</td><td>str</td><td>str</td><td>i64</td><td>date</td><td>i64</td><td>str</td><td>i64</td><td>str</td><td>str</td><td>str</td><td>str</td><td>str</td><td>str</td><td>date</td><td>date</td><td>date</td><td>date</td><td>date</td><td>f64</td><td>str</td><td>i64</td><td>i32</td><td>date</td><td>str</td><td>f64</td><td>i32</td><td>i64</td><td>f64</td><td>f64</td><td>i64</td><td>i64</td><td>str</td><td>f64</td><td>date</td><td>date</td><td>i64</td><td>&hellip;</td><td>str</td><td>str</td><td>str</td><td>i32</td><td>str</td><td>i32</td><td>date</td><td>date</td><td>date</td><td>date</td><td>date</td><td>f64</td><td>i64</td><td>i64</td><td>bool</td><td>i64</td><td>i64</td><td>f64</td><td>i32</td><td>i32</td><td>i32</td><td>f64</td><td>str</td><td>f64</td><td>f64</td><td>f64</td><td>f64</td><td>f64</td><td>f64</td><td>f64</td><td>f64</td><td>f64</td><td>f64</td><td>f64</td><td>f64</td><td>f64</td><td>f64</td></tr></thead><tbody><tr><td>&quot;mensual_mes_fin&quot;</td><td>&quot;comision_rea_prop&quot;</td><td>&quot;mantenido&quot;</td><td>345675387</td><td>null</td><td>5260869017</td><td>&quot;HURTO&quot;</td><td>345675807</td><td>&quot;01&quot;</td><td>&quot;040&quot;</td><td>null</td><td>&quot;plan_2&quot;</td><td>null</td><td>&quot;COP&quot;</td><td>2024-02-20</td><td>2024-01-15</td><td>2024-02-15</td><td>2024-01-15</td><td>2024-02-15</td><td>null</td><td>&quot;cobertura&quot;</td><td>-1</td><td>0</td><td>2024-01-15</td><td>null</td><td>null</td><td>null</td><td>null</td><td>null</td><td>null</td><td>1245</td><td>3693358</td><td>&quot;ext&quot;</td><td>0.5</td><td>null</td><td>null</td><td>null</td><td>&hellip;</td><td>&quot;ifrs17_corporativo&quot;</td><td>&quot;diario&quot;</td><td>&quot;reaseguro_proporcional&quot;</td><td>null</td><td>&quot;no_aplica&quot;</td><td>0</td><td>2024-12-01</td><td>2024-12-31</td><td>2024-02-20</td><td>2024-02-20</td><td>2024-02-15</td><td>3.0</td><td>352</td><td>0</td><td>false</td><td>32</td><td>32</td><td>0.09375</td><td>null</td><td>null</td><td>null</td><td>null</td><td>&quot;entra_devengado&quot;</td><td>-0.0</td><td>3.0</td><td>33.0</td><td>-0.0</td><td>1.0</td><td>1.0</td><td>1.0</td><td>0.0</td><td>0.0</td><td>0.05</td><td>0.07</td><td>-0.02</td><td>-0.0</td><td>0.0</td></tr><tr><td>&quot;mensual_mes_fin&quot;</td><td>&quot;comision_rea_prop&quot;</td><td>&quot;mantenido&quot;</td><td>345675387</td><td>null</td><td>5260869017</td><td>&quot;HURTO&quot;</td><td>345675807</td><td>&quot;01&quot;</td><td>&quot;040&quot;</td><td>null</td><td>&quot;plan_2&quot;</td><td>null</td><td>&quot;COP&quot;</td><td>2024-02-20</td><td>2024-01-15</td><td>2024-02-15</td><td>2024-01-15</td><td>2024-02-15</td><td>null</td><td>&quot;cobertura&quot;</td><td>-1</td><td>0</td><td>2024-01-15</td><td>null</td><td>null</td><td>null</td><td>null</td><td>null</td><td>null</td><td>1245</td><td>3693358</td><td>&quot;ext&quot;</td><td>0.5</td><td>null</td><td>null</td><td>null</td><td>&hellip;</td><td>&quot;ifrs17_local&quot;</td><td>&quot;diario&quot;</td><td>&quot;reaseguro_proporcional&quot;</td><td>null</td><td>&quot;no_aplica&quot;</td><td>0</td><td>2024-12-01</td><td>2024-12-31</td><td>2024-02-20</td><td>2024-02-20</td><td>2024-02-15</td><td>3.0</td><td>352</td><td>0</td><td>false</td><td>32</td><td>32</td><td>0.09375</td><td>null</td><td>null</td><td>null</td><td>null</td><td>&quot;entra_devengado&quot;</td><td>-0.0</td><td>3.0</td><td>33.0</td><td>-0.0</td><td>1.0</td><td>1.0</td><td>1.0</td><td>0.0</td><td>0.0</td><td>0.05</td><td>0.07</td><td>-0.02</td><td>-0.0</td><td>0.0</td></tr><tr><td>&quot;mensual_mes_fin&quot;</td><td>&quot;comision_rea_prop&quot;</td><td>&quot;mantenido&quot;</td><td>345675387</td><td>null</td><td>5260869017</td><td>&quot;HURTO&quot;</td><td>345675807</td><td>&quot;01&quot;</td><td>&quot;040&quot;</td><td>null</td><td>&quot;plan_2&quot;</td><td>null</td><td>&quot;COP&quot;</td><td>2024-02-20</td><td>2024-01-15</td><td>2024-02-15</td><td>2024-01-15</td><td>2024-02-15</td><td>null</td><td>&quot;recibo&quot;</td><td>-1</td><td>0</td><td>2024-01-15</td><td>null</td><td>null</td><td>null</td><td>null</td><td>null</td><td>null</td><td>1245</td><td>3693358</td><td>&quot;ext&quot;</td><td>0.5</td><td>null</td><td>null</td><td>null</td><td>&hellip;</td><td>&quot;ifrs4&quot;</td><td>&quot;diario&quot;</td><td>&quot;reaseguro_proporcional&quot;</td><td>null</td><td>&quot;no_aplica&quot;</td><td>0</td><td>2024-12-01</td><td>2024-12-31</td><td>2024-02-20</td><td>2024-02-20</td><td>2024-02-15</td><td>3.0</td><td>352</td><td>0</td><td>false</td><td>32</td><td>32</td><td>0.09375</td><td>null</td><td>null</td><td>null</td><td>null</td><td>&quot;entra_devengado&quot;</td><td>-0.0</td><td>3.0</td><td>33.0</td><td>-0.0</td><td>1.0</td><td>1.0</td><td>1.0</td><td>0.0</td><td>0.0</td><td>0.05</td><td>0.07</td><td>-0.02</td><td>-0.0</td><td>0.0</td></tr><tr><td>&quot;mensual_mes_fin&quot;</td><td>&quot;comision_rea_prop&quot;</td><td>&quot;mantenido&quot;</td><td>345675387</td><td>null</td><td>1292794322</td><td>&quot;HURTO&quot;</td><td>345675807</td><td>&quot;01&quot;</td><td>&quot;040&quot;</td><td>null</td><td>&quot;plan_2&quot;</td><td>null</td><td>&quot;COP&quot;</td><td>2024-02-20</td><td>2024-01-15</td><td>2024-02-15</td><td>2024-01-15</td><td>2024-02-15</td><td>null</td><td>&quot;cobertura&quot;</td><td>-1</td><td>0</td><td>2024-01-15</td><td>null</td><td>null</td><td>null</td><td>null</td><td>null</td><td>null</td><td>1245</td><td>2374188</td><td>&quot;int&quot;</td><td>0.5</td><td>null</td><td>null</td><td>null</td><td>&hellip;</td><td>&quot;ifrs17_corporativo&quot;</td><td>&quot;diario&quot;</td><td>&quot;reaseguro_proporcional&quot;</td><td>null</td><td>&quot;no_aplica&quot;</td><td>0</td><td>2024-12-01</td><td>2024-12-31</td><td>2024-02-20</td><td>2024-02-20</td><td>2024-02-15</td><td>3.0</td><td>352</td><td>0</td><td>false</td><td>32</td><td>32</td><td>0.09375</td><td>null</td><td>null</td><td>null</td><td>null</td><td>&quot;entra_devengado&quot;</td><td>-0.0</td><td>3.0</td><td>33.0</td><td>-0.0</td><td>1.0</td><td>1.0</td><td>1.0</td><td>0.0</td><td>0.0</td><td>0.06</td><td>0.01</td><td>0.05</td><td>-0.0</td><td>0.0</td></tr><tr><td>&quot;mensual_mes_fin&quot;</td><td>&quot;comision_rea_prop&quot;</td><td>&quot;mantenido&quot;</td><td>345675387</td><td>null</td><td>1292794322</td><td>&quot;HURTO&quot;</td><td>345675807</td><td>&quot;01&quot;</td><td>&quot;040&quot;</td><td>null</td><td>&quot;plan_2&quot;</td><td>null</td><td>&quot;COP&quot;</td><td>2024-02-20</td><td>2024-01-15</td><td>2024-02-15</td><td>2024-01-15</td><td>2024-02-15</td><td>null</td><td>&quot;cobertura&quot;</td><td>-1</td><td>0</td><td>2024-01-15</td><td>null</td><td>null</td><td>null</td><td>null</td><td>null</td><td>null</td><td>1245</td><td>2374188</td><td>&quot;int&quot;</td><td>0.5</td><td>null</td><td>null</td><td>null</td><td>&hellip;</td><td>&quot;ifrs17_local&quot;</td><td>&quot;diario&quot;</td><td>&quot;reaseguro_proporcional&quot;</td><td>null</td><td>&quot;no_aplica&quot;</td><td>0</td><td>2024-12-01</td><td>2024-12-31</td><td>2024-02-20</td><td>2024-02-20</td><td>2024-02-15</td><td>3.0</td><td>352</td><td>0</td><td>false</td><td>32</td><td>32</td><td>0.09375</td><td>null</td><td>null</td><td>null</td><td>null</td><td>&quot;entra_devengado&quot;</td><td>-0.0</td><td>3.0</td><td>33.0</td><td>-0.0</td><td>1.0</td><td>1.0</td><td>1.0</td><td>0.0</td><td>0.0</td><td>0.06</td><td>0.01</td><td>0.05</td><td>-0.0</td><td>0.0</td></tr><tr><td>&hellip;</td><td>&hellip;</td><td>&hellip;</td><td>&hellip;</td><td>&hellip;</td><td>&hellip;</td><td>&hellip;</td><td>&hellip;</td><td>&hellip;</td><td>&hellip;</td><td>&hellip;</td><td>&hellip;</td><td>&hellip;</td><td>&hellip;</td><td>&hellip;</td><td>&hellip;</td><td>&hellip;</td><td>&hellip;</td><td>&hellip;</td><td>&hellip;</td><td>&hellip;</td><td>&hellip;</td><td>&hellip;</td><td>&hellip;</td><td>&hellip;</td><td>&hellip;</td><td>&hellip;</td><td>&hellip;</td><td>&hellip;</td><td>&hellip;</td><td>&hellip;</td><td>&hellip;</td><td>&hellip;</td><td>&hellip;</td><td>&hellip;</td><td>&hellip;</td><td>&hellip;</td><td>&hellip;</td><td>&hellip;</td><td>&hellip;</td><td>&hellip;</td><td>&hellip;</td><td>&hellip;</td><td>&hellip;</td><td>&hellip;</td><td>&hellip;</td><td>&hellip;</td><td>&hellip;</td><td>&hellip;</td><td>&hellip;</td><td>&hellip;</td><td>&hellip;</td><td>&hellip;</td><td>&hellip;</td><td>&hellip;</td><td>&hellip;</td><td>&hellip;</td><td>&hellip;</td><td>&hellip;</td><td>&hellip;</td><td>&hellip;</td><td>&hellip;</td><td>&hellip;</td><td>&hellip;</td><td>&hellip;</td><td>&hellip;</td><td>&hellip;</td><td>&hellip;</td><td>&hellip;</td><td>&hellip;</td><td>&hellip;</td><td>&hellip;</td><td>&hellip;</td><td>&hellip;</td><td>&hellip;</td></tr><tr><td>&quot;anual_pre_vigencia&quot;</td><td>&quot;comision_rea_prop&quot;</td><td>&quot;mantenido&quot;</td><td>124324092</td><td>null</td><td>4579088313</td><td>&quot;INVALIDEZ&quot;</td><td>124324512</td><td>&quot;02&quot;</td><td>&quot;083&quot;</td><td>null</td><td>&quot;plan_3&quot;</td><td>null</td><td>&quot;COP&quot;</td><td>2023-11-15</td><td>2024-01-15</td><td>2025-01-15</td><td>2024-01-15</td><td>2025-01-15</td><td>null</td><td>&quot;cobertura&quot;</td><td>-1</td><td>0</td><td>2024-01-15</td><td>null</td><td>null</td><td>null</td><td>null</td><td>null</td><td>null</td><td>1111</td><td>6987458</td><td>&quot;int&quot;</td><td>0.3</td><td>null</td><td>null</td><td>null</td><td>&hellip;</td><td>&quot;ifrs17_local&quot;</td><td>&quot;diario&quot;</td><td>&quot;reaseguro_proporcional&quot;</td><td>null</td><td>&quot;anio_anterior&quot;</td><td>0</td><td>2024-12-01</td><td>2024-12-31</td><td>2023-11-15</td><td>2024-01-15</td><td>2025-01-15</td><td>36.0</td><td>352</td><td>15</td><td>true</td><td>367</td><td>31</td><td>0.098093</td><td>null</td><td>null</td><td>null</td><td>null</td><td>&quot;en_curso&quot;</td><td>-0.0</td><td>3.040872</td><td>34.52861</td><td>-1.47139</td><td>1.0</td><td>1.0</td><td>1.0</td><td>0.0</td><td>0.0</td><td>0.04</td><td>0.02</td><td>0.02</td><td>-0.029428</td><td>0.0</td></tr><tr><td>&quot;anual_pre_vigencia&quot;</td><td>&quot;comision_rea_prop&quot;</td><td>&quot;mantenido&quot;</td><td>124324092</td><td>null</td><td>4579088313</td><td>&quot;INVALIDEZ&quot;</td><td>124324512</td><td>&quot;02&quot;</td><td>&quot;083&quot;</td><td>null</td><td>&quot;plan_3&quot;</td><td>null</td><td>&quot;COP&quot;</td><td>2023-11-15</td><td>2024-01-15</td><td>2025-01-15</td><td>2024-01-15</td><td>2025-01-15</td><td>null</td><td>&quot;recibo&quot;</td><td>-1</td><td>0</td><td>2024-01-15</td><td>null</td><td>null</td><td>null</td><td>null</td><td>null</td><td>null</td><td>1111</td><td>6987458</td><td>&quot;int&quot;</td><td>0.3</td><td>null</td><td>null</td><td>null</td><td>&hellip;</td><td>&quot;ifrs4&quot;</td><td>&quot;diario&quot;</td><td>&quot;reaseguro_proporcional&quot;</td><td>null</td><td>&quot;anio_anterior&quot;</td><td>0</td><td>2024-12-01</td><td>2024-12-31</td><td>2023-11-15</td><td>2024-01-15</td><td>2025-01-15</td><td>36.0</td><td>352</td><td>15</td><td>true</td><td>367</td><td>31</td><td>0.098093</td><td>null</td><td>null</td><td>null</td><td>null</td><td>&quot;en_curso&quot;</td><td>-0.0</td><td>3.040872</td><td>34.52861</td><td>-1.47139</td><td>1.0</td><td>1.0</td><td>1.0</td><td>0.0</td><td>0.0</td><td>0.04</td><td>0.02</td><td>0.02</td><td>-0.029428</td><td>0.0</td></tr><tr><td>&quot;anual_pre_vigencia&quot;</td><td>&quot;comision_rea_prop&quot;</td><td>&quot;mantenido&quot;</td><td>124324092</td><td>null</td><td>5249897308</td><td>&quot;INVALIDEZ&quot;</td><td>124324512</td><td>&quot;02&quot;</td><td>&quot;083&quot;</td><td>null</td><td>&quot;plan_3&quot;</td><td>null</td><td>&quot;COP&quot;</td><td>2023-11-15</td><td>2024-01-15</td><td>2025-01-15</td><td>2024-01-15</td><td>2025-01-15</td><td>null</td><td>&quot;cobertura&quot;</td><td>-1</td><td>0</td><td>2024-01-15</td><td>null</td><td>null</td><td>null</td><td>null</td><td>null</td><td>null</td><td>1111</td><td>2374188</td><td>&quot;int&quot;</td><td>0.4</td><td>null</td><td>null</td><td>null</td><td>&hellip;</td><td>&quot;ifrs17_corporativo&quot;</td><td>&quot;diario&quot;</td><td>&quot;reaseguro_proporcional&quot;</td><td>null</td><td>&quot;anio_anterior&quot;</td><td>0</td><td>2024-12-01</td><td>2024-12-31</td><td>2023-11-15</td><td>2024-01-15</td><td>2025-01-15</td><td>48.0</td><td>352</td><td>15</td><td>true</td><td>367</td><td>31</td><td>0.13079</td><td>null</td><td>null</td><td>null</td><td>null</td><td>&quot;en_curso&quot;</td><td>-0.0</td><td>4.054496</td><td>46.038147</td><td>-1.961853</td><td>1.0</td><td>1.0</td><td>1.0</td><td>0.0</td><td>0.0</td><td>0.06</td><td>0.01</td><td>0.05</td><td>-0.098093</td><td>0.0</td></tr><tr><td>&quot;anual_pre_vigencia&quot;</td><td>&quot;comision_rea_prop&quot;</td><td>&quot;mantenido&quot;</td><td>124324092</td><td>null</td><td>5249897308</td><td>&quot;INVALIDEZ&quot;</td><td>124324512</td><td>&quot;02&quot;</td><td>&quot;083&quot;</td><td>null</td><td>&quot;plan_3&quot;</td><td>null</td><td>&quot;COP&quot;</td><td>2023-11-15</td><td>2024-01-15</td><td>2025-01-15</td><td>2024-01-15</td><td>2025-01-15</td><td>null</td><td>&quot;cobertura&quot;</td><td>-1</td><td>0</td><td>2024-01-15</td><td>null</td><td>null</td><td>null</td><td>null</td><td>null</td><td>null</td><td>1111</td><td>2374188</td><td>&quot;int&quot;</td><td>0.4</td><td>null</td><td>null</td><td>null</td><td>&hellip;</td><td>&quot;ifrs17_local&quot;</td><td>&quot;diario&quot;</td><td>&quot;reaseguro_proporcional&quot;</td><td>null</td><td>&quot;anio_anterior&quot;</td><td>0</td><td>2024-12-01</td><td>2024-12-31</td><td>2023-11-15</td><td>2024-01-15</td><td>2025-01-15</td><td>48.0</td><td>352</td><td>15</td><td>true</td><td>367</td><td>31</td><td>0.13079</td><td>null</td><td>null</td><td>null</td><td>null</td><td>&quot;en_curso&quot;</td><td>-0.0</td><td>4.054496</td><td>46.038147</td><td>-1.961853</td><td>1.0</td><td>1.0</td><td>1.0</td><td>0.0</td><td>0.0</td><td>0.06</td><td>0.01</td><td>0.05</td><td>-0.098093</td><td>0.0</td></tr><tr><td>&quot;anual_pre_vigencia&quot;</td><td>&quot;comision_rea_prop&quot;</td><td>&quot;mantenido&quot;</td><td>124324092</td><td>null</td><td>5249897308</td><td>&quot;INVALIDEZ&quot;</td><td>124324512</td><td>&quot;02&quot;</td><td>&quot;083&quot;</td><td>null</td><td>&quot;plan_3&quot;</td><td>null</td><td>&quot;COP&quot;</td><td>2023-11-15</td><td>2024-01-15</td><td>2025-01-15</td><td>2024-01-15</td><td>2025-01-15</td><td>null</td><td>&quot;recibo&quot;</td><td>-1</td><td>0</td><td>2024-01-15</td><td>null</td><td>null</td><td>null</td><td>null</td><td>null</td><td>null</td><td>1111</td><td>2374188</td><td>&quot;int&quot;</td><td>0.4</td><td>null</td><td>null</td><td>null</td><td>&hellip;</td><td>&quot;ifrs4&quot;</td><td>&quot;diario&quot;</td><td>&quot;reaseguro_proporcional&quot;</td><td>null</td><td>&quot;anio_anterior&quot;</td><td>0</td><td>2024-12-01</td><td>2024-12-31</td><td>2023-11-15</td><td>2024-01-15</td><td>2025-01-15</td><td>48.0</td><td>352</td><td>15</td><td>true</td><td>367</td><td>31</td><td>0.13079</td><td>null</td><td>null</td><td>null</td><td>null</td><td>&quot;en_curso&quot;</td><td>-0.0</td><td>4.054496</td><td>46.038147</td><td>-1.961853</td><td>1.0</td><td>1.0</td><td>1.0</td><td>0.0</td><td>0.0</td><td>0.06</td><td>0.01</td><td>0.05</td><td>-0.098093</td><td>0.0</td></tr></tbody></table></div>"
      ],
      "text/plain": [
       "shape: (70, 90)\n",
       "┌───────────┬───────────┬───────────┬───────────┬───┬───────────┬───────────┬───────────┬──────────┐\n",
       "│ aux_casui ┆ tipo_insu ┆ tipo_nego ┆ poliza    ┆ … ┆ prob_incu ┆ cambio_pr ┆ constituc ┆ liberaci │\n",
       "│ stica     ┆ mo        ┆ cio       ┆ ---       ┆   ┆ mplimient ┆ ob_incump ┆ ion_deter ┆ on_deter │\n",
       "│ ---       ┆ ---       ┆ ---       ┆ i64       ┆   ┆ o_anterio ┆ limiento  ┆ ioro      ┆ ioro     │\n",
       "│ str       ┆ str       ┆ str       ┆           ┆   ┆ r         ┆ ---       ┆ ---       ┆ ---      │\n",
       "│           ┆           ┆           ┆           ┆   ┆ ---       ┆ f64       ┆ f64       ┆ f64      │\n",
       "│           ┆           ┆           ┆           ┆   ┆ f64       ┆           ┆           ┆          │\n",
       "╞═══════════╪═══════════╪═══════════╪═══════════╪═══╪═══════════╪═══════════╪═══════════╪══════════╡\n",
       "│ mensual_m ┆ comision_ ┆ mantenido ┆ 345675387 ┆ … ┆ 0.07      ┆ -0.02     ┆ -0.0      ┆ 0.0      │\n",
       "│ es_fin    ┆ rea_prop  ┆           ┆           ┆   ┆           ┆           ┆           ┆          │\n",
       "│ mensual_m ┆ comision_ ┆ mantenido ┆ 345675387 ┆ … ┆ 0.07      ┆ -0.02     ┆ -0.0      ┆ 0.0      │\n",
       "│ es_fin    ┆ rea_prop  ┆           ┆           ┆   ┆           ┆           ┆           ┆          │\n",
       "│ mensual_m ┆ comision_ ┆ mantenido ┆ 345675387 ┆ … ┆ 0.07      ┆ -0.02     ┆ -0.0      ┆ 0.0      │\n",
       "│ es_fin    ┆ rea_prop  ┆           ┆           ┆   ┆           ┆           ┆           ┆          │\n",
       "│ mensual_m ┆ comision_ ┆ mantenido ┆ 345675387 ┆ … ┆ 0.01      ┆ 0.05      ┆ -0.0      ┆ 0.0      │\n",
       "│ es_fin    ┆ rea_prop  ┆           ┆           ┆   ┆           ┆           ┆           ┆          │\n",
       "│ mensual_m ┆ comision_ ┆ mantenido ┆ 345675387 ┆ … ┆ 0.01      ┆ 0.05      ┆ -0.0      ┆ 0.0      │\n",
       "│ es_fin    ┆ rea_prop  ┆           ┆           ┆   ┆           ┆           ┆           ┆          │\n",
       "│ …         ┆ …         ┆ …         ┆ …         ┆ … ┆ …         ┆ …         ┆ …         ┆ …        │\n",
       "│ anual_pre ┆ comision_ ┆ mantenido ┆ 124324092 ┆ … ┆ 0.02      ┆ 0.02      ┆ -0.029428 ┆ 0.0      │\n",
       "│ _vigencia ┆ rea_prop  ┆           ┆           ┆   ┆           ┆           ┆           ┆          │\n",
       "│ anual_pre ┆ comision_ ┆ mantenido ┆ 124324092 ┆ … ┆ 0.02      ┆ 0.02      ┆ -0.029428 ┆ 0.0      │\n",
       "│ _vigencia ┆ rea_prop  ┆           ┆           ┆   ┆           ┆           ┆           ┆          │\n",
       "│ anual_pre ┆ comision_ ┆ mantenido ┆ 124324092 ┆ … ┆ 0.01      ┆ 0.05      ┆ -0.098093 ┆ 0.0      │\n",
       "│ _vigencia ┆ rea_prop  ┆           ┆           ┆   ┆           ┆           ┆           ┆          │\n",
       "│ anual_pre ┆ comision_ ┆ mantenido ┆ 124324092 ┆ … ┆ 0.01      ┆ 0.05      ┆ -0.098093 ┆ 0.0      │\n",
       "│ _vigencia ┆ rea_prop  ┆           ┆           ┆   ┆           ┆           ┆           ┆          │\n",
       "│ anual_pre ┆ comision_ ┆ mantenido ┆ 124324092 ┆ … ┆ 0.01      ┆ 0.05      ┆ -0.098093 ┆ 0.0      │\n",
       "│ _vigencia ┆ rea_prop  ┆           ┆           ┆   ┆           ┆           ┆           ┆          │\n",
       "└───────────┴───────────┴───────────┴───────────┴───┴───────────┴───────────┴───────────┴──────────┘"
      ]
     },
     "execution_count": 16,
     "metadata": {},
     "output_type": "execute_result"
    }
   ],
   "source": [
    "# solo los casos en que aplica deterioro\n",
    "output_deterioro.filter(pl.col('liberacion_deterioro').is_not_null())"
   ]
  },
  {
   "attachments": {},
   "cell_type": "markdown",
   "metadata": {},
   "source": [
    "# 5. Generación del Output Contable\n",
    "- Cada output debe mapearse a una Business Transaction BT con su descripción\n",
    "- [Pendiente en otra HU] Además del output actuarial, deben incluirse los valores de cuentas por cobrar del seguro directo y la apertura de la cuenta corriente del reaseguro con sus respectivas BTs\n",
    "- Cada output debe tener los campos descriptivos con sus códigos de la sábana contable (insumo transversal)"
   ]
  },
  {
   "cell_type": "code",
   "execution_count": 18,
   "metadata": {},
   "outputs": [],
   "source": [
    "# Esta función implementa el mapeo a bts contables, además de asignar los campos de la sábana\n",
    "#output_contable = mapcont.gen_output_contable(output_fluct, input_map_bts, input_tipo_seguro)\n",
    "#output_contable.write_excel('./output/output_contable_muestra.xlsx')\n",
    "#output_contable"
   ]
  },
  {
   "cell_type": "code",
   "execution_count": null,
   "metadata": {},
   "outputs": [],
   "source": []
  }
 ],
 "metadata": {
  "kernelspec": {
   "display_name": "Python 3",
   "language": "python",
   "name": "python3"
  },
  "language_info": {
   "codemirror_mode": {
    "name": "ipython",
    "version": 3
   },
   "file_extension": ".py",
   "mimetype": "text/x-python",
   "name": "python",
   "nbconvert_exporter": "python",
   "pygments_lexer": "ipython3",
   "version": "3.12.3"
  },
  "orig_nbformat": 4
 },
 "nbformat": 4,
 "nbformat_minor": 2
}
